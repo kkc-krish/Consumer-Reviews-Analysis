{
 "cells": [
  {
   "cell_type": "markdown",
   "metadata": {},
   "source": [
    "Data-set source link: https://www.kaggle.com/datafiniti/consumer-reviews-of-amazon-products\n",
    "Problem Statement: Understanding insights from Customer Reviews - identify key product terms in the sentiments (Topic Modelling) - do sentiment analysis (classify sentiments) - understand product wise sentiments \n",
    "\n",
    "Given that we are dealing with Reviews, (Textual Data - Applications of NLP Techniques), following sub analysis - \n",
    "1. Entity Recognition (Named Entity Recognition), 2. Identifying Emerging Trends 3.Sentiment Analysis  4. Text Summarization 5. Topic Modelling \n",
    "and solutions deduced can be applied as universal attempt for exploring the data. \n",
    "\n",
    "We will restrict ourselves to Sentiment Analysis & Topic Modelling and explore advanced enhancements at later when we deploy real time sentiment monitors - probably by streaming data analysis using Databricks/ Apache Spark \n",
    "\n",
    "Further availability of labelled training data sets - especially pretrained word embeddings will helps us to employ Aspect Based Sentiment Analysis and Aspect Sentiment Triplet Extraction "
   ]
  },
  {
   "cell_type": "code",
   "execution_count": 1,
   "metadata": {},
   "outputs": [],
   "source": [
    "#Modelling 1 [Exploratory Analysis 1 and Topic Modelling using LDA]\n",
    "#Importing required packages \n",
    "import os\n",
    "import pandas as pd\n",
    "import sklearn\n",
    "from pandas import DataFrame,Series\n",
    "from sklearn.linear_model import LinearRegression\n",
    "from sklearn import datasets, linear_model\n",
    "import statsmodels.api as sm\n",
    "from sklearn import linear_model\n",
    "from sklearn import preprocessing\n",
    "import numpy as np\n",
    "import matplotlib.pyplot as plt\n",
    "import seaborn as sbn\n",
    "import pylab as pl\n",
    "from collections import Counter\n",
    "from sklearn.metrics import confusion_matrix\n",
    "from nltk.corpus import stopwords\n",
    "from nltk.stem import WordNetLemmatizer\n",
    "from nltk.tokenize import word_tokenize\n",
    "%matplotlib inline"
   ]
  },
  {
   "cell_type": "code",
   "execution_count": 2,
   "metadata": {},
   "outputs": [
    {
     "name": "stderr",
     "output_type": "stream",
     "text": [
      "C:\\Anaconda3\\lib\\site-packages\\IPython\\core\\interactiveshell.py:3165: DtypeWarning: Columns (1,10) have mixed types.Specify dtype option on import or set low_memory=False.\n",
      "  has_raised = await self.run_ast_nodes(code_ast.body, cell_name,\n"
     ]
    }
   ],
   "source": [
    "# Reading the initial data file as data frame  \n",
    "df = pd.read_csv(\"1429_1.csv\")\n",
    " "
   ]
  },
  {
   "cell_type": "code",
   "execution_count": 3,
   "metadata": {},
   "outputs": [
    {
     "data": {
      "text/html": [
       "<div>\n",
       "<style scoped>\n",
       "    .dataframe tbody tr th:only-of-type {\n",
       "        vertical-align: middle;\n",
       "    }\n",
       "\n",
       "    .dataframe tbody tr th {\n",
       "        vertical-align: top;\n",
       "    }\n",
       "\n",
       "    .dataframe thead th {\n",
       "        text-align: right;\n",
       "    }\n",
       "</style>\n",
       "<table border=\"1\" class=\"dataframe\">\n",
       "  <thead>\n",
       "    <tr style=\"text-align: right;\">\n",
       "      <th></th>\n",
       "      <th>id</th>\n",
       "      <th>name</th>\n",
       "      <th>asins</th>\n",
       "      <th>brand</th>\n",
       "      <th>categories</th>\n",
       "      <th>keys</th>\n",
       "      <th>manufacturer</th>\n",
       "      <th>reviews.date</th>\n",
       "      <th>reviews.dateAdded</th>\n",
       "      <th>reviews.dateSeen</th>\n",
       "      <th>...</th>\n",
       "      <th>reviews.doRecommend</th>\n",
       "      <th>reviews.id</th>\n",
       "      <th>reviews.numHelpful</th>\n",
       "      <th>reviews.rating</th>\n",
       "      <th>reviews.sourceURLs</th>\n",
       "      <th>reviews.text</th>\n",
       "      <th>reviews.title</th>\n",
       "      <th>reviews.userCity</th>\n",
       "      <th>reviews.userProvince</th>\n",
       "      <th>reviews.username</th>\n",
       "    </tr>\n",
       "  </thead>\n",
       "  <tbody>\n",
       "    <tr>\n",
       "      <th>0</th>\n",
       "      <td>AVqkIhwDv8e3D1O-lebb</td>\n",
       "      <td>All-New Fire HD 8 Tablet, 8 HD Display, Wi-Fi,...</td>\n",
       "      <td>B01AHB9CN2</td>\n",
       "      <td>Amazon</td>\n",
       "      <td>Electronics,iPad &amp; Tablets,All Tablets,Fire Ta...</td>\n",
       "      <td>841667104676,amazon/53004484,amazon/b01ahb9cn2...</td>\n",
       "      <td>Amazon</td>\n",
       "      <td>2017-01-13T00:00:00.000Z</td>\n",
       "      <td>2017-07-03T23:33:15Z</td>\n",
       "      <td>2017-06-07T09:04:00.000Z,2017-04-30T00:45:00.000Z</td>\n",
       "      <td>...</td>\n",
       "      <td>True</td>\n",
       "      <td>NaN</td>\n",
       "      <td>0.0</td>\n",
       "      <td>5.0</td>\n",
       "      <td>http://reviews.bestbuy.com/3545/5620406/review...</td>\n",
       "      <td>This product so far has not disappointed. My c...</td>\n",
       "      <td>Kindle</td>\n",
       "      <td>NaN</td>\n",
       "      <td>NaN</td>\n",
       "      <td>Adapter</td>\n",
       "    </tr>\n",
       "    <tr>\n",
       "      <th>1</th>\n",
       "      <td>AVqkIhwDv8e3D1O-lebb</td>\n",
       "      <td>All-New Fire HD 8 Tablet, 8 HD Display, Wi-Fi,...</td>\n",
       "      <td>B01AHB9CN2</td>\n",
       "      <td>Amazon</td>\n",
       "      <td>Electronics,iPad &amp; Tablets,All Tablets,Fire Ta...</td>\n",
       "      <td>841667104676,amazon/53004484,amazon/b01ahb9cn2...</td>\n",
       "      <td>Amazon</td>\n",
       "      <td>2017-01-13T00:00:00.000Z</td>\n",
       "      <td>2017-07-03T23:33:15Z</td>\n",
       "      <td>2017-06-07T09:04:00.000Z,2017-04-30T00:45:00.000Z</td>\n",
       "      <td>...</td>\n",
       "      <td>True</td>\n",
       "      <td>NaN</td>\n",
       "      <td>0.0</td>\n",
       "      <td>5.0</td>\n",
       "      <td>http://reviews.bestbuy.com/3545/5620406/review...</td>\n",
       "      <td>great for beginner or experienced person. Boug...</td>\n",
       "      <td>very fast</td>\n",
       "      <td>NaN</td>\n",
       "      <td>NaN</td>\n",
       "      <td>truman</td>\n",
       "    </tr>\n",
       "    <tr>\n",
       "      <th>2</th>\n",
       "      <td>AVqkIhwDv8e3D1O-lebb</td>\n",
       "      <td>All-New Fire HD 8 Tablet, 8 HD Display, Wi-Fi,...</td>\n",
       "      <td>B01AHB9CN2</td>\n",
       "      <td>Amazon</td>\n",
       "      <td>Electronics,iPad &amp; Tablets,All Tablets,Fire Ta...</td>\n",
       "      <td>841667104676,amazon/53004484,amazon/b01ahb9cn2...</td>\n",
       "      <td>Amazon</td>\n",
       "      <td>2017-01-13T00:00:00.000Z</td>\n",
       "      <td>2017-07-03T23:33:15Z</td>\n",
       "      <td>2017-06-07T09:04:00.000Z,2017-04-30T00:45:00.000Z</td>\n",
       "      <td>...</td>\n",
       "      <td>True</td>\n",
       "      <td>NaN</td>\n",
       "      <td>0.0</td>\n",
       "      <td>5.0</td>\n",
       "      <td>http://reviews.bestbuy.com/3545/5620406/review...</td>\n",
       "      <td>Inexpensive tablet for him to use and learn on...</td>\n",
       "      <td>Beginner tablet for our 9 year old son.</td>\n",
       "      <td>NaN</td>\n",
       "      <td>NaN</td>\n",
       "      <td>DaveZ</td>\n",
       "    </tr>\n",
       "    <tr>\n",
       "      <th>3</th>\n",
       "      <td>AVqkIhwDv8e3D1O-lebb</td>\n",
       "      <td>All-New Fire HD 8 Tablet, 8 HD Display, Wi-Fi,...</td>\n",
       "      <td>B01AHB9CN2</td>\n",
       "      <td>Amazon</td>\n",
       "      <td>Electronics,iPad &amp; Tablets,All Tablets,Fire Ta...</td>\n",
       "      <td>841667104676,amazon/53004484,amazon/b01ahb9cn2...</td>\n",
       "      <td>Amazon</td>\n",
       "      <td>2017-01-13T00:00:00.000Z</td>\n",
       "      <td>2017-07-03T23:33:15Z</td>\n",
       "      <td>2017-06-07T09:04:00.000Z,2017-04-30T00:45:00.000Z</td>\n",
       "      <td>...</td>\n",
       "      <td>True</td>\n",
       "      <td>NaN</td>\n",
       "      <td>0.0</td>\n",
       "      <td>4.0</td>\n",
       "      <td>http://reviews.bestbuy.com/3545/5620406/review...</td>\n",
       "      <td>I've had my Fire HD 8 two weeks now and I love...</td>\n",
       "      <td>Good!!!</td>\n",
       "      <td>NaN</td>\n",
       "      <td>NaN</td>\n",
       "      <td>Shacks</td>\n",
       "    </tr>\n",
       "    <tr>\n",
       "      <th>4</th>\n",
       "      <td>AVqkIhwDv8e3D1O-lebb</td>\n",
       "      <td>All-New Fire HD 8 Tablet, 8 HD Display, Wi-Fi,...</td>\n",
       "      <td>B01AHB9CN2</td>\n",
       "      <td>Amazon</td>\n",
       "      <td>Electronics,iPad &amp; Tablets,All Tablets,Fire Ta...</td>\n",
       "      <td>841667104676,amazon/53004484,amazon/b01ahb9cn2...</td>\n",
       "      <td>Amazon</td>\n",
       "      <td>2017-01-12T00:00:00.000Z</td>\n",
       "      <td>2017-07-03T23:33:15Z</td>\n",
       "      <td>2017-06-07T09:04:00.000Z,2017-04-30T00:45:00.000Z</td>\n",
       "      <td>...</td>\n",
       "      <td>True</td>\n",
       "      <td>NaN</td>\n",
       "      <td>0.0</td>\n",
       "      <td>5.0</td>\n",
       "      <td>http://reviews.bestbuy.com/3545/5620406/review...</td>\n",
       "      <td>I bought this for my grand daughter when she c...</td>\n",
       "      <td>Fantastic Tablet for kids</td>\n",
       "      <td>NaN</td>\n",
       "      <td>NaN</td>\n",
       "      <td>explore42</td>\n",
       "    </tr>\n",
       "  </tbody>\n",
       "</table>\n",
       "<p>5 rows × 21 columns</p>\n",
       "</div>"
      ],
      "text/plain": [
       "                     id                                               name  \\\n",
       "0  AVqkIhwDv8e3D1O-lebb  All-New Fire HD 8 Tablet, 8 HD Display, Wi-Fi,...   \n",
       "1  AVqkIhwDv8e3D1O-lebb  All-New Fire HD 8 Tablet, 8 HD Display, Wi-Fi,...   \n",
       "2  AVqkIhwDv8e3D1O-lebb  All-New Fire HD 8 Tablet, 8 HD Display, Wi-Fi,...   \n",
       "3  AVqkIhwDv8e3D1O-lebb  All-New Fire HD 8 Tablet, 8 HD Display, Wi-Fi,...   \n",
       "4  AVqkIhwDv8e3D1O-lebb  All-New Fire HD 8 Tablet, 8 HD Display, Wi-Fi,...   \n",
       "\n",
       "        asins   brand                                         categories  \\\n",
       "0  B01AHB9CN2  Amazon  Electronics,iPad & Tablets,All Tablets,Fire Ta...   \n",
       "1  B01AHB9CN2  Amazon  Electronics,iPad & Tablets,All Tablets,Fire Ta...   \n",
       "2  B01AHB9CN2  Amazon  Electronics,iPad & Tablets,All Tablets,Fire Ta...   \n",
       "3  B01AHB9CN2  Amazon  Electronics,iPad & Tablets,All Tablets,Fire Ta...   \n",
       "4  B01AHB9CN2  Amazon  Electronics,iPad & Tablets,All Tablets,Fire Ta...   \n",
       "\n",
       "                                                keys manufacturer  \\\n",
       "0  841667104676,amazon/53004484,amazon/b01ahb9cn2...       Amazon   \n",
       "1  841667104676,amazon/53004484,amazon/b01ahb9cn2...       Amazon   \n",
       "2  841667104676,amazon/53004484,amazon/b01ahb9cn2...       Amazon   \n",
       "3  841667104676,amazon/53004484,amazon/b01ahb9cn2...       Amazon   \n",
       "4  841667104676,amazon/53004484,amazon/b01ahb9cn2...       Amazon   \n",
       "\n",
       "               reviews.date     reviews.dateAdded  \\\n",
       "0  2017-01-13T00:00:00.000Z  2017-07-03T23:33:15Z   \n",
       "1  2017-01-13T00:00:00.000Z  2017-07-03T23:33:15Z   \n",
       "2  2017-01-13T00:00:00.000Z  2017-07-03T23:33:15Z   \n",
       "3  2017-01-13T00:00:00.000Z  2017-07-03T23:33:15Z   \n",
       "4  2017-01-12T00:00:00.000Z  2017-07-03T23:33:15Z   \n",
       "\n",
       "                                    reviews.dateSeen  ... reviews.doRecommend  \\\n",
       "0  2017-06-07T09:04:00.000Z,2017-04-30T00:45:00.000Z  ...                True   \n",
       "1  2017-06-07T09:04:00.000Z,2017-04-30T00:45:00.000Z  ...                True   \n",
       "2  2017-06-07T09:04:00.000Z,2017-04-30T00:45:00.000Z  ...                True   \n",
       "3  2017-06-07T09:04:00.000Z,2017-04-30T00:45:00.000Z  ...                True   \n",
       "4  2017-06-07T09:04:00.000Z,2017-04-30T00:45:00.000Z  ...                True   \n",
       "\n",
       "  reviews.id  reviews.numHelpful  reviews.rating  \\\n",
       "0        NaN                 0.0             5.0   \n",
       "1        NaN                 0.0             5.0   \n",
       "2        NaN                 0.0             5.0   \n",
       "3        NaN                 0.0             4.0   \n",
       "4        NaN                 0.0             5.0   \n",
       "\n",
       "                                  reviews.sourceURLs  \\\n",
       "0  http://reviews.bestbuy.com/3545/5620406/review...   \n",
       "1  http://reviews.bestbuy.com/3545/5620406/review...   \n",
       "2  http://reviews.bestbuy.com/3545/5620406/review...   \n",
       "3  http://reviews.bestbuy.com/3545/5620406/review...   \n",
       "4  http://reviews.bestbuy.com/3545/5620406/review...   \n",
       "\n",
       "                                        reviews.text  \\\n",
       "0  This product so far has not disappointed. My c...   \n",
       "1  great for beginner or experienced person. Boug...   \n",
       "2  Inexpensive tablet for him to use and learn on...   \n",
       "3  I've had my Fire HD 8 two weeks now and I love...   \n",
       "4  I bought this for my grand daughter when she c...   \n",
       "\n",
       "                             reviews.title reviews.userCity  \\\n",
       "0                                   Kindle              NaN   \n",
       "1                                very fast              NaN   \n",
       "2  Beginner tablet for our 9 year old son.              NaN   \n",
       "3                                  Good!!!              NaN   \n",
       "4                Fantastic Tablet for kids              NaN   \n",
       "\n",
       "   reviews.userProvince  reviews.username  \n",
       "0                   NaN           Adapter  \n",
       "1                   NaN            truman  \n",
       "2                   NaN             DaveZ  \n",
       "3                   NaN            Shacks  \n",
       "4                   NaN         explore42  \n",
       "\n",
       "[5 rows x 21 columns]"
      ]
     },
     "execution_count": 3,
     "metadata": {},
     "output_type": "execute_result"
    }
   ],
   "source": [
    "#First-look at the data \n",
    "df.head()"
   ]
  },
  {
   "cell_type": "code",
   "execution_count": 4,
   "metadata": {},
   "outputs": [
    {
     "name": "stdout",
     "output_type": "stream",
     "text": [
      "<class 'pandas.core.frame.DataFrame'>\n",
      "RangeIndex: 34660 entries, 0 to 34659\n",
      "Data columns (total 21 columns):\n",
      " #   Column                Non-Null Count  Dtype  \n",
      "---  ------                --------------  -----  \n",
      " 0   id                    34660 non-null  object \n",
      " 1   name                  27900 non-null  object \n",
      " 2   asins                 34658 non-null  object \n",
      " 3   brand                 34660 non-null  object \n",
      " 4   categories            34660 non-null  object \n",
      " 5   keys                  34660 non-null  object \n",
      " 6   manufacturer          34660 non-null  object \n",
      " 7   reviews.date          34621 non-null  object \n",
      " 8   reviews.dateAdded     24039 non-null  object \n",
      " 9   reviews.dateSeen      34660 non-null  object \n",
      " 10  reviews.didPurchase   1 non-null      object \n",
      " 11  reviews.doRecommend   34066 non-null  object \n",
      " 12  reviews.id            1 non-null      float64\n",
      " 13  reviews.numHelpful    34131 non-null  float64\n",
      " 14  reviews.rating        34627 non-null  float64\n",
      " 15  reviews.sourceURLs    34660 non-null  object \n",
      " 16  reviews.text          34659 non-null  object \n",
      " 17  reviews.title         34655 non-null  object \n",
      " 18  reviews.userCity      0 non-null      float64\n",
      " 19  reviews.userProvince  0 non-null      float64\n",
      " 20  reviews.username      34658 non-null  object \n",
      "dtypes: float64(5), object(16)\n",
      "memory usage: 5.6+ MB\n"
     ]
    }
   ],
   "source": [
    "#Exploring each column \n",
    "df.info() "
   ]
  },
  {
   "cell_type": "markdown",
   "metadata": {},
   "source": [
    "From the columns presented what we are really interested in working with to complete the sentiment analysis would be the reviews.text and reviews.rating. "
   ]
  },
  {
   "cell_type": "code",
   "execution_count": 5,
   "metadata": {},
   "outputs": [],
   "source": [
    "# the id has been chosen because under name there are more missing values. \n",
    "# from the description the ID represents a device sold by Amazon\n",
    "data = df[[\"id\",\"reviews.text\",\"reviews.rating\"]]\n"
   ]
  },
  {
   "cell_type": "code",
   "execution_count": 6,
   "metadata": {},
   "outputs": [
    {
     "data": {
      "text/html": [
       "<div>\n",
       "<style scoped>\n",
       "    .dataframe tbody tr th:only-of-type {\n",
       "        vertical-align: middle;\n",
       "    }\n",
       "\n",
       "    .dataframe tbody tr th {\n",
       "        vertical-align: top;\n",
       "    }\n",
       "\n",
       "    .dataframe thead th {\n",
       "        text-align: right;\n",
       "    }\n",
       "</style>\n",
       "<table border=\"1\" class=\"dataframe\">\n",
       "  <thead>\n",
       "    <tr style=\"text-align: right;\">\n",
       "      <th></th>\n",
       "      <th>id</th>\n",
       "      <th>reviews.text</th>\n",
       "      <th>reviews.rating</th>\n",
       "    </tr>\n",
       "  </thead>\n",
       "  <tbody>\n",
       "    <tr>\n",
       "      <th>0</th>\n",
       "      <td>AVqkIhwDv8e3D1O-lebb</td>\n",
       "      <td>This product so far has not disappointed. My c...</td>\n",
       "      <td>5.0</td>\n",
       "    </tr>\n",
       "    <tr>\n",
       "      <th>1</th>\n",
       "      <td>AVqkIhwDv8e3D1O-lebb</td>\n",
       "      <td>great for beginner or experienced person. Boug...</td>\n",
       "      <td>5.0</td>\n",
       "    </tr>\n",
       "    <tr>\n",
       "      <th>2</th>\n",
       "      <td>AVqkIhwDv8e3D1O-lebb</td>\n",
       "      <td>Inexpensive tablet for him to use and learn on...</td>\n",
       "      <td>5.0</td>\n",
       "    </tr>\n",
       "    <tr>\n",
       "      <th>3</th>\n",
       "      <td>AVqkIhwDv8e3D1O-lebb</td>\n",
       "      <td>I've had my Fire HD 8 two weeks now and I love...</td>\n",
       "      <td>4.0</td>\n",
       "    </tr>\n",
       "    <tr>\n",
       "      <th>4</th>\n",
       "      <td>AVqkIhwDv8e3D1O-lebb</td>\n",
       "      <td>I bought this for my grand daughter when she c...</td>\n",
       "      <td>5.0</td>\n",
       "    </tr>\n",
       "  </tbody>\n",
       "</table>\n",
       "</div>"
      ],
      "text/plain": [
       "                     id                                       reviews.text  \\\n",
       "0  AVqkIhwDv8e3D1O-lebb  This product so far has not disappointed. My c...   \n",
       "1  AVqkIhwDv8e3D1O-lebb  great for beginner or experienced person. Boug...   \n",
       "2  AVqkIhwDv8e3D1O-lebb  Inexpensive tablet for him to use and learn on...   \n",
       "3  AVqkIhwDv8e3D1O-lebb  I've had my Fire HD 8 two weeks now and I love...   \n",
       "4  AVqkIhwDv8e3D1O-lebb  I bought this for my grand daughter when she c...   \n",
       "\n",
       "   reviews.rating  \n",
       "0             5.0  \n",
       "1             5.0  \n",
       "2             5.0  \n",
       "3             4.0  \n",
       "4             5.0  "
      ]
     },
     "execution_count": 6,
     "metadata": {},
     "output_type": "execute_result"
    }
   ],
   "source": [
    "#Refined data glance \n",
    "data.head() "
   ]
  },
  {
   "cell_type": "code",
   "execution_count": 7,
   "metadata": {},
   "outputs": [
    {
     "data": {
      "text/html": [
       "<div>\n",
       "<style scoped>\n",
       "    .dataframe tbody tr th:only-of-type {\n",
       "        vertical-align: middle;\n",
       "    }\n",
       "\n",
       "    .dataframe tbody tr th {\n",
       "        vertical-align: top;\n",
       "    }\n",
       "\n",
       "    .dataframe thead th {\n",
       "        text-align: right;\n",
       "    }\n",
       "</style>\n",
       "<table border=\"1\" class=\"dataframe\">\n",
       "  <thead>\n",
       "    <tr style=\"text-align: right;\">\n",
       "      <th></th>\n",
       "      <th>id</th>\n",
       "      <th>reviews.text</th>\n",
       "    </tr>\n",
       "  </thead>\n",
       "  <tbody>\n",
       "    <tr>\n",
       "      <th>count</th>\n",
       "      <td>34660</td>\n",
       "      <td>34659</td>\n",
       "    </tr>\n",
       "    <tr>\n",
       "      <th>unique</th>\n",
       "      <td>42</td>\n",
       "      <td>34659</td>\n",
       "    </tr>\n",
       "    <tr>\n",
       "      <th>top</th>\n",
       "      <td>AVphgVaX1cnluZ0-DR74</td>\n",
       "      <td>Do you like to read? If so this is an excellen...</td>\n",
       "    </tr>\n",
       "    <tr>\n",
       "      <th>freq</th>\n",
       "      <td>10966</td>\n",
       "      <td>1</td>\n",
       "    </tr>\n",
       "  </tbody>\n",
       "</table>\n",
       "</div>"
      ],
      "text/plain": [
       "                          id  \\\n",
       "count                  34660   \n",
       "unique                    42   \n",
       "top     AVphgVaX1cnluZ0-DR74   \n",
       "freq                   10966   \n",
       "\n",
       "                                             reviews.text  \n",
       "count                                               34659  \n",
       "unique                                              34659  \n",
       "top     Do you like to read? If so this is an excellen...  \n",
       "freq                                                    1  "
      ]
     },
     "execution_count": 7,
     "metadata": {},
     "output_type": "execute_result"
    }
   ],
   "source": [
    "#Exploratives in our Data\n",
    "data.describe(include=[\"O\"])"
   ]
  },
  {
   "cell_type": "markdown",
   "metadata": {},
   "source": [
    "We can see how there are a total of 42 products (from the ID) and for these 42 products, we will have a mix of reviews (positive, neutral or negative)."
   ]
  },
  {
   "cell_type": "code",
   "execution_count": 8,
   "metadata": {},
   "outputs": [
    {
     "name": "stdout",
     "output_type": "stream",
     "text": [
      "<class 'pandas.core.frame.DataFrame'>\n",
      "RangeIndex: 34660 entries, 0 to 34659\n",
      "Data columns (total 3 columns):\n",
      " #   Column          Non-Null Count  Dtype  \n",
      "---  ------          --------------  -----  \n",
      " 0   id              34660 non-null  object \n",
      " 1   reviews.text    34659 non-null  object \n",
      " 2   reviews.rating  34627 non-null  float64\n",
      "dtypes: float64(1), object(2)\n",
      "memory usage: 812.5+ KB\n"
     ]
    }
   ],
   "source": [
    "#Checking for null values via concise reports\n",
    "data.info()"
   ]
  },
  {
   "cell_type": "markdown",
   "metadata": {},
   "source": [
    "We can see how one review.text is missing, hence no analysis can be done on this sample. We can then remove it. Furthermore, there are 33 missing values for the ratings. Due to the low number of missing values in the rating column it is possible to substitute the NaN with the mean of the others or we could simply remove those samples. Since we would have many samples anyway they can be simply removed."
   ]
  },
  {
   "cell_type": "code",
   "execution_count": 9,
   "metadata": {},
   "outputs": [],
   "source": [
    "data = data.dropna()"
   ]
  },
  {
   "cell_type": "markdown",
   "metadata": {},
   "source": [
    "Exploratory Data Analysis: \n",
    "  "
   ]
  },
  {
   "cell_type": "code",
   "execution_count": 10,
   "metadata": {},
   "outputs": [],
   "source": [
    "#creating reviews text file for processing purposes \n",
    "rt = data['reviews.text']\n"
   ]
  },
  {
   "cell_type": "markdown",
   "metadata": {},
   "source": [
    "To understand the average rating of the product , lets count ratings via ids- unique indexes, as products are not clearly defined with unique name identifier \n",
    " "
   ]
  },
  {
   "cell_type": "code",
   "execution_count": 11,
   "metadata": {},
   "outputs": [
    {
     "name": "stderr",
     "output_type": "stream",
     "text": [
      "C:\\Anaconda3\\lib\\site-packages\\seaborn\\_decorators.py:36: FutureWarning: Pass the following variable as a keyword arg: x. From version 0.12, the only valid positional argument will be `data`, and passing other arguments without an explicit keyword will result in an error or misinterpretation.\n",
      "  warnings.warn(\n"
     ]
    },
    {
     "data": {
      "image/png": "[encoded data removed]",
      "text/plain": [
       "<Figure size 720x360 with 1 Axes>"
      ]
     },
     "metadata": {
      "needs_background": "light"
     },
     "output_type": "display_data"
    }
   ],
   "source": [
    "plt.figure(figsize=(10,5))\n",
    "sbn.countplot(data['reviews.rating'])\n",
    "plt.title('Count ratings')\n",
    "plt.show()"
   ]
  },
  {
   "cell_type": "code",
   "execution_count": 12,
   "metadata": {},
   "outputs": [],
   "source": [
    "data1 = data.groupby(\"id\").mean().reset_index()"
   ]
  },
  {
   "cell_type": "code",
   "execution_count": 13,
   "metadata": {},
   "outputs": [],
   "source": [
    "data1 = data1.sort_values(['reviews.rating']).reset_index()"
   ]
  },
  {
   "cell_type": "code",
   "execution_count": 14,
   "metadata": {},
   "outputs": [
    {
     "data": {
      "image/png": "[encoded data removed]",
      "text/plain": [
       "<Figure size 720x576 with 1 Axes>"
      ]
     },
     "metadata": {
      "needs_background": "light"
     },
     "output_type": "display_data"
    }
   ],
   "source": [
    "plt.figure(figsize=(10,8))\n",
    "sbn.barplot(x=data1[\"reviews.rating\"], y=data1[\"id\"])\n",
    "plt.title('Count ratings')\n",
    "plt.show()"
   ]
  },
  {
   "cell_type": "markdown",
   "metadata": {},
   "source": [
    "Frequencies for ratings are skewed for positive values at 4, 5 - evident from distribution plot - From these the data set is class imbalance in nature . \n",
    "Given the nature of the problem, we need to employ solution measures for class imbalance - sampling equal distribution of ratings by populating data or under/over sampling data with equal frequencies of ratings \n",
    "\n",
    " "
   ]
  },
  {
   "cell_type": "code",
   "execution_count": 15,
   "metadata": {},
   "outputs": [],
   "source": [
    "#Using the other two parts of the data set for analysis \n",
    "df2 = pd.read_csv(\"Datafiniti_Amazon_Consumer_Reviews_of_Amazon_Products_May19.csv\")\n",
    "df3 = pd.read_csv(\"Datafiniti_Amazon_Consumer_Reviews_of_Amazon_Products.csv\")"
   ]
  },
  {
   "cell_type": "code",
   "execution_count": 16,
   "metadata": {},
   "outputs": [],
   "source": [
    "#Defining the datasets as data frames and keying in only required column vectors \n",
    "data2 = df2[[\"id\",\"reviews.text\",\"reviews.rating\"]]\n",
    "data3 = df3[[\"id\",\"reviews.text\",\"reviews.rating\"]]"
   ]
  },
  {
   "cell_type": "code",
   "execution_count": 17,
   "metadata": {},
   "outputs": [],
   "source": [
    "#Step to address the class imbalance provlem \n",
    "data2 = data2[data2[\"reviews.rating\"]<=3]\n",
    "data3 = data3[data3[\"reviews.rating\"]<=3]"
   ]
  },
  {
   "cell_type": "code",
   "execution_count": 18,
   "metadata": {},
   "outputs": [],
   "source": [
    "#Merging all the data \n",
    "frames = [data, data2, data3]\n",
    "final = pd.concat(frames)"
   ]
  },
  {
   "cell_type": "code",
   "execution_count": 19,
   "metadata": {},
   "outputs": [
    {
     "name": "stderr",
     "output_type": "stream",
     "text": [
      "C:\\Anaconda3\\lib\\site-packages\\seaborn\\_decorators.py:36: FutureWarning: Pass the following variable as a keyword arg: x. From version 0.12, the only valid positional argument will be `data`, and passing other arguments without an explicit keyword will result in an error or misinterpretation.\n",
      "  warnings.warn(\n"
     ]
    },
    {
     "data": {
      "image/png": "[encoded data removed]",
      "text/plain": [
       "<Figure size 720x360 with 1 Axes>"
      ]
     },
     "metadata": {
      "needs_background": "light"
     },
     "output_type": "display_data"
    }
   ],
   "source": [
    "#Plot to check for frequency of rating for all the data \n",
    "plt.figure(figsize=(10,5))\n",
    "sbn.countplot(final['reviews.rating'])\n",
    "plt.title('Count ratings')\n",
    "plt.show()"
   ]
  },
  {
   "cell_type": "markdown",
   "metadata": {},
   "source": [
    "Even after merging the data, class-imbalance problem still exists. "
   ]
  },
  {
   "cell_type": "code",
   "execution_count": 20,
   "metadata": {},
   "outputs": [
    {
     "data": {
      "text/html": [
       "<div>\n",
       "<style scoped>\n",
       "    .dataframe tbody tr th:only-of-type {\n",
       "        vertical-align: middle;\n",
       "    }\n",
       "\n",
       "    .dataframe tbody tr th {\n",
       "        vertical-align: top;\n",
       "    }\n",
       "\n",
       "    .dataframe thead th {\n",
       "        text-align: right;\n",
       "    }\n",
       "</style>\n",
       "<table border=\"1\" class=\"dataframe\">\n",
       "  <thead>\n",
       "    <tr style=\"text-align: right;\">\n",
       "      <th></th>\n",
       "      <th>id</th>\n",
       "      <th>reviews.text</th>\n",
       "      <th>reviews.rating</th>\n",
       "    </tr>\n",
       "  </thead>\n",
       "  <tbody>\n",
       "    <tr>\n",
       "      <th>0</th>\n",
       "      <td>AVqkIhwDv8e3D1O-lebb</td>\n",
       "      <td>This product so far has not disappointed. My c...</td>\n",
       "      <td>5.0</td>\n",
       "    </tr>\n",
       "    <tr>\n",
       "      <th>1</th>\n",
       "      <td>AVqkIhwDv8e3D1O-lebb</td>\n",
       "      <td>great for beginner or experienced person. Boug...</td>\n",
       "      <td>5.0</td>\n",
       "    </tr>\n",
       "    <tr>\n",
       "      <th>2</th>\n",
       "      <td>AVqkIhwDv8e3D1O-lebb</td>\n",
       "      <td>Inexpensive tablet for him to use and learn on...</td>\n",
       "      <td>5.0</td>\n",
       "    </tr>\n",
       "    <tr>\n",
       "      <th>3</th>\n",
       "      <td>AVqkIhwDv8e3D1O-lebb</td>\n",
       "      <td>I've had my Fire HD 8 two weeks now and I love...</td>\n",
       "      <td>4.0</td>\n",
       "    </tr>\n",
       "    <tr>\n",
       "      <th>4</th>\n",
       "      <td>AVqkIhwDv8e3D1O-lebb</td>\n",
       "      <td>I bought this for my grand daughter when she c...</td>\n",
       "      <td>5.0</td>\n",
       "    </tr>\n",
       "  </tbody>\n",
       "</table>\n",
       "</div>"
      ],
      "text/plain": [
       "                     id                                       reviews.text  \\\n",
       "0  AVqkIhwDv8e3D1O-lebb  This product so far has not disappointed. My c...   \n",
       "1  AVqkIhwDv8e3D1O-lebb  great for beginner or experienced person. Boug...   \n",
       "2  AVqkIhwDv8e3D1O-lebb  Inexpensive tablet for him to use and learn on...   \n",
       "3  AVqkIhwDv8e3D1O-lebb  I've had my Fire HD 8 two weeks now and I love...   \n",
       "4  AVqkIhwDv8e3D1O-lebb  I bought this for my grand daughter when she c...   \n",
       "\n",
       "   reviews.rating  \n",
       "0             5.0  \n",
       "1             5.0  \n",
       "2             5.0  \n",
       "3             4.0  \n",
       "4             5.0  "
      ]
     },
     "execution_count": 20,
     "metadata": {},
     "output_type": "execute_result"
    }
   ],
   "source": [
    "final.head()"
   ]
  },
  {
   "cell_type": "markdown",
   "metadata": {},
   "source": [
    "Problem statement Scope and Topic Modelling:  By the nature of unstructured Textual data, we want to derive insights about sentiments of consumers in terms of product features - authenticity of the product, quality of the product and from consumer standpoint, our support engine should be able to redflag fake reviews. Topic Modelling is a process to automatically identify topics present in a text object and to derive hidden patterns exhibited by a text corpus, thus assisting in better decision making. \n"
   ]
  },
  {
   "cell_type": "code",
   "execution_count": 21,
   "metadata": {},
   "outputs": [
    {
     "name": "stderr",
     "output_type": "stream",
     "text": [
      "[nltk_data] Downloading package stopwords to\n",
      "[nltk_data]     C:\\Users\\admin\\AppData\\Roaming\\nltk_data...\n",
      "[nltk_data]   Package stopwords is already up-to-date!\n"
     ]
    }
   ],
   "source": [
    "#Importing required packages for Topic Modelling\n",
    "import os\n",
    "import nltk\n",
    "from nltk import FreqDist\n",
    "nltk.download('stopwords')\n",
    "import pandas as pd\n",
    "pd.set_option(\"display.max_colwidth\", 200)\n",
    "import numpy as np\n",
    "import json\n",
    "import re\n",
    "import spacy\n",
    "\n",
    "import gensim\n",
    "from gensim import corpora\n",
    "\n",
    "import pyLDAvis\n",
    "import pyLDAvis.gensim_models\n",
    "import matplotlib.pyplot as plt\n",
    "import seaborn as sbn\n",
    "%matplotlib inline"
   ]
  },
  {
   "cell_type": "markdown",
   "metadata": {},
   "source": [
    "#Generating Text Corpus for all the products \n"
   ]
  },
  {
   "cell_type": "code",
   "execution_count": 22,
   "metadata": {},
   "outputs": [
    {
     "name": "stderr",
     "output_type": "stream",
     "text": [
      "C:\\Anaconda3\\lib\\site-packages\\ipykernel\\ipkernel.py:287: DeprecationWarning: `should_run_async` will not call `transform_cell` automatically in the future. Please pass the result to `transformed_cell` argument and any exception that happen during thetransform in `preprocessing_exc_tuple` in IPython 7.17 and above.\n",
      "  and should_run_async(code)\n"
     ]
    },
    {
     "data": {
      "text/html": [
       "<div>\n",
       "<style scoped>\n",
       "    .dataframe tbody tr th:only-of-type {\n",
       "        vertical-align: middle;\n",
       "    }\n",
       "\n",
       "    .dataframe tbody tr th {\n",
       "        vertical-align: top;\n",
       "    }\n",
       "\n",
       "    .dataframe thead th {\n",
       "        text-align: right;\n",
       "    }\n",
       "</style>\n",
       "<table border=\"1\" class=\"dataframe\">\n",
       "  <thead>\n",
       "    <tr style=\"text-align: right;\">\n",
       "      <th></th>\n",
       "      <th>id</th>\n",
       "      <th>reviews.text</th>\n",
       "      <th>reviews.rating</th>\n",
       "    </tr>\n",
       "  </thead>\n",
       "  <tbody>\n",
       "    <tr>\n",
       "      <th>0</th>\n",
       "      <td>AVqkIhwDv8e3D1O-lebb</td>\n",
       "      <td>This product so far has not disappointed. My children love to use it and I like the ability to monitor control what content they see with ease.</td>\n",
       "      <td>5.0</td>\n",
       "    </tr>\n",
       "    <tr>\n",
       "      <th>1</th>\n",
       "      <td>AVqkIhwDv8e3D1O-lebb</td>\n",
       "      <td>great for beginner or experienced person. Bought as a gift and she loves it</td>\n",
       "      <td>5.0</td>\n",
       "    </tr>\n",
       "    <tr>\n",
       "      <th>2</th>\n",
       "      <td>AVqkIhwDv8e3D1O-lebb</td>\n",
       "      <td>Inexpensive tablet for him to use and learn on, step up from the NABI. He was thrilled with it, learn how to Skype on it already...</td>\n",
       "      <td>5.0</td>\n",
       "    </tr>\n",
       "    <tr>\n",
       "      <th>3</th>\n",
       "      <td>AVqkIhwDv8e3D1O-lebb</td>\n",
       "      <td>I've had my Fire HD 8 two weeks now and I love it. This tablet is a great value.We are Prime Members and that is where this tablet SHINES. I love being able to easily access all of the Prime conte...</td>\n",
       "      <td>4.0</td>\n",
       "    </tr>\n",
       "    <tr>\n",
       "      <th>4</th>\n",
       "      <td>AVqkIhwDv8e3D1O-lebb</td>\n",
       "      <td>I bought this for my grand daughter when she comes over to visit. I set it up with her as the user, entered her age and name and now Amazon makes sure that she only accesses sites and content that...</td>\n",
       "      <td>5.0</td>\n",
       "    </tr>\n",
       "  </tbody>\n",
       "</table>\n",
       "</div>"
      ],
      "text/plain": [
       "                     id  \\\n",
       "0  AVqkIhwDv8e3D1O-lebb   \n",
       "1  AVqkIhwDv8e3D1O-lebb   \n",
       "2  AVqkIhwDv8e3D1O-lebb   \n",
       "3  AVqkIhwDv8e3D1O-lebb   \n",
       "4  AVqkIhwDv8e3D1O-lebb   \n",
       "\n",
       "                                                                                                                                                                                              reviews.text  \\\n",
       "0                                                          This product so far has not disappointed. My children love to use it and I like the ability to monitor control what content they see with ease.   \n",
       "1                                                                                                                              great for beginner or experienced person. Bought as a gift and she loves it   \n",
       "2                                                                      Inexpensive tablet for him to use and learn on, step up from the NABI. He was thrilled with it, learn how to Skype on it already...   \n",
       "3  I've had my Fire HD 8 two weeks now and I love it. This tablet is a great value.We are Prime Members and that is where this tablet SHINES. I love being able to easily access all of the Prime conte...   \n",
       "4  I bought this for my grand daughter when she comes over to visit. I set it up with her as the user, entered her age and name and now Amazon makes sure that she only accesses sites and content that...   \n",
       "\n",
       "   reviews.rating  \n",
       "0             5.0  \n",
       "1             5.0  \n",
       "2             5.0  \n",
       "3             4.0  \n",
       "4             5.0  "
      ]
     },
     "execution_count": 22,
     "metadata": {},
     "output_type": "execute_result"
    }
   ],
   "source": [
    "final.head()"
   ]
  },
  {
   "cell_type": "code",
   "execution_count": 23,
   "metadata": {},
   "outputs": [
    {
     "name": "stderr",
     "output_type": "stream",
     "text": [
      "C:\\Anaconda3\\lib\\site-packages\\ipykernel\\ipkernel.py:287: DeprecationWarning: `should_run_async` will not call `transform_cell` automatically in the future. Please pass the result to `transformed_cell` argument and any exception that happen during thetransform in `preprocessing_exc_tuple` in IPython 7.17 and above.\n",
      "  and should_run_async(code)\n"
     ]
    }
   ],
   "source": [
    "# defining a function for frequent words \n",
    "def freq_words(x, terms = 30):\n",
    "  all_words = ' '.join([text for text in x])\n",
    "  all_words = all_words.split()\n",
    "  \n",
    "  fdist = FreqDist(all_words)\n",
    "  words_df = pd.DataFrame({'word':list(fdist.keys()), 'count':list(fdist.values())})\n",
    "  \n",
    "  # selecting top 20 most frequent words\n",
    "  d = words_df.nlargest(columns=\"count\", n = terms) \n",
    "  plt.figure(figsize=(20,5))\n",
    "  ax = sbn.barplot(data=d, x= \"word\", y = \"count\")\n",
    "  ax.set(ylabel = 'Count')\n",
    "  plt.show()\n"
   ]
  },
  {
   "cell_type": "code",
   "execution_count": 24,
   "metadata": {},
   "outputs": [
    {
     "name": "stderr",
     "output_type": "stream",
     "text": [
      "C:\\Anaconda3\\lib\\site-packages\\ipykernel\\ipkernel.py:287: DeprecationWarning: `should_run_async` will not call `transform_cell` automatically in the future. Please pass the result to `transformed_cell` argument and any exception that happen during thetransform in `preprocessing_exc_tuple` in IPython 7.17 and above.\n",
      "  and should_run_async(code)\n"
     ]
    },
    {
     "data": {
      "image/png": "[encoded data removed]",
      "text/plain": [
       "<Figure size 1440x360 with 1 Axes>"
      ]
     },
     "metadata": {
      "needs_background": "light"
     },
     "output_type": "display_data"
    }
   ],
   "source": [
    "freq_words(final['reviews.text'])"
   ]
  },
  {
   "cell_type": "code",
   "execution_count": 25,
   "metadata": {},
   "outputs": [
    {
     "name": "stderr",
     "output_type": "stream",
     "text": [
      "C:\\Anaconda3\\lib\\site-packages\\ipykernel\\ipkernel.py:287: DeprecationWarning: `should_run_async` will not call `transform_cell` automatically in the future. Please pass the result to `transformed_cell` argument and any exception that happen during thetransform in `preprocessing_exc_tuple` in IPython 7.17 and above.\n",
      "  and should_run_async(code)\n",
      "<ipython-input-25-41b081635bea>:5: FutureWarning: The default value of regex will change from True to False in a future version.\n",
      "  final['reviews.text'] = final['reviews.text'].str.replace(\"[^a-zA-Z#]\", \" \")\n"
     ]
    }
   ],
   "source": [
    "# replace \"n't\" with \" not\"\n",
    "final['reviews.text'] = final['reviews.text'].str.replace(\"n\\'t\", \" not\")\n",
    "\n",
    "# remove unwanted characters, numbers and symbols\n",
    "final['reviews.text'] = final['reviews.text'].str.replace(\"[^a-zA-Z#]\", \" \")"
   ]
  },
  {
   "cell_type": "code",
   "execution_count": 26,
   "metadata": {},
   "outputs": [
    {
     "name": "stderr",
     "output_type": "stream",
     "text": [
      "C:\\Anaconda3\\lib\\site-packages\\ipykernel\\ipkernel.py:287: DeprecationWarning: `should_run_async` will not call `transform_cell` automatically in the future. Please pass the result to `transformed_cell` argument and any exception that happen during thetransform in `preprocessing_exc_tuple` in IPython 7.17 and above.\n",
      "  and should_run_async(code)\n"
     ]
    },
    {
     "data": {
      "image/png": "[encoded data removed]",
      "text/plain": [
       "<Figure size 1440x360 with 1 Axes>"
      ]
     },
     "metadata": {
      "needs_background": "light"
     },
     "output_type": "display_data"
    }
   ],
   "source": [
    "freq_words(final['reviews.text'])"
   ]
  },
  {
   "cell_type": "code",
   "execution_count": 27,
   "metadata": {},
   "outputs": [
    {
     "name": "stderr",
     "output_type": "stream",
     "text": [
      "C:\\Anaconda3\\lib\\site-packages\\ipykernel\\ipkernel.py:287: DeprecationWarning: `should_run_async` will not call `transform_cell` automatically in the future. Please pass the result to `transformed_cell` argument and any exception that happen during thetransform in `preprocessing_exc_tuple` in IPython 7.17 and above.\n",
      "  and should_run_async(code)\n"
     ]
    }
   ],
   "source": [
    "from nltk.corpus import stopwords\n",
    "stop_words = stopwords.words('english')"
   ]
  },
  {
   "cell_type": "code",
   "execution_count": 28,
   "metadata": {},
   "outputs": [
    {
     "name": "stderr",
     "output_type": "stream",
     "text": [
      "C:\\Anaconda3\\lib\\site-packages\\ipykernel\\ipkernel.py:287: DeprecationWarning: `should_run_async` will not call `transform_cell` automatically in the future. Please pass the result to `transformed_cell` argument and any exception that happen during thetransform in `preprocessing_exc_tuple` in IPython 7.17 and above.\n",
      "  and should_run_async(code)\n"
     ]
    }
   ],
   "source": [
    "# function to remove stopwords\n",
    "def remove_stopwords(rev):\n",
    "  rev_new = \" \".join([i for i in rev if i not in stop_words])\n",
    "  return rev_new"
   ]
  },
  {
   "cell_type": "code",
   "execution_count": 29,
   "metadata": {},
   "outputs": [
    {
     "name": "stderr",
     "output_type": "stream",
     "text": [
      "C:\\Anaconda3\\lib\\site-packages\\ipykernel\\ipkernel.py:287: DeprecationWarning: `should_run_async` will not call `transform_cell` automatically in the future. Please pass the result to `transformed_cell` argument and any exception that happen during thetransform in `preprocessing_exc_tuple` in IPython 7.17 and above.\n",
      "  and should_run_async(code)\n"
     ]
    }
   ],
   "source": [
    "# remove short words (length < 3)\n",
    "final['reviews.text'] = final['reviews.text'].apply(lambda x: ' '.join([w for w in x.split() if len(w)>2]))\n",
    "\n",
    "# remove stopwords from the text\n",
    "reviews = [remove_stopwords(r.split()) for r in final['reviews.text']]\n",
    "\n",
    "# make entire text lowercase\n",
    "reviews = [r.lower() for r in reviews]"
   ]
  },
  {
   "cell_type": "code",
   "execution_count": 30,
   "metadata": {},
   "outputs": [
    {
     "name": "stderr",
     "output_type": "stream",
     "text": [
      "C:\\Anaconda3\\lib\\site-packages\\ipykernel\\ipkernel.py:287: DeprecationWarning: `should_run_async` will not call `transform_cell` automatically in the future. Please pass the result to `transformed_cell` argument and any exception that happen during thetransform in `preprocessing_exc_tuple` in IPython 7.17 and above.\n",
      "  and should_run_async(code)\n"
     ]
    },
    {
     "data": {
      "image/png": "[encoded data removed]",
      "text/plain": [
       "<Figure size 1440x360 with 1 Axes>"
      ]
     },
     "metadata": {
      "needs_background": "light"
     },
     "output_type": "display_data"
    }
   ],
   "source": [
    "freq_words(reviews, 35)"
   ]
  },
  {
   "cell_type": "code",
   "execution_count": 31,
   "metadata": {},
   "outputs": [
    {
     "name": "stderr",
     "output_type": "stream",
     "text": [
      "C:\\Anaconda3\\lib\\site-packages\\ipykernel\\ipkernel.py:287: DeprecationWarning: `should_run_async` will not call `transform_cell` automatically in the future. Please pass the result to `transformed_cell` argument and any exception that happen during thetransform in `preprocessing_exc_tuple` in IPython 7.17 and above.\n",
      "  and should_run_async(code)\n"
     ]
    }
   ],
   "source": [
    "import spacy"
   ]
  },
  {
   "cell_type": "code",
   "execution_count": 32,
   "metadata": {},
   "outputs": [
    {
     "name": "stderr",
     "output_type": "stream",
     "text": [
      "C:\\Anaconda3\\lib\\site-packages\\ipykernel\\ipkernel.py:287: DeprecationWarning: `should_run_async` will not call `transform_cell` automatically in the future. Please pass the result to `transformed_cell` argument and any exception that happen during thetransform in `preprocessing_exc_tuple` in IPython 7.17 and above.\n",
      "  and should_run_async(code)\n"
     ]
    }
   ],
   "source": [
    "#Importing Spacy Packages with english language small models module \n",
    "import spacy\n",
    "nlp = spacy.load(\"en_core_web_sm\")"
   ]
  },
  {
   "cell_type": "code",
   "execution_count": 33,
   "metadata": {},
   "outputs": [
    {
     "name": "stderr",
     "output_type": "stream",
     "text": [
      "C:\\Anaconda3\\lib\\site-packages\\ipykernel\\ipkernel.py:287: DeprecationWarning: `should_run_async` will not call `transform_cell` automatically in the future. Please pass the result to `transformed_cell` argument and any exception that happen during thetransform in `preprocessing_exc_tuple` in IPython 7.17 and above.\n",
      "  and should_run_async(code)\n"
     ]
    }
   ],
   "source": [
    "#Applying fast sentence segmentation without dependency parses and employing the senter component instead:\n",
    "nlp = spacy.load(\"en_core_web_sm\")\n",
    "nlp.disable_pipe(\"parser\")\n",
    "nlp.disable_pipe(\"ner\") "
   ]
  },
  {
   "cell_type": "code",
   "execution_count": 34,
   "metadata": {},
   "outputs": [
    {
     "name": "stderr",
     "output_type": "stream",
     "text": [
      "C:\\Anaconda3\\lib\\site-packages\\ipykernel\\ipkernel.py:287: DeprecationWarning: `should_run_async` will not call `transform_cell` automatically in the future. Please pass the result to `transformed_cell` argument and any exception that happen during thetransform in `preprocessing_exc_tuple` in IPython 7.17 and above.\n",
      "  and should_run_async(code)\n"
     ]
    }
   ],
   "source": [
    "# lemmatization does morphological analysis of the words\n",
    "def lemmatization(texts, tags=['NOUN', 'ADJ']):\n",
    "    output = []\n",
    "    for sent in texts:\n",
    "        doc = nlp(\" \".join(sent)) \n",
    "        output.append([token.lemma_ for token in doc if token.pos_ in tags])\n",
    "    return output"
   ]
  },
  {
   "cell_type": "code",
   "execution_count": 35,
   "metadata": {},
   "outputs": [
    {
     "name": "stdout",
     "output_type": "stream",
     "text": [
      "['great', 'beginner', 'experienced', 'person', 'bought', 'gift', 'loves']\n"
     ]
    },
    {
     "name": "stderr",
     "output_type": "stream",
     "text": [
      "C:\\Anaconda3\\lib\\site-packages\\ipykernel\\ipkernel.py:287: DeprecationWarning: `should_run_async` will not call `transform_cell` automatically in the future. Please pass the result to `transformed_cell` argument and any exception that happen during thetransform in `preprocessing_exc_tuple` in IPython 7.17 and above.\n",
      "  and should_run_async(code)\n"
     ]
    }
   ],
   "source": [
    "#Tokenizing involves splitting sentences and words from the body of the text.\n",
    "tokenized_reviews = pd.Series(reviews).apply(lambda x: x.split())\n",
    "print(tokenized_reviews[1])"
   ]
  },
  {
   "cell_type": "code",
   "execution_count": 36,
   "metadata": {},
   "outputs": [
    {
     "name": "stdout",
     "output_type": "stream",
     "text": [
      "['great', 'beginner', 'experienced', 'person', 'bought', 'gift', 'loves']\n"
     ]
    },
    {
     "name": "stderr",
     "output_type": "stream",
     "text": [
      "C:\\Anaconda3\\lib\\site-packages\\ipykernel\\ipkernel.py:287: DeprecationWarning: `should_run_async` will not call `transform_cell` automatically in the future. Please pass the result to `transformed_cell` argument and any exception that happen during thetransform in `preprocessing_exc_tuple` in IPython 7.17 and above.\n",
      "  and should_run_async(code)\n"
     ]
    },
    {
     "data": {
      "text/plain": [
       "7"
      ]
     },
     "execution_count": 36,
     "metadata": {},
     "output_type": "execute_result"
    }
   ],
   "source": [
    "print(tokenized_reviews[1])\n",
    "len(tokenized_reviews[1])"
   ]
  },
  {
   "cell_type": "code",
   "execution_count": 37,
   "metadata": {},
   "outputs": [
    {
     "name": "stderr",
     "output_type": "stream",
     "text": [
      "C:\\Anaconda3\\lib\\site-packages\\ipykernel\\ipkernel.py:287: DeprecationWarning: `should_run_async` will not call `transform_cell` automatically in the future. Please pass the result to `transformed_cell` argument and any exception that happen during thetransform in `preprocessing_exc_tuple` in IPython 7.17 and above.\n",
      "  and should_run_async(code)\n"
     ]
    },
    {
     "name": "stdout",
     "output_type": "stream",
     "text": [
      "['beginner', 'person', 'gift']\n"
     ]
    }
   ],
   "source": [
    "reviews_2 = lemmatization(tokenized_reviews)\n",
    "print(reviews_2[1])"
   ]
  },
  {
   "cell_type": "code",
   "execution_count": 38,
   "metadata": {},
   "outputs": [
    {
     "name": "stdout",
     "output_type": "stream",
     "text": [
      "['beginner', 'person', 'gift']\n"
     ]
    },
    {
     "name": "stderr",
     "output_type": "stream",
     "text": [
      "C:\\Anaconda3\\lib\\site-packages\\ipykernel\\ipkernel.py:287: DeprecationWarning: `should_run_async` will not call `transform_cell` automatically in the future. Please pass the result to `transformed_cell` argument and any exception that happen during thetransform in `preprocessing_exc_tuple` in IPython 7.17 and above.\n",
      "  and should_run_async(code)\n"
     ]
    },
    {
     "data": {
      "text/plain": [
       "3"
      ]
     },
     "execution_count": 38,
     "metadata": {},
     "output_type": "execute_result"
    }
   ],
   "source": [
    "print(reviews_2[1])\n",
    "len(reviews_2[1])"
   ]
  },
  {
   "cell_type": "code",
   "execution_count": 39,
   "metadata": {},
   "outputs": [
    {
     "name": "stderr",
     "output_type": "stream",
     "text": [
      "C:\\Anaconda3\\lib\\site-packages\\ipykernel\\ipkernel.py:287: DeprecationWarning: `should_run_async` will not call `transform_cell` automatically in the future. Please pass the result to `transformed_cell` argument and any exception that happen during thetransform in `preprocessing_exc_tuple` in IPython 7.17 and above.\n",
      "  and should_run_async(code)\n"
     ]
    },
    {
     "data": {
      "text/plain": [
       "{'bought', 'experienced', 'great', 'loves'}"
      ]
     },
     "execution_count": 39,
     "metadata": {},
     "output_type": "execute_result"
    }
   ],
   "source": [
    "set(tokenized_reviews[1]) - set(reviews_2[1])"
   ]
  },
  {
   "cell_type": "code",
   "execution_count": 41,
   "metadata": {},
   "outputs": [
    {
     "name": "stderr",
     "output_type": "stream",
     "text": [
      "C:\\Anaconda3\\lib\\site-packages\\ipykernel\\ipkernel.py:287: DeprecationWarning: `should_run_async` will not call `transform_cell` automatically in the future. Please pass the result to `transformed_cell` argument and any exception that happen during thetransform in `preprocessing_exc_tuple` in IPython 7.17 and above.\n",
      "  and should_run_async(code)\n"
     ]
    }
   ],
   "source": [
    "reviews_3 = []\n",
    "for i in range(len(reviews_2)):\n",
    "    reviews_3.append(' '.join(reviews_2[i]))\n",
    "    \n",
    "final['reviews'] = reviews_3"
   ]
  },
  {
   "cell_type": "code",
   "execution_count": 42,
   "metadata": {},
   "outputs": [
    {
     "name": "stderr",
     "output_type": "stream",
     "text": [
      "C:\\Anaconda3\\lib\\site-packages\\ipykernel\\ipkernel.py:287: DeprecationWarning: `should_run_async` will not call `transform_cell` automatically in the future. Please pass the result to `transformed_cell` argument and any exception that happen during thetransform in `preprocessing_exc_tuple` in IPython 7.17 and above.\n",
      "  and should_run_async(code)\n"
     ]
    },
    {
     "data": {
      "image/png": "[encoded data removed]",
      "text/plain": [
       "<Figure size 1440x360 with 1 Axes>"
      ]
     },
     "metadata": {
      "needs_background": "light"
     },
     "output_type": "display_data"
    }
   ],
   "source": [
    "#After preprocessing final words appearing frequently in sentiments \n",
    "freq_words(final['reviews'], 35)"
   ]
  },
  {
   "cell_type": "code",
   "execution_count": 43,
   "metadata": {},
   "outputs": [
    {
     "name": "stderr",
     "output_type": "stream",
     "text": [
      "C:\\Anaconda3\\lib\\site-packages\\ipykernel\\ipkernel.py:287: DeprecationWarning: `should_run_async` will not call `transform_cell` automatically in the future. Please pass the result to `transformed_cell` argument and any exception that happen during thetransform in `preprocessing_exc_tuple` in IPython 7.17 and above.\n",
      "  and should_run_async(code)\n"
     ]
    }
   ],
   "source": [
    "# Create the term dictionary of our corpus, where every unique term is assigned an index\n",
    "dictionary = corpora.Dictionary(reviews_2)"
   ]
  },
  {
   "cell_type": "code",
   "execution_count": 44,
   "metadata": {},
   "outputs": [
    {
     "name": "stdout",
     "output_type": "stream",
     "text": [
      "Dictionary(8245 unique tokens: ['ability', 'child', 'content', 'control', 'disappointed']...)\n"
     ]
    },
    {
     "name": "stderr",
     "output_type": "stream",
     "text": [
      "C:\\Anaconda3\\lib\\site-packages\\ipykernel\\ipkernel.py:287: DeprecationWarning: `should_run_async` will not call `transform_cell` automatically in the future. Please pass the result to `transformed_cell` argument and any exception that happen during thetransform in `preprocessing_exc_tuple` in IPython 7.17 and above.\n",
      "  and should_run_async(code)\n"
     ]
    }
   ],
   "source": [
    "print(dictionary)"
   ]
  },
  {
   "cell_type": "markdown",
   "metadata": {},
   "source": [
    "8245 unique tokens identified as part of Dictionary Corpus \n",
    "Our next attempt is to build a model identifying important words and topics \n",
    "In order to model, we need to build A document-term matrix is a mathematical matrix that describes the frequency of terms that occur in a collection of documents.(in our case : frequency of 8245 tokens in reviews)\n",
    "\n"
   ]
  },
  {
   "cell_type": "code",
   "execution_count": 45,
   "metadata": {},
   "outputs": [
    {
     "name": "stderr",
     "output_type": "stream",
     "text": [
      "C:\\Anaconda3\\lib\\site-packages\\ipykernel\\ipkernel.py:287: DeprecationWarning: `should_run_async` will not call `transform_cell` automatically in the future. Please pass the result to `transformed_cell` argument and any exception that happen during thetransform in `preprocessing_exc_tuple` in IPython 7.17 and above.\n",
      "  and should_run_async(code)\n"
     ]
    }
   ],
   "source": [
    "# Convert list of reviews (reviews_2) into a Document Term Matrix using the dictionary prepared above.\n",
    "doc_term_matrix = [dictionary.doc2bow(rev) for rev in reviews_2]"
   ]
  },
  {
   "cell_type": "code",
   "execution_count": 48,
   "metadata": {},
   "outputs": [
    {
     "name": "stderr",
     "output_type": "stream",
     "text": [
      "C:\\Anaconda3\\lib\\site-packages\\ipykernel\\ipkernel.py:287: DeprecationWarning: `should_run_async` will not call `transform_cell` automatically in the future. Please pass the result to `transformed_cell` argument and any exception that happen during thetransform in `preprocessing_exc_tuple` in IPython 7.17 and above.\n",
      "  and should_run_async(code)\n"
     ]
    }
   ],
   "source": [
    "# Creating the object for LDA model using gensim library\n",
    "LDA = gensim.models.ldamodel.LdaModel"
   ]
  },
  {
   "cell_type": "markdown",
   "metadata": {},
   "source": [
    "There are many approaches for obtaining topics from a text such as – Term Frequency and Inverse Document Frequency. NonNegative Matrix Factorization techniques. Latent Dirichlet Allocation is the most popular topic modeling technique. In our problem setting, LDA assumes reviews  are produced from a mixture of topics. Those topics then generate words based on their probability distribution. Given a dataset of reviews, LDA backtracks and tries to figure out what topics would create those reviews"
   ]
  },
  {
   "cell_type": "code",
   "execution_count": 49,
   "metadata": {},
   "outputs": [
    {
     "name": "stderr",
     "output_type": "stream",
     "text": [
      "C:\\Anaconda3\\lib\\site-packages\\ipykernel\\ipkernel.py:287: DeprecationWarning: `should_run_async` will not call `transform_cell` automatically in the future. Please pass the result to `transformed_cell` argument and any exception that happen during thetransform in `preprocessing_exc_tuple` in IPython 7.17 and above.\n",
      "  and should_run_async(code)\n"
     ]
    }
   ],
   "source": [
    "# Build LDA model\n",
    "lda_model = LDA(corpus=doc_term_matrix,\n",
    "                id2word=dictionary,\n",
    "                num_topics=7, \n",
    "                random_state=100,\n",
    "                chunksize=1000,\n",
    "                passes=50)"
   ]
  },
  {
   "cell_type": "code",
   "execution_count": 50,
   "metadata": {},
   "outputs": [
    {
     "name": "stderr",
     "output_type": "stream",
     "text": [
      "C:\\Anaconda3\\lib\\site-packages\\ipykernel\\ipkernel.py:287: DeprecationWarning: `should_run_async` will not call `transform_cell` automatically in the future. Please pass the result to `transformed_cell` argument and any exception that happen during thetransform in `preprocessing_exc_tuple` in IPython 7.17 and above.\n",
      "  and should_run_async(code)\n"
     ]
    },
    {
     "data": {
      "text/plain": [
       "[(0,\n",
       "  '0.055*\"good\" + 0.043*\"great\" + 0.024*\"tablet\" + 0.024*\"quality\" + 0.021*\"price\" + 0.020*\"amazon\" + 0.020*\"speaker\" + 0.019*\"voice\" + 0.018*\"sound\" + 0.017*\"streaming\"'),\n",
       " (1,\n",
       "  '0.116*\"battery\" + 0.057*\"time\" + 0.032*\"box\" + 0.029*\"last\" + 0.020*\"week\" + 0.019*\"long\" + 0.017*\"life\" + 0.017*\"month\" + 0.015*\"issue\" + 0.015*\"day\"'),\n",
       " (2,\n",
       "  '0.055*\"app\" + 0.035*\"movie\" + 0.032*\"game\" + 0.030*\"great\" + 0.025*\"kid\" + 0.022*\"many\" + 0.022*\"love\" + 0.022*\"tablet\" + 0.021*\"thing\" + 0.018*\"fun\"'),\n",
       " (3,\n",
       "  '0.067*\"amazon\" + 0.036*\"music\" + 0.033*\"device\" + 0.027*\"prime\" + 0.025*\"alexa\" + 0.024*\"product\" + 0.024*\"home\" + 0.024*\"remote\" + 0.016*\"question\" + 0.016*\"smart\"'),\n",
       " (4,\n",
       "  '0.133*\"fire\" + 0.064*\"kindle\" + 0.048*\"love\" + 0.027*\"screen\" + 0.025*\"light\" + 0.024*\"amazon\" + 0.023*\"new\" + 0.022*\"money\" + 0.021*\"book\" + 0.015*\"worth\"'),\n",
       " (5,\n",
       "  '0.130*\"use\" + 0.115*\"easy\" + 0.106*\"great\" + 0.091*\"good\" + 0.087*\"product\" + 0.028*\"price\" + 0.028*\"tablet\" + 0.023*\"gift\" + 0.019*\"purchase\" + 0.016*\"happy\"'),\n",
       " (6,\n",
       "  '0.078*\"year\" + 0.076*\"cable\" + 0.076*\"old\" + 0.030*\"room\" + 0.029*\"roku\" + 0.028*\"daughter\" + 0.027*\"item\" + 0.027*\"setup\" + 0.023*\"love\" + 0.023*\"perfect\"')]"
      ]
     },
     "execution_count": 50,
     "metadata": {},
     "output_type": "execute_result"
    }
   ],
   "source": [
    "lda_model.print_topics()"
   ]
  },
  {
   "cell_type": "code",
   "execution_count": 53,
   "metadata": {},
   "outputs": [
    {
     "name": "stderr",
     "output_type": "stream",
     "text": [
      "C:\\Anaconda3\\lib\\site-packages\\ipykernel\\ipkernel.py:287: DeprecationWarning: `should_run_async` will not call `transform_cell` automatically in the future. Please pass the result to `transformed_cell` argument and any exception that happen during thetransform in `preprocessing_exc_tuple` in IPython 7.17 and above.\n",
      "  and should_run_async(code)\n"
     ]
    },
    {
     "data": {
      "text/html": [
       "\n",
       "<link rel=\"stylesheet\" type=\"text/css\" href=\"https://cdn.jsdelivr.net/gh/bmabey/pyLDAvis@3.3.1/pyLDAvis/js/ldavis.v1.0.0.css\">\n",
       "\n",
       "\n",
       "<div id=\"ldavis_el1346830852872020327028883650\"></div>\n",
       "<script type=\"text/javascript\">\n",
       "\n",
       "var ldavis_el1346830852872020327028883650_data = {\"mdsDat\": {\"x\": [-0.20822050542733375, -0.10822683836133606, -0.03346554963914987, 0.032536997960617646, -0.1983290808204628, 0.25600568673753044, 0.2596992895501344], \"y\": [-0.023235172697318722, 0.01872409744539205, -0.12465199261106336, -0.1005969195707907, 0.14021076639356972, -0.22795849047908937, 0.3175077115193003], \"topics\": [1, 2, 3, 4, 5, 6, 7], \"cluster\": [1, 1, 1, 1, 1, 1, 1], \"Freq\": [19.521118379736595, 16.039725453477633, 14.78205171713363, 14.581742039631813, 13.747249337209713, 12.825459968425873, 8.502653104384745]}, \"tinfo\": {\"Term\": [\"fire\", \"use\", \"easy\", \"battery\", \"good\", \"product\", \"great\", \"kindle\", \"year\", \"cable\", \"old\", \"time\", \"app\", \"amazon\", \"love\", \"movie\", \"music\", \"game\", \"price\", \"box\", \"tablet\", \"last\", \"prime\", \"light\", \"screen\", \"alexa\", \"device\", \"gift\", \"home\", \"quality\", \"speaker\", \"voice\", \"sound\", \"streaming\", \"nice\", \"stick\", \"echo\", \"brand\", \"control\", \"slow\", \"list\", \"tap\", \"memory\", \"high\", \"dead\", \"speed\", \"performance\", \"interface\", \"card\", \"storage\", \"capability\", \"expensive\", \"warranty\", \"kodi\", \"ethernet\", \"responsive\", \"dollar\", \"poor\", \"processor\", \"automation\", \"quality\", \"camera\", \"little\", \"fast\", \"good\", \"price\", \"great\", \"tablet\", \"overall\", \"well\", \"device\", \"amazon\", \"app\", \"cheap\", \"picture\", \"awesome\", \"kid\", \"movie\", \"game\", \"fun\", \"play\", \"access\", \"watch\", \"download\", \"cord\", \"answer\", \"port\", \"toy\", \"page\", \"timer\", \"information\", \"stuff\", \"help\", \"pack\", \"bluetooth\", \"wish\", \"ton\", \"youtube\", \"whole\", \"electronic\", \"white\", \"web\", \"adult\", \"song\", \"library\", \"future\", \"selection\", \"app\", \"free\", \"many\", \"store\", \"weather\", \"order\", \"kid\", \"thing\", \"available\", \"lot\", \"able\", \"internet\", \"video\", \"love\", \"tablet\", \"great\", \"book\", \"content\", \"option\", \"music\", \"amazon\", \"fire\", \"kindle\", \"reader\", \"second\", \"version\", \"reading\", \"stream\", \"model\", \"vue\", \"addition\", \"playstation\", \"clear\", \"original\", \"paperwhite\", \"eye\", \"generation\", \"previous\", \"station\", \"thought\", \"piece\", \"voyage\", \"bright\", \"upgrade\", \"travel\", \"weight\", \"third\", \"hook\", \"trip\", \"late\", \"numerous\", \"money\", \"screen\", \"light\", \"worth\", \"love\", \"new\", \"book\", \"read\", \"size\", \"small\", \"difference\", \"ipad\", \"well\", \"amazon\", \"happy\", \"wife\", \"great\", \"purchase\", \"big\", \"prime\", \"alexa\", \"home\", \"remote\", \"question\", \"smart\", \"apple\", \"service\", \"user\", \"house\", \"set\", \"dot\", \"command\", \"member\", \"show\", \"decent\", \"firetv\", \"channel\", \"shopping\", \"search\", \"wireless\", \"cool\", \"half\", \"return\", \"alarm\", \"install\", \"terrible\", \"side\", \"change\", \"technology\", \"music\", \"friendly\", \"amazon\", \"device\", \"sure\", \"product\", \"work\", \"item\", \"way\", \"thing\", \"new\", \"well\", \"family\", \"day\", \"use\", \"easy\", \"friend\", \"thank\", \"tech\", \"navigate\", \"everyday\", \"mom\", \"cut\", \"person\", \"audio\", \"party\", \"number\", \"potential\", \"grand\", \"savvy\", \"connectivity\", \"report\", \"code\", \"endless\", \"left\", \"mess\", \"superior\", \"informative\", \"glitch\", \"activity\", \"necessary\", \"enjoy\", \"chromecast\", \"speak\", \"product\", \"gift\", \"good\", \"great\", \"happy\", \"simple\", \"family\", \"purchase\", \"price\", \"sale\", \"excellent\", \"buy\", \"tablet\", \"satisfied\", \"kid\", \"wife\", \"computer\", \"deal\", \"value\", \"work\", \"son\", \"lot\", \"child\", \"battery\", \"time\", \"box\", \"last\", \"week\", \"long\", \"life\", \"issue\", \"charge\", \"hour\", \"review\", \"power\", \"duracell\", \"hard\", \"button\", \"disappointed\", \"turn\", \"buffering\", \"short\", \"energizer\", \"top\", \"paper\", \"cover\", \"keyboard\", \"plug\", \"support\", \"fantastic\", \"company\", \"mouse\", \"dark\", \"program\", \"month\", \"bad\", \"problem\", \"several\", \"day\", \"one\", \"first\", \"light\", \"name\", \"work\", \"little\", \"unit\", \"device\", \"hand\", \"year\", \"cable\", \"old\", \"room\", \"roku\", \"daughter\", \"setup\", \"charger\", \"night\", \"husband\", \"skill\", \"bill\", \"radio\", \"bedroom\", \"ease\", \"waste\", \"mother\", \"birthday\", \"granddaughter\", \"grandson\", \"bed\", \"present\", \"living\", \"brother\", \"sister\", \"law\", \"entire\", \"durable\", \"hub\", \"view\", \"perfect\", \"item\", \"son\", \"favorite\", \"gift\", \"love\", \"tablet\", \"need\", \"month\", \"glad\", \"day\"], \"Freq\": [6755.0, 6132.0, 5447.0, 5112.0, 7994.0, 5344.0, 10267.0, 3282.0, 2277.0, 2224.0, 2213.0, 2511.0, 3903.0, 6799.0, 4329.0, 1942.0, 2490.0, 1750.0, 2733.0, 1435.0, 4683.0, 1293.0, 1342.0, 1861.0, 1742.0, 1252.0, 3509.0, 1556.0, 1213.0, 1814.0, 1348.1127927306409, 1262.422167921405, 1224.2218700284727, 1170.3398519177554, 1099.3244409275133, 1065.7292853711403, 998.1291108318221, 978.1918339887493, 847.5133776502545, 694.5046880242969, 535.5396462588752, 499.66820888045976, 468.4871351359888, 457.1356771023817, 447.1805589160529, 404.41405195646473, 400.1306411429021, 397.18958312630957, 385.5028420376573, 339.24855255026745, 312.4632765745227, 291.63572979923543, 280.17886400595387, 264.6939383228578, 261.40002407513424, 246.81037581877393, 241.7830078035425, 239.65729508238874, 238.19326016854984, 218.21989806808256, 1607.5965268945563, 420.0658210976441, 950.7557089125921, 843.816594819868, 3666.485235159805, 1389.0336623970225, 2873.0975528224135, 1614.8672837521933, 388.31267240094974, 824.4767746668738, 1119.2248500921726, 1364.989551515946, 881.5418066700872, 467.0930799580858, 434.7297993508057, 411.3527493336547, 412.66537013190424, 1942.1562169803115, 1749.5370052972546, 1017.857036387705, 928.7477334487669, 617.3088146827535, 571.1948861889935, 565.0833719467448, 501.17749498068395, 484.5093080685374, 476.216616354154, 376.9911707061191, 374.1467681905533, 326.98385842535595, 326.6246661719867, 303.65865717998696, 297.43839264854165, 292.8132780790627, 282.54893770701, 277.2144904401559, 273.3180722397866, 269.90731447019704, 260.95664364735444, 249.88628079609174, 246.65717638258755, 240.2591672309183, 233.13490467005278, 230.3995867434612, 223.8282560147796, 223.37257970251568, 221.3955565330369, 3021.3265069817944, 864.6392193867332, 1211.9259776294632, 916.6520474641753, 666.0313614873869, 361.05165444771467, 1367.3002853497608, 1171.176069075193, 518.3602463966906, 986.9530277453769, 730.1476930211434, 581.3009227586592, 597.5236166440754, 1210.374209492485, 1206.866736225693, 1679.1617590346864, 695.0066661357861, 464.6086994604779, 463.6767745419427, 683.3063282112818, 872.0595429737327, 6755.071413757758, 3281.653613189461, 677.2351606958903, 642.6693235173076, 635.6198582354102, 589.6527033799205, 588.3096794991537, 538.3768242005373, 418.00818446692176, 387.4293294580394, 384.74558050216024, 379.81094532522116, 374.49105875943883, 360.9341012524512, 321.8490017495534, 307.38088773746887, 241.80883098953325, 223.45988275131566, 217.3525960013358, 214.80056623955056, 212.16921583317512, 211.557283247587, 204.37616986867783, 191.59603093016938, 186.3051282748543, 166.2251556798524, 165.51800040231225, 149.58156575178296, 146.75806363153322, 143.58609101291052, 1117.6462253230357, 1361.9928666579353, 1277.033844273201, 777.8627950229035, 2433.0284137364156, 1160.9853002379264, 1069.0513697113847, 393.81261508071043, 538.7470030079764, 612.2664100875819, 293.0173575331455, 503.295675370933, 721.1724938575795, 1200.1886104893201, 481.74624458417276, 379.9048645706681, 718.8409361473696, 421.9030722162822, 375.6795649817867, 1341.6113677856968, 1252.0379731655498, 1212.533836238953, 1183.4185508271653, 818.7616055884188, 813.9913949304042, 726.5867666924029, 666.2755641127537, 544.096939911452, 527.4831654728594, 488.0394837566131, 472.88813628580635, 464.35633043589, 406.8852603369359, 368.14808168024354, 336.63242518060895, 318.1441885528733, 316.7181609518763, 308.2820875406243, 303.36340393561176, 301.79608039828094, 275.9722141572921, 275.86210431941447, 241.40256428589993, 227.3333323513306, 225.2962302169403, 220.59643374824367, 207.835358119007, 206.7498995452289, 192.5334921362735, 1806.4549868544361, 437.3542187959561, 3361.8127875781447, 1674.299429470258, 300.13964036371254, 1215.1527204169572, 626.8843423702224, 497.0618978990346, 431.0496707962043, 524.6309700035561, 475.57771518774734, 365.22023537540474, 324.79645921262335, 320.98072083929384, 6131.794236648777, 5446.643594457723, 753.1512751491243, 258.2273106547836, 255.30639336992215, 248.69113107654562, 233.57177838318393, 224.94433009623623, 223.04712678915487, 217.7108898479687, 208.58624117295818, 150.06842895011448, 133.45139205222097, 104.8618848585811, 104.64505532634288, 101.47056782716948, 98.68834827013632, 95.46986892847994, 90.30705924708228, 85.26664871259302, 83.05011333748804, 79.84557980661879, 73.28729642645824, 69.41741933803587, 69.58449356746583, 68.98385394356471, 65.07505421294549, 60.87961324614774, 52.866700803885486, 52.4537207705762, 4128.220241323692, 1076.8156580572863, 4327.593739936668, 4995.8254192527875, 759.4319702236173, 426.1774538141721, 575.7624132969987, 903.3873844287031, 1344.0770329819677, 361.96587174996245, 472.4152605839117, 449.9166509940523, 1342.068042788577, 152.31368795684065, 703.0902775235975, 324.82357677358885, 214.99714857480058, 219.32911081930382, 194.3536018096441, 369.40518764984995, 257.03302910737636, 280.44654118887433, 239.12923081685588, 5112.070036969096, 2510.2447309946947, 1434.7038899791808, 1292.5182741473648, 863.488785671895, 859.4425636377612, 759.6195230634066, 681.3856411426281, 593.4486399610939, 530.6570642958634, 420.63083270615346, 411.5743934076578, 359.0094084969576, 295.67912477667943, 278.7971793835268, 239.69006713607743, 238.25869398717956, 235.478977695349, 234.480746467119, 228.4659853911118, 197.08002627143642, 195.8229585610148, 186.21888722961387, 173.5145355169823, 166.9915292273929, 151.4155586445104, 137.40873797005275, 134.21017045942298, 133.0485934245096, 124.21244683748199, 227.81151236984718, 732.5188416612111, 493.1913265472185, 571.8091862618044, 345.66941870250275, 681.282994835105, 322.6941853406284, 423.6748961393136, 583.5545393493218, 273.16002183142865, 395.1924786447829, 340.1899523628235, 280.78354581895434, 376.83700767275997, 238.8265591864715, 2276.677964135884, 2223.229019626211, 2212.367056803017, 877.9291977732631, 858.8129632879788, 821.6490020957847, 797.3807999926339, 626.4177015404698, 439.4421721350952, 362.76605177787076, 362.58954842623785, 310.59344406255883, 273.0122162968797, 254.71939148506107, 229.09551604858538, 227.75707319382582, 204.64550785949643, 196.74645123732327, 192.4853702461649, 183.05633164397779, 179.02129163032762, 177.20301266362196, 175.83986915446334, 154.21000229138335, 121.26256003779213, 117.78676083359049, 117.8766346826263, 116.16968587291677, 102.43944816373443, 101.66684386496262, 667.0524591001302, 801.8006358519663, 419.4068061246951, 261.0843629831948, 479.43277697788346, 685.6382565743905, 518.9463538405172, 237.2522937370214, 263.4783362305739, 197.63369819806857, 207.51957622126844], \"Total\": [6755.0, 6132.0, 5447.0, 5112.0, 7994.0, 5344.0, 10267.0, 3282.0, 2277.0, 2224.0, 2213.0, 2511.0, 3903.0, 6799.0, 4329.0, 1942.0, 2490.0, 1750.0, 2733.0, 1435.0, 4683.0, 1293.0, 1342.0, 1861.0, 1742.0, 1252.0, 3509.0, 1556.0, 1213.0, 1814.0, 1348.9705750092432, 1263.2808191483425, 1225.0793017173098, 1171.1991257890943, 1100.1817470924998, 1066.591194485511, 998.9890128687313, 979.0616351312876, 848.371228239631, 695.3640315763738, 536.3997877521762, 500.5274213336456, 469.3444703550753, 457.99435284637013, 448.05745473213085, 405.2722911448818, 400.98947561036823, 398.0501778046994, 386.36137855800587, 340.1063723383147, 313.3208188796023, 292.4938288836916, 281.0436172190463, 265.55560935380265, 262.26004115298576, 247.66859303532212, 242.64503326642281, 240.51908346256897, 239.05074327904248, 219.0792376321404, 1814.540270313625, 457.90742962912356, 1291.7051126150634, 1118.1254520332823, 7994.759745376524, 2733.7908166833427, 10267.29620612711, 4683.121073765947, 485.18316633831756, 1911.4542714456481, 3509.238640141107, 6799.489023668455, 3903.5803125704506, 697.1446931350121, 654.9380768115412, 859.7998138334607, 2483.589444855561, 1942.999704334911, 1750.3792030905815, 1018.6992390975353, 929.5899396402352, 618.1513969474726, 572.0383322985259, 565.9253971456243, 502.0237278287866, 485.3525638866451, 477.0647578222146, 377.8397295106556, 374.9902918984485, 327.8271154542933, 327.4672916998084, 304.5015291908579, 298.282308441309, 293.6713408174073, 283.39402760629696, 278.05737559157683, 274.16078623168886, 270.7499047005935, 261.79976600212456, 250.73039079844878, 247.50109871245195, 241.10096568249642, 233.9777482116029, 231.2429133618005, 224.67075477114273, 224.21686931667261, 222.23843735105498, 3903.5803125704506, 1011.3186549898405, 1484.00017018606, 1144.568253240817, 806.1286080028264, 408.3716599693195, 2483.589444855561, 2170.2619010254784, 698.9655673671194, 1914.0355729424477, 1271.4317096907516, 917.9476704127127, 995.0451359839867, 4329.55953356318, 4683.121073765947, 10267.29620612711, 1764.7365698474655, 733.2471319616184, 817.1614706884521, 2490.4926406692566, 6799.489023668455, 6755.898117011668, 3282.4785419020695, 678.0596251239591, 643.4961457145207, 636.4465343324554, 590.4774252222069, 589.1388852221323, 539.2024883755895, 418.8388001149626, 388.2564816733228, 385.57590296896575, 380.6364716120143, 375.3167352752489, 361.7584141139468, 322.6742311283136, 308.2061103543601, 242.6346404634638, 224.29602090912175, 218.1805157779038, 215.62828915576117, 212.99384239801986, 212.38188158624328, 205.2017521814051, 192.42115582960432, 187.12958947188773, 167.05162264446005, 166.3472005950182, 150.40793144570793, 147.58462649106917, 144.41857901658844, 1393.6599144705756, 1742.0592178457082, 1861.3156311125106, 1051.160784214657, 4329.55953356318, 1837.1291831692056, 1764.7365698474655, 506.4167534416035, 806.0845045725491, 967.7654660657132, 364.446596644742, 953.570984963886, 1911.4542714456481, 6799.489023668455, 1241.8265551332859, 705.3766145472168, 10267.29620612711, 1619.335171871567, 721.2554300257707, 1342.4898665247458, 1252.9157150234541, 1213.4117287026324, 1184.3008125695076, 819.6392148013753, 814.8690610118238, 727.4660786303407, 667.1553807366142, 544.9755285349848, 528.3616264144534, 488.9185505541284, 473.76629432250695, 465.23425369281625, 407.7631773600546, 369.030196743366, 337.51388263994494, 319.02620831025257, 317.6034711757556, 309.159919671404, 304.2422226539738, 302.67695742862526, 276.85012590334225, 276.7472096917406, 242.28605888803585, 228.21094363230904, 226.17768163443682, 221.48278371877396, 208.7157291480622, 207.63106907082735, 193.41095813818552, 2490.4926406692566, 514.3321649453628, 6799.489023668455, 3509.238640141107, 359.6848168291764, 5344.07433587138, 2103.615874621272, 1299.5806808893744, 1108.4470854262152, 2170.2619010254784, 1837.1291831692056, 1911.4542714456481, 901.2590548306925, 1368.49526535293, 6132.605784706046, 5447.454469263714, 753.9624357949037, 259.03929063259875, 256.1181599993799, 249.50360358741506, 234.38266701405152, 225.75474111668686, 223.8724528435153, 218.52254002285576, 209.4024047147933, 150.88411122492695, 134.2655200107037, 105.67501843198279, 105.45930274304847, 102.28108328761864, 99.5018904160215, 96.2866989756565, 91.12895850101233, 86.08040502346, 83.87214879617405, 80.66697100429033, 74.10634941694804, 70.22819664625973, 70.39803368022862, 69.7960140865799, 65.89421414905662, 61.69030127411923, 53.68543109831009, 53.26851554029825, 5344.07433587138, 1556.8975605163037, 7994.759745376524, 10267.29620612711, 1241.8265551332859, 622.4998628229205, 901.2590548306925, 1619.335171871567, 2733.7908166833427, 535.9758391341492, 811.264474758833, 772.6655524050119, 4683.121073765947, 196.88089339351316, 2483.589444855561, 705.3766145472168, 360.9024213319665, 439.147703684625, 347.41583155453947, 2103.615874621272, 890.2071746953605, 1914.0355729424477, 789.2696187346814, 5112.959956327788, 2511.1356932106237, 1435.5976391334773, 1293.4088179151138, 864.3790387372129, 860.3326213874785, 760.5090291330209, 682.2768027993598, 594.3398644885533, 531.5473073000312, 421.52143729974136, 412.46516353735734, 359.902432628235, 296.57060733928085, 279.6880789376214, 240.58287518265345, 239.1491293091493, 236.37316936981833, 235.37120118688787, 229.35836646696802, 197.97060254666886, 196.71448373821275, 187.10893385380908, 174.40455889464377, 167.8826142486074, 152.3087334403086, 138.2992267524355, 135.10171076043426, 133.93962722914057, 125.1026329976295, 243.39378709317697, 996.7274646571998, 698.7931093612967, 887.718042518008, 465.01193328226685, 1368.49526535293, 483.84601570433534, 769.8463409596748, 1861.3156311125106, 395.0201309532885, 2103.615874621272, 1291.7051126150634, 568.0894531462865, 3509.238640141107, 399.8052332568693, 2277.505760808456, 2224.0591807631417, 2213.1943743873053, 878.7575351322007, 859.6438373662394, 822.4760549328009, 798.2092334580564, 627.2461588122196, 440.2706115545486, 363.5934385507027, 363.4194581470145, 311.42075011737967, 273.8416124089019, 255.5477548415397, 229.9226131518027, 228.58974060954716, 205.4718784029179, 197.572836282365, 193.31184222111958, 183.88243700784594, 179.84855948280537, 178.02947273189963, 176.66776564147023, 155.03753803423444, 122.08924136982705, 118.61336289899013, 118.70683854796874, 116.99660168864789, 103.26943367692166, 102.49518713383796, 858.1172288075444, 1299.5806808893744, 890.2071746953605, 426.4083520463354, 1556.8975605163037, 4329.55953356318, 4683.121073765947, 519.3567902696507, 996.7274646571998, 331.92974221028004, 1368.49526535293], \"Category\": [\"Default\", \"Default\", \"Default\", \"Default\", \"Default\", \"Default\", \"Default\", \"Default\", \"Default\", \"Default\", \"Default\", \"Default\", \"Default\", \"Default\", \"Default\", \"Default\", \"Default\", \"Default\", \"Default\", \"Default\", \"Default\", \"Default\", \"Default\", \"Default\", \"Default\", \"Default\", \"Default\", \"Default\", \"Default\", \"Default\", \"Topic1\", \"Topic1\", \"Topic1\", \"Topic1\", \"Topic1\", \"Topic1\", \"Topic1\", \"Topic1\", \"Topic1\", \"Topic1\", \"Topic1\", \"Topic1\", \"Topic1\", \"Topic1\", \"Topic1\", \"Topic1\", \"Topic1\", \"Topic1\", \"Topic1\", \"Topic1\", \"Topic1\", \"Topic1\", \"Topic1\", \"Topic1\", \"Topic1\", \"Topic1\", \"Topic1\", \"Topic1\", \"Topic1\", \"Topic1\", \"Topic1\", \"Topic1\", \"Topic1\", \"Topic1\", \"Topic1\", \"Topic1\", \"Topic1\", \"Topic1\", \"Topic1\", \"Topic1\", \"Topic1\", \"Topic1\", \"Topic1\", \"Topic1\", \"Topic1\", \"Topic1\", \"Topic1\", \"Topic2\", \"Topic2\", \"Topic2\", \"Topic2\", \"Topic2\", \"Topic2\", \"Topic2\", \"Topic2\", \"Topic2\", \"Topic2\", \"Topic2\", \"Topic2\", \"Topic2\", \"Topic2\", \"Topic2\", \"Topic2\", \"Topic2\", \"Topic2\", \"Topic2\", \"Topic2\", \"Topic2\", \"Topic2\", \"Topic2\", \"Topic2\", \"Topic2\", \"Topic2\", \"Topic2\", \"Topic2\", \"Topic2\", \"Topic2\", \"Topic2\", \"Topic2\", \"Topic2\", \"Topic2\", \"Topic2\", \"Topic2\", \"Topic2\", \"Topic2\", \"Topic2\", \"Topic2\", \"Topic2\", \"Topic2\", \"Topic2\", \"Topic2\", \"Topic2\", \"Topic2\", \"Topic2\", \"Topic2\", \"Topic2\", \"Topic2\", \"Topic2\", \"Topic3\", \"Topic3\", \"Topic3\", \"Topic3\", \"Topic3\", \"Topic3\", \"Topic3\", \"Topic3\", \"Topic3\", \"Topic3\", \"Topic3\", \"Topic3\", \"Topic3\", \"Topic3\", \"Topic3\", \"Topic3\", \"Topic3\", \"Topic3\", \"Topic3\", \"Topic3\", \"Topic3\", \"Topic3\", \"Topic3\", \"Topic3\", \"Topic3\", \"Topic3\", \"Topic3\", \"Topic3\", \"Topic3\", \"Topic3\", \"Topic3\", \"Topic3\", \"Topic3\", \"Topic3\", \"Topic3\", \"Topic3\", \"Topic3\", \"Topic3\", \"Topic3\", \"Topic3\", \"Topic3\", \"Topic3\", \"Topic3\", \"Topic3\", \"Topic3\", \"Topic3\", \"Topic3\", \"Topic3\", \"Topic3\", \"Topic4\", \"Topic4\", \"Topic4\", \"Topic4\", \"Topic4\", \"Topic4\", \"Topic4\", \"Topic4\", \"Topic4\", \"Topic4\", \"Topic4\", \"Topic4\", \"Topic4\", \"Topic4\", \"Topic4\", \"Topic4\", \"Topic4\", \"Topic4\", \"Topic4\", \"Topic4\", \"Topic4\", \"Topic4\", \"Topic4\", \"Topic4\", \"Topic4\", \"Topic4\", \"Topic4\", \"Topic4\", \"Topic4\", \"Topic4\", \"Topic4\", \"Topic4\", \"Topic4\", \"Topic4\", \"Topic4\", \"Topic4\", \"Topic4\", \"Topic4\", \"Topic4\", \"Topic4\", \"Topic4\", \"Topic4\", \"Topic4\", \"Topic4\", \"Topic5\", \"Topic5\", \"Topic5\", \"Topic5\", \"Topic5\", \"Topic5\", \"Topic5\", \"Topic5\", \"Topic5\", \"Topic5\", \"Topic5\", \"Topic5\", \"Topic5\", \"Topic5\", \"Topic5\", \"Topic5\", \"Topic5\", \"Topic5\", \"Topic5\", \"Topic5\", \"Topic5\", \"Topic5\", \"Topic5\", \"Topic5\", \"Topic5\", \"Topic5\", \"Topic5\", \"Topic5\", \"Topic5\", \"Topic5\", \"Topic5\", \"Topic5\", \"Topic5\", \"Topic5\", \"Topic5\", \"Topic5\", \"Topic5\", \"Topic5\", \"Topic5\", \"Topic5\", \"Topic5\", \"Topic5\", \"Topic5\", \"Topic5\", \"Topic5\", \"Topic5\", \"Topic5\", \"Topic5\", \"Topic5\", \"Topic5\", \"Topic5\", \"Topic5\", \"Topic5\", \"Topic6\", \"Topic6\", \"Topic6\", \"Topic6\", \"Topic6\", \"Topic6\", \"Topic6\", \"Topic6\", \"Topic6\", \"Topic6\", \"Topic6\", \"Topic6\", \"Topic6\", \"Topic6\", \"Topic6\", \"Topic6\", \"Topic6\", \"Topic6\", \"Topic6\", \"Topic6\", \"Topic6\", \"Topic6\", \"Topic6\", \"Topic6\", \"Topic6\", \"Topic6\", \"Topic6\", \"Topic6\", \"Topic6\", \"Topic6\", \"Topic6\", \"Topic6\", \"Topic6\", \"Topic6\", \"Topic6\", \"Topic6\", \"Topic6\", \"Topic6\", \"Topic6\", \"Topic6\", \"Topic6\", \"Topic6\", \"Topic6\", \"Topic6\", \"Topic6\", \"Topic7\", \"Topic7\", \"Topic7\", \"Topic7\", \"Topic7\", \"Topic7\", \"Topic7\", \"Topic7\", \"Topic7\", \"Topic7\", \"Topic7\", \"Topic7\", \"Topic7\", \"Topic7\", \"Topic7\", \"Topic7\", \"Topic7\", \"Topic7\", \"Topic7\", \"Topic7\", \"Topic7\", \"Topic7\", \"Topic7\", \"Topic7\", \"Topic7\", \"Topic7\", \"Topic7\", \"Topic7\", \"Topic7\", \"Topic7\", \"Topic7\", \"Topic7\", \"Topic7\", \"Topic7\", \"Topic7\", \"Topic7\", \"Topic7\", \"Topic7\", \"Topic7\", \"Topic7\", \"Topic7\"], \"logprob\": [30.0, 29.0, 28.0, 27.0, 26.0, 25.0, 24.0, 23.0, 22.0, 21.0, 20.0, 19.0, 18.0, 17.0, 16.0, 15.0, 14.0, 13.0, 12.0, 11.0, 10.0, 9.0, 8.0, 7.0, 6.0, 5.0, 4.0, 3.0, 2.0, 1.0, -3.9091, -3.9748, -4.0055, -4.0505, -4.1131, -4.1442, -4.2097, -4.2299, -4.3733, -4.5724, -4.8323, -4.9016, -4.9661, -4.9906, -5.0126, -5.1131, -5.1238, -5.1312, -5.161, -5.2888, -5.3711, -5.4401, -5.4801, -5.537, -5.5495, -5.6069, -5.6275, -5.6364, -5.6425, -5.7301, -3.7331, -5.0752, -4.2583, -4.3776, -2.9086, -3.8792, -3.1524, -3.7286, -5.1538, -4.4008, -4.0952, -3.8967, -4.3339, -4.969, -5.0408, -5.0961, -5.0929, -3.3476, -3.452, -3.9937, -4.0853, -4.4938, -4.5714, -4.5822, -4.7022, -4.736, -4.7533, -4.9869, -4.9945, -5.1292, -5.1303, -5.2032, -5.2239, -5.2396, -5.2753, -5.2943, -5.3085, -5.3211, -5.3548, -5.3981, -5.4111, -5.4374, -5.4675, -5.4793, -5.5083, -5.5103, -5.5192, -2.9057, -4.1568, -3.8192, -4.0984, -4.4178, -5.0301, -3.6985, -3.8534, -4.6685, -4.0245, -4.3259, -4.5539, -4.5263, -3.8205, -3.8234, -3.4931, -4.3752, -4.7779, -4.78, -4.3922, -4.1483, -2.0194, -2.7414, -4.3195, -4.3719, -4.3829, -4.458, -4.4602, -4.5489, -4.802, -4.878, -4.8849, -4.8978, -4.9119, -4.9488, -5.0634, -5.1094, -5.3493, -5.4283, -5.456, -5.4678, -5.4801, -5.483, -5.5175, -5.5821, -5.6101, -5.7241, -5.7284, -5.8296, -5.8487, -5.8706, -3.8185, -3.6208, -3.6852, -4.1809, -3.0406, -3.7805, -3.863, -4.8616, -4.5482, -4.4203, -5.1573, -4.6163, -4.2566, -3.7473, -4.6601, -4.8976, -4.2598, -4.7927, -4.9087, -3.6222, -3.6913, -3.7234, -3.7477, -4.116, -4.1219, -4.2355, -4.3221, -4.5247, -4.5557, -4.6334, -4.665, -4.6832, -4.8153, -4.9154, -5.0049, -5.0613, -5.0658, -5.0928, -5.1089, -5.1141, -5.2035, -5.2039, -5.3374, -5.3974, -5.4064, -5.4275, -5.4871, -5.4923, -5.5636, -3.3247, -4.7431, -2.7036, -3.4007, -5.1196, -3.7212, -4.3831, -4.6151, -4.7576, -4.5611, -4.6593, -4.9233, -5.0406, -5.0525, -2.0437, -2.1622, -4.1406, -5.2111, -5.2224, -5.2487, -5.3114, -5.3491, -5.3575, -5.3817, -5.4246, -5.7538, -5.8712, -6.1123, -6.1143, -6.1451, -6.1729, -6.2061, -6.2617, -6.3191, -6.3455, -6.3848, -6.4705, -6.5248, -6.5224, -6.531, -6.5894, -6.656, -6.7971, -6.805, -2.4393, -3.7831, -2.3921, -2.2486, -4.1323, -4.7101, -4.4092, -3.9588, -3.5614, -4.8734, -4.6071, -4.6558, -3.5629, -5.739, -4.2094, -4.9816, -5.3943, -5.3743, -5.4952, -4.853, -5.2157, -5.1285, -5.2879, -2.1561, -2.8674, -3.4268, -3.5312, -3.9345, -3.9392, -4.0627, -4.1714, -4.3096, -4.4214, -4.6537, -4.6755, -4.8122, -5.0062, -5.065, -5.2162, -5.2221, -5.2339, -5.2381, -5.2641, -5.4119, -5.4183, -5.4686, -5.5392, -5.5776, -5.6755, -5.7725, -5.7961, -5.8048, -5.8735, -5.267, -4.099, -4.4946, -4.3467, -4.85, -4.1715, -4.9188, -4.6465, -4.3264, -5.0854, -4.7161, -4.866, -5.0579, -4.7637, -5.2198, -2.554, -2.5777, -2.5826, -3.5069, -3.5289, -3.5731, -3.6031, -3.8444, -4.1989, -4.3907, -4.3912, -4.546, -4.6749, -4.7443, -4.8503, -4.8562, -4.9632, -5.0025, -5.0244, -5.0747, -5.0969, -5.1072, -5.1149, -5.2461, -5.4865, -5.5156, -5.5148, -5.5294, -5.6552, -5.6627, -3.7816, -3.5976, -4.2456, -4.7196, -4.1118, -3.7541, -4.0327, -4.8153, -4.7105, -4.998, -4.9492], \"loglift\": [30.0, 29.0, 28.0, 27.0, 26.0, 25.0, 24.0, 23.0, 22.0, 21.0, 20.0, 19.0, 18.0, 17.0, 16.0, 15.0, 14.0, 13.0, 12.0, 11.0, 10.0, 9.0, 8.0, 7.0, 6.0, 5.0, 4.0, 3.0, 2.0, 1.0, 1.633, 1.633, 1.633, 1.6329, 1.6329, 1.6329, 1.6328, 1.6328, 1.6327, 1.6324, 1.6321, 1.632, 1.6318, 1.6318, 1.6317, 1.6316, 1.6315, 1.6315, 1.6314, 1.6311, 1.6309, 1.6307, 1.6306, 1.6304, 1.6304, 1.6302, 1.6301, 1.6301, 1.6301, 1.6297, 1.5126, 1.5474, 1.3272, 1.3522, 0.8541, 0.9566, 0.3601, 0.569, 1.411, 0.7928, 0.4909, 0.028, 0.1457, 1.2332, 1.2239, 0.8964, -0.1611, 1.8297, 1.8296, 1.8293, 1.8292, 1.8287, 1.8286, 1.8286, 1.8284, 1.8284, 1.8283, 1.8279, 1.8278, 1.8275, 1.8275, 1.8273, 1.8273, 1.8272, 1.8271, 1.8271, 1.827, 1.827, 1.8269, 1.8267, 1.8267, 1.8266, 1.8265, 1.8264, 1.8263, 1.8263, 1.8263, 1.5739, 1.6734, 1.6276, 1.608, 1.6392, 1.7069, 1.2332, 1.2133, 1.5312, 1.1678, 1.2754, 1.3732, 1.3201, 0.5556, 0.4742, 0.0194, 0.8983, 1.3738, 1.2635, 0.5368, -0.2236, 1.9116, 1.9115, 1.9105, 1.9105, 1.9105, 1.9104, 1.9103, 1.9102, 1.9098, 1.9096, 1.9096, 1.9096, 1.9096, 1.9095, 1.9092, 1.9091, 1.9083, 1.908, 1.908, 1.9079, 1.9079, 1.9079, 1.9077, 1.9075, 1.9073, 1.9068, 1.9068, 1.9062, 1.9061, 1.906, 1.691, 1.6656, 1.535, 1.6107, 1.3354, 1.4528, 1.4105, 1.6603, 1.5088, 1.4539, 1.6936, 1.2727, 0.937, 0.1774, 0.9648, 1.2929, -0.7473, 0.5668, 1.2595, 1.9247, 1.9247, 1.9247, 1.9247, 1.9243, 1.9243, 1.9242, 1.9241, 1.9238, 1.9237, 1.9236, 1.9235, 1.9235, 1.9232, 1.923, 1.9228, 1.9226, 1.9226, 1.9226, 1.9225, 1.9225, 1.9222, 1.9222, 1.9217, 1.9215, 1.9215, 1.9214, 1.9212, 1.9211, 1.9209, 1.6043, 1.7633, 1.221, 1.1854, 1.7444, 0.4443, 0.7147, 0.9643, 0.9809, 0.5055, 0.574, 0.2703, 0.9048, 0.4753, 1.9842, 1.9842, 1.9833, 1.9812, 1.9812, 1.9811, 1.9809, 1.9807, 1.9806, 1.9806, 1.9804, 1.9789, 1.9782, 1.9766, 1.9766, 1.9764, 1.9761, 1.9758, 1.9753, 1.9748, 1.9745, 1.9741, 1.9732, 1.9727, 1.9727, 1.9726, 1.9718, 1.9711, 1.969, 1.9689, 1.7262, 1.6156, 1.3706, 1.264, 1.4926, 1.6054, 1.5362, 1.4007, 1.2743, 1.5918, 1.4436, 1.4435, 0.7346, 1.7277, 0.7224, 1.2089, 1.4663, 1.2901, 1.4035, 0.2448, 0.7421, 0.0637, 0.7902, 2.0536, 2.0534, 2.0531, 2.053, 2.0527, 2.0527, 2.0526, 2.0524, 2.0522, 2.0521, 2.0516, 2.0516, 2.0513, 2.0507, 2.0505, 2.05, 2.05, 2.0499, 2.0499, 2.0498, 2.0492, 2.0492, 2.049, 2.0486, 2.0484, 2.0479, 2.0473, 2.0471, 2.0471, 2.0466, 1.9876, 1.7457, 1.7053, 1.6139, 1.7572, 1.3562, 1.6487, 1.4565, 0.8938, 1.6849, 0.3817, 0.7195, 1.349, -0.1776, 1.5385, 2.4644, 2.4644, 2.4644, 2.4638, 2.4638, 2.4638, 2.4638, 2.4635, 2.4629, 2.4625, 2.4625, 2.4621, 2.4618, 2.4615, 2.4612, 2.4611, 2.4608, 2.4606, 2.4605, 2.4603, 2.4602, 2.4601, 2.4601, 2.4594, 2.458, 2.4578, 2.4578, 2.4577, 2.4567, 2.4567, 2.2129, 1.9819, 1.7122, 1.9742, 1.2869, 0.6219, 0.2649, 1.6813, 1.1343, 1.9463, 0.5786]}, \"token.table\": {\"Topic\": [2, 3, 4, 7, 2, 5, 3, 2, 4, 4, 1, 2, 3, 4, 2, 1, 2, 4, 5, 1, 2, 4, 1, 2, 3, 1, 6, 6, 7, 7, 1, 2, 3, 7, 7, 2, 2, 3, 6, 1, 3, 7, 6, 6, 1, 3, 5, 6, 7, 1, 3, 1, 1, 4, 4, 6, 7, 1, 3, 6, 1, 2, 5, 7, 5, 3, 5, 4, 6, 3, 5, 6, 5, 1, 2, 1, 4, 2, 6, 5, 6, 7, 4, 5, 6, 7, 1, 1, 5, 4, 1, 2, 4, 6, 3, 6, 6, 1, 4, 2, 7, 6, 7, 5, 1, 2, 5, 6, 5, 7, 1, 5, 1, 5, 1, 3, 4, 5, 6, 1, 3, 5, 4, 7, 3, 4, 3, 6, 2, 4, 5, 4, 7, 2, 2, 2, 3, 5, 7, 3, 7, 5, 1, 5, 5, 7, 7, 1, 2, 3, 5, 4, 1, 2, 6, 3, 5, 6, 2, 1, 4, 3, 6, 4, 7, 7, 2, 5, 4, 1, 1, 2, 1, 2, 3, 6, 4, 7, 6, 1, 2, 5, 3, 1, 6, 3, 7, 5, 2, 6, 3, 6, 1, 1, 6, 7, 6, 1, 2, 3, 5, 6, 2, 3, 7, 1, 2, 4, 1, 5, 3, 5, 3, 4, 6, 7, 7, 6, 2, 2, 4, 1, 6, 5, 5, 3, 4, 6, 7, 3, 4, 6, 1, 7, 5, 3, 7, 1, 6, 1, 2, 2, 7, 3, 1, 5, 2, 2, 6, 3, 5, 2, 7, 1, 5, 1, 3, 5, 3, 2, 3, 6, 1, 2, 5, 6, 7, 3, 1, 5, 4, 5, 6, 7, 1, 4, 5, 1, 6, 3, 4, 5, 1, 5, 4, 7, 2, 3, 3, 3, 4, 5, 1, 4, 6, 7, 7, 4, 5, 4, 5, 5, 1, 3, 4, 3, 2, 4, 4, 7, 4, 6, 7, 4, 6, 4, 4, 4, 5, 7, 1, 3, 5, 7, 1, 1, 3, 4, 2, 5, 7, 2, 1, 5, 1, 1, 3, 1, 1, 2, 4, 3, 1, 2, 5, 6, 1, 4, 1, 2, 5, 7, 1, 5, 4, 4, 5, 1, 2, 4, 6, 3, 3, 6, 2, 2, 6, 2, 3, 3, 6, 1, 6, 3, 5, 4, 1, 5, 3, 1, 2, 7, 1, 3, 3, 1, 7, 2, 2, 3, 4, 6, 2, 6, 2, 6, 3, 1, 3, 4, 2, 2, 3, 5, 4, 2, 1, 2, 4, 5, 6, 7, 3, 4, 7, 2], \"Freq\": [0.5741558861840537, 0.1407861693519803, 0.17146025094263523, 0.11247163249906805, 0.9981373544520673, 0.988595135452972, 0.9967637844243898, 0.9958211914633923, 0.9946937530118621, 0.9992691327816596, 0.20075037921946026, 0.12824493090063688, 0.17648384986326177, 0.49444891936690505, 0.9992735922031156, 0.22594642081776867, 0.7739049175629016, 0.9993593122153294, 0.9980783185592287, 0.9950737566745025, 0.7410951614558283, 0.25752341517770094, 0.47801824725634195, 0.3035590329292099, 0.21749248719449135, 0.2933629385489675, 0.705502091242151, 0.9998122503723895, 0.9952818110679029, 0.9978565460616966, 0.37434726833231996, 0.10398535231453332, 0.5213132329368604, 0.998648933581911, 0.9971006323888254, 0.9986096121727577, 0.3938264848560781, 0.6057561328217949, 0.999583700114025, 0.9989156605741729, 0.9982019107120105, 0.9933078269470111, 0.9941906715830766, 0.9975398345891786, 0.2226060155841423, 0.12553943902128956, 0.5823994593771165, 0.06859371410441595, 0.9995237623295715, 0.9172159541944401, 0.0808023578695102, 0.9957844522291068, 0.9990646617957659, 0.996960623120367, 0.9980999226062562, 0.9977456257461271, 0.998013285861201, 0.6698752849999229, 0.1018439940792174, 0.2266387473875542, 0.11909745132556378, 0.48525876444352045, 0.3028116049660611, 0.09249057390176761, 0.9872324561005217, 0.9983278753890324, 0.9876114188115099, 0.9973470274748273, 0.9918453233920344, 0.08866662595916931, 0.5957288931631688, 0.3131040229183166, 0.9949559710481573, 0.36549750870901243, 0.6341654535436223, 0.9995624224074627, 0.9969292919749689, 0.9979607979224127, 0.9940733249291266, 0.9961029021997398, 0.9911861727350664, 0.9994211929575995, 0.23456420210355297, 0.11545527704785473, 0.49762685866828527, 0.1519917571262898, 0.997639912647446, 0.49869326006376063, 0.49869326006376063, 0.9984774473988285, 0.3188725859792211, 0.09631718861570752, 0.4770265495345988, 0.1074307103790584, 0.8039586669144088, 0.194815922699396, 0.9975772374396518, 0.9973416588926649, 0.9983825478264494, 0.9983648071807844, 0.9914817894343628, 0.9974925631326111, 0.9959872883351689, 0.9999165721776514, 0.9990099862400977, 0.9970869474732487, 0.9874488854558067, 0.9940775368786747, 0.9888102139256559, 0.9940455111380705, 0.9951954512496597, 0.9983673408152294, 0.41663355233258337, 0.5818078008904715, 0.9983116605038256, 0.9979104897036372, 0.3606066405191939, 0.639105922889402, 0.9906056831773818, 0.7548347982466617, 0.17439903513992774, 0.07065396808232971, 0.38695302099071077, 0.6120893241125789, 0.9998670617886605, 0.9967833103252302, 0.4481413778883849, 0.550759258622247, 0.8553189400117311, 0.1443659713777026, 0.998723496358424, 0.8496454816245494, 0.14776443158687816, 0.9993135961325006, 0.994572802125098, 0.9997833594629598, 0.9960866760461908, 0.6917603491156101, 0.3076631450569891, 0.4036998887406419, 0.5965117759003514, 0.9943459545754272, 0.4585503650838409, 0.5413546044961439, 0.9956447394293175, 0.9932138548469316, 0.9952010805262045, 0.27982050408612047, 0.16352893364448182, 0.07002817349040048, 0.4865935393018649, 0.9973000280921608, 0.10254993329128853, 0.29764492833325207, 0.5977910745516576, 0.38813793923763107, 0.6111964644841534, 0.9980759814858251, 0.9957010241471921, 0.9978288971464596, 0.99966068508084, 0.9979127956841097, 0.9989703507241694, 0.9974229271272146, 0.9877075565177099, 0.9983678513202324, 0.9985730125980435, 0.9825113457996626, 0.9947931129812345, 0.9973616949237625, 0.36603393726020694, 0.6329336831791078, 0.3229964049416465, 0.14891392695361624, 0.5274908820962604, 0.9981286146705838, 0.3824310466510441, 0.6171221316179826, 0.9976803422043103, 0.16629157482347853, 0.5504130333745645, 0.28305805593439565, 0.9998542132428405, 0.9979077476271179, 0.9996839221215665, 0.9960387033191119, 0.9948288887187824, 0.9896014492451656, 0.9970144989639351, 0.9993306731234983, 0.6860738601527434, 0.31375656564542065, 0.9992546832394332, 0.7362361507377607, 0.2632179718725958, 0.9962202179948016, 0.9984510393371702, 0.20480288116974663, 0.5156643972309691, 0.07732353676816964, 0.14628777226410472, 0.05538037092855393, 0.27947415680970744, 0.5619509285272878, 0.15844567898467712, 0.18261453431371424, 0.8167114966355042, 0.9981283808778527, 0.9971354294340399, 0.9917317956037439, 0.9977698760641626, 0.9966568094519143, 0.8022043171304862, 0.197322171029413, 0.7354066442345878, 0.2638635026380581, 0.9977034404581995, 0.992984695802288, 0.9994854840519632, 0.27424293043341863, 0.7251577340596692, 0.3063135028283112, 0.6911040187779253, 0.9979815779003824, 0.9864295498382626, 0.14248393664320652, 0.24645870122068153, 0.15211122965963939, 0.4563336889789182, 0.631964268292323, 0.25909990672450106, 0.1088655070271013, 0.9989258619354277, 0.9971140214195487, 0.9905744973794998, 0.9971016262627791, 0.9994603391364412, 0.3306837192140309, 0.6675677581633248, 0.4319831669285634, 0.5678192335831542, 0.8839986595228511, 0.11509123822042659, 0.9964916691650234, 0.7996979840175413, 0.19786341872598961, 0.9977139723081636, 0.9973591532371812, 0.9963679149362302, 0.9979035342804552, 0.9941404617242369, 0.2214149694489033, 0.7772830769600974, 0.9975324150119848, 0.9976087591568307, 0.6641849289290467, 0.23208300964877032, 0.10382660957971304, 0.9970862396663208, 0.9993653764793716, 0.9985063823632876, 0.9947426703321381, 0.9978418200539595, 0.9977681063110275, 0.9936123178211957, 0.998872235576532, 0.9942174027923458, 0.9973843781652465, 0.5080856924104918, 0.49162503282915837, 0.9996351059795975, 0.21177895569942332, 0.6443487375535646, 0.14306344347780192, 0.9956045178332035, 0.22735462189297706, 0.7724443449993492, 0.06162852461906779, 0.9367535742098303, 0.26060077452172437, 0.18155598983267054, 0.5576362544860595, 0.8861748765278565, 0.11352737846065825, 0.9992201266242121, 0.9969266452914206, 0.22116171954985506, 0.7780153348450258, 0.9984372685163707, 0.999191458975714, 0.9989016197948177, 0.9866367941850223, 0.9973004528869481, 0.9946919814786778, 0.9987629637460869, 0.999251041724196, 0.9991379474975578, 0.32277574354746225, 0.6754035789837071, 0.22348537352507622, 0.7720403812684451, 0.9874748756422908, 0.2175586203485578, 0.7818333533370336, 0.9959169945475103, 0.9992289841705737, 0.9944274385393617, 0.99826819842877, 0.9981212605799323, 0.9984850670634093, 0.11397556967173243, 0.7440669265362155, 0.13978135903136996, 0.9962481563825064, 0.9941743034832918, 0.997208367357313, 0.9965707943958816, 0.31485950713495203, 0.6843375002014774, 0.9910783181416651, 0.14390550784934458, 0.6686643856103166, 0.1860847084258766, 0.9988458016278127, 0.9994764877677832, 0.3668244140217076, 0.6323846236092536, 0.9989334961242182, 0.23927014525904167, 0.2886968419322709, 0.4706769524109787, 0.9946250748023753, 0.9991189944064871, 0.9761863921411775, 0.9992805069085835, 0.9968606510420743, 0.9942218283504598, 0.9994457159513713, 0.9967469814496326, 0.801175462803146, 0.19832805894908848, 0.9980668646210598, 0.9989761554950902, 0.9983529501733847, 0.9850707877846832, 0.9914073644317875, 0.16403250078810144, 0.8340635633293294, 0.3448554873046006, 0.2577341010381752, 0.2865610303175071, 0.11082352811832057, 0.9989462688532823, 0.9956342025907784, 0.997875207577991, 0.9978202201061959, 0.9959879034950231, 0.109203409914727, 0.5395662152326807, 0.24190628778578765, 0.109203409914727, 0.9937048043723691, 0.9945892703860619, 0.9995477372195799, 0.9974769766889262, 0.9957660384344393, 0.9950972390133528, 0.9977775510485805, 0.9978112810528107, 0.9972878328836323, 0.9951949258085577, 0.5052021269018275, 0.4946404099631133, 0.9941435578954378, 0.9999012190368479, 0.9982099590093388, 0.4375160432956208, 0.5584086342062529, 0.9992983945887557, 0.39897687616694094, 0.6009777630927725, 0.9951686791576726, 0.9989861168404298, 0.9953339383578861, 0.9979973199361368, 0.9962866361123123, 0.997420091523029, 0.998184855384859, 0.19216072900593012, 0.3175613925356216, 0.38883227324674124, 0.10104226126133414, 0.8261709029902893, 0.17242906233581112, 0.9954335907391334, 0.998404590260278, 0.9939635977662559, 0.4310853847300266, 0.3771997116387733, 0.19095408425541227, 0.997975367725401, 0.9969451233118442, 0.5387193056349381, 0.460746774556197, 0.9977634325573499, 0.9961972755107567, 0.13785786820619553, 0.11456464219894179, 0.29805821850098135, 0.1754122529934005, 0.18777192393602493, 0.08604232463903927, 0.7401341561474434, 0.259712885126288, 0.9997779321496527, 0.9972302679056424], \"Term\": [\"able\", \"able\", \"able\", \"able\", \"access\", \"activity\", \"addition\", \"adult\", \"alarm\", \"alexa\", \"amazon\", \"amazon\", \"amazon\", \"amazon\", \"answer\", \"app\", \"app\", \"apple\", \"audio\", \"automation\", \"available\", \"available\", \"awesome\", \"awesome\", \"awesome\", \"bad\", \"bad\", \"battery\", \"bed\", \"bedroom\", \"big\", \"big\", \"big\", \"bill\", \"birthday\", \"bluetooth\", \"book\", \"book\", \"box\", \"brand\", \"bright\", \"brother\", \"buffering\", \"button\", \"buy\", \"buy\", \"buy\", \"buy\", \"cable\", \"camera\", \"camera\", \"capability\", \"card\", \"change\", \"channel\", \"charge\", \"charger\", \"cheap\", \"cheap\", \"cheap\", \"child\", \"child\", \"child\", \"child\", \"chromecast\", \"clear\", \"code\", \"command\", \"company\", \"computer\", \"computer\", \"computer\", \"connectivity\", \"content\", \"content\", \"control\", \"cool\", \"cord\", \"cover\", \"cut\", \"dark\", \"daughter\", \"day\", \"day\", \"day\", \"day\", \"dead\", \"deal\", \"deal\", \"decent\", \"device\", \"device\", \"device\", \"device\", \"difference\", \"difference\", \"disappointed\", \"dollar\", \"dot\", \"download\", \"durable\", \"duracell\", \"ease\", \"easy\", \"echo\", \"electronic\", \"endless\", \"energizer\", \"enjoy\", \"entire\", \"ethernet\", \"everyday\", \"excellent\", \"excellent\", \"expensive\", \"eye\", \"family\", \"family\", \"fantastic\", \"fast\", \"fast\", \"fast\", \"favorite\", \"favorite\", \"fire\", \"firetv\", \"first\", \"first\", \"free\", \"free\", \"friend\", \"friendly\", \"friendly\", \"fun\", \"future\", \"game\", \"generation\", \"gift\", \"gift\", \"glad\", \"glad\", \"glitch\", \"good\", \"good\", \"grand\", \"granddaughter\", \"grandson\", \"great\", \"great\", \"great\", \"great\", \"half\", \"hand\", \"hand\", \"hand\", \"happy\", \"happy\", \"hard\", \"help\", \"high\", \"home\", \"hook\", \"hour\", \"house\", \"hub\", \"husband\", \"information\", \"informative\", \"install\", \"interface\", \"internet\", \"internet\", \"ipad\", \"ipad\", \"ipad\", \"issue\", \"item\", \"item\", \"keyboard\", \"kid\", \"kid\", \"kid\", \"kindle\", \"kodi\", \"last\", \"late\", \"law\", \"left\", \"library\", \"life\", \"light\", \"light\", \"list\", \"little\", \"little\", \"living\", \"long\", \"lot\", \"lot\", \"lot\", \"lot\", \"lot\", \"love\", \"love\", \"love\", \"many\", \"many\", \"member\", \"memory\", \"mess\", \"model\", \"mom\", \"money\", \"money\", \"month\", \"month\", \"mother\", \"mouse\", \"movie\", \"music\", \"music\", \"name\", \"name\", \"navigate\", \"necessary\", \"need\", \"need\", \"need\", \"need\", \"new\", \"new\", \"new\", \"nice\", \"night\", \"number\", \"numerous\", \"old\", \"one\", \"one\", \"option\", \"option\", \"order\", \"order\", \"original\", \"overall\", \"overall\", \"pack\", \"page\", \"paper\", \"paperwhite\", \"party\", \"perfect\", \"perfect\", \"performance\", \"person\", \"picture\", \"picture\", \"picture\", \"piece\", \"play\", \"playstation\", \"plug\", \"poor\", \"port\", \"potential\", \"power\", \"present\", \"previous\", \"price\", \"price\", \"prime\", \"problem\", \"problem\", \"problem\", \"processor\", \"product\", \"product\", \"program\", \"program\", \"purchase\", \"purchase\", \"purchase\", \"quality\", \"quality\", \"question\", \"radio\", \"read\", \"read\", \"reader\", \"reading\", \"remote\", \"report\", \"responsive\", \"return\", \"review\", \"roku\", \"room\", \"sale\", \"sale\", \"satisfied\", \"satisfied\", \"savvy\", \"screen\", \"screen\", \"search\", \"second\", \"selection\", \"service\", \"set\", \"setup\", \"several\", \"several\", \"several\", \"shopping\", \"short\", \"show\", \"side\", \"simple\", \"simple\", \"sister\", \"size\", \"size\", \"size\", \"skill\", \"slow\", \"small\", \"small\", \"smart\", \"son\", \"son\", \"son\", \"song\", \"sound\", \"speak\", \"speaker\", \"speed\", \"station\", \"stick\", \"storage\", \"store\", \"store\", \"stream\", \"streaming\", \"stuff\", \"superior\", \"support\", \"sure\", \"sure\", \"tablet\", \"tablet\", \"tablet\", \"tablet\", \"tap\", \"tech\", \"technology\", \"terrible\", \"thank\", \"thing\", \"thing\", \"thing\", \"thing\", \"third\", \"thought\", \"time\", \"timer\", \"ton\", \"top\", \"toy\", \"travel\", \"trip\", \"turn\", \"unit\", \"unit\", \"upgrade\", \"use\", \"user\", \"value\", \"value\", \"version\", \"video\", \"video\", \"view\", \"voice\", \"voyage\", \"vue\", \"warranty\", \"waste\", \"watch\", \"way\", \"way\", \"way\", \"way\", \"weather\", \"weather\", \"web\", \"week\", \"weight\", \"well\", \"well\", \"well\", \"white\", \"whole\", \"wife\", \"wife\", \"wireless\", \"wish\", \"work\", \"work\", \"work\", \"work\", \"work\", \"work\", \"worth\", \"worth\", \"year\", \"youtube\"]}, \"R\": 30, \"lambda.step\": 0.01, \"plot.opts\": {\"xlab\": \"PC1\", \"ylab\": \"PC2\"}, \"topic.order\": [1, 3, 5, 4, 6, 2, 7]};\n",
       "\n",
       "function LDAvis_load_lib(url, callback){\n",
       "  var s = document.createElement('script');\n",
       "  s.src = url;\n",
       "  s.async = true;\n",
       "  s.onreadystatechange = s.onload = callback;\n",
       "  s.onerror = function(){console.warn(\"failed to load library \" + url);};\n",
       "  document.getElementsByTagName(\"head\")[0].appendChild(s);\n",
       "}\n",
       "\n",
       "if(typeof(LDAvis) !== \"undefined\"){\n",
       "   // already loaded: just create the visualization\n",
       "   !function(LDAvis){\n",
       "       new LDAvis(\"#\" + \"ldavis_el1346830852872020327028883650\", ldavis_el1346830852872020327028883650_data);\n",
       "   }(LDAvis);\n",
       "}else if(typeof define === \"function\" && define.amd){\n",
       "   // require.js is available: use it to load d3/LDAvis\n",
       "   require.config({paths: {d3: \"https://d3js.org/d3.v5\"}});\n",
       "   require([\"d3\"], function(d3){\n",
       "      window.d3 = d3;\n",
       "      LDAvis_load_lib(\"https://cdn.jsdelivr.net/gh/bmabey/pyLDAvis@3.3.1/pyLDAvis/js/ldavis.v3.0.0.js\", function(){\n",
       "        new LDAvis(\"#\" + \"ldavis_el1346830852872020327028883650\", ldavis_el1346830852872020327028883650_data);\n",
       "      });\n",
       "    });\n",
       "}else{\n",
       "    // require.js not available: dynamically load d3 & LDAvis\n",
       "    LDAvis_load_lib(\"https://d3js.org/d3.v5.js\", function(){\n",
       "         LDAvis_load_lib(\"https://cdn.jsdelivr.net/gh/bmabey/pyLDAvis@3.3.1/pyLDAvis/js/ldavis.v3.0.0.js\", function(){\n",
       "                 new LDAvis(\"#\" + \"ldavis_el1346830852872020327028883650\", ldavis_el1346830852872020327028883650_data);\n",
       "            })\n",
       "         });\n",
       "}\n",
       "</script>"
      ],
      "text/plain": [
       "PreparedData(topic_coordinates=              x         y  topics  cluster       Freq\n",
       "topic                                                \n",
       "0     -0.208221 -0.023235       1        1  19.521118\n",
       "2     -0.108227  0.018724       2        1  16.039725\n",
       "4     -0.033466 -0.124652       3        1  14.782052\n",
       "3      0.032537 -0.100597       4        1  14.581742\n",
       "5     -0.198329  0.140211       5        1  13.747249\n",
       "1      0.256006 -0.227958       6        1  12.825460\n",
       "6      0.259699  0.317508       7        1   8.502653, topic_info=        Term         Freq        Total Category  logprob  loglift\n",
       "24      fire  6755.000000  6755.000000  Default  30.0000  30.0000\n",
       "7        use  6132.000000  6132.000000  Default  29.0000  29.0000\n",
       "88      easy  5447.000000  5447.000000  Default  28.0000  28.0000\n",
       "223  battery  5112.000000  5112.000000  Default  27.0000  27.0000\n",
       "59      good  7994.000000  7994.000000  Default  26.0000  26.0000\n",
       "..       ...          ...          ...      ...      ...      ...\n",
       "15    tablet   518.946354  4683.121074   Topic7  -4.0327   0.2649\n",
       "165     need   237.252294   519.356790   Topic7  -4.8153   1.6813\n",
       "648    month   263.478336   996.727465   Topic7  -4.7105   1.1343\n",
       "887     glad   197.633698   331.929742   Topic7  -4.9980   1.9463\n",
       "319      day   207.519576  1368.495265   Topic7  -4.9492   0.5786\n",
       "\n",
       "[360 rows x 6 columns], token_table=      Topic      Freq     Term\n",
       "term                          \n",
       "16        2  0.574156     able\n",
       "16        3  0.140786     able\n",
       "16        4  0.171460     able\n",
       "16        7  0.112472     able\n",
       "167       2  0.998137   access\n",
       "...     ...       ...      ...\n",
       "117       7  0.086042     work\n",
       "87        3  0.740134    worth\n",
       "87        4  0.259713    worth\n",
       "81        7  0.999778     year\n",
       "293       2  0.997230  youtube\n",
       "\n",
       "[416 rows x 3 columns], R=30, lambda_step=0.01, plot_opts={'xlab': 'PC1', 'ylab': 'PC2'}, topic_order=[1, 3, 5, 4, 6, 2, 7])"
      ]
     },
     "execution_count": 53,
     "metadata": {},
     "output_type": "execute_result"
    }
   ],
   "source": [
    "# Visualize the topics\n",
    "pyLDAvis.enable_notebook()\n",
    "vis = pyLDAvis.gensim_models.prepare(lda_model, doc_term_matrix, dictionary)\n",
    "vis"
   ]
  },
  {
   "cell_type": "code",
   "execution_count": 55,
   "metadata": {},
   "outputs": [
    {
     "name": "stderr",
     "output_type": "stream",
     "text": [
      "C:\\Anaconda3\\lib\\site-packages\\ipykernel\\ipkernel.py:287: DeprecationWarning: `should_run_async` will not call `transform_cell` automatically in the future. Please pass the result to `transformed_cell` argument and any exception that happen during thetransform in `preprocessing_exc_tuple` in IPython 7.17 and above.\n",
      "  and should_run_async(code)\n"
     ]
    },
    {
     "data": {
      "text/plain": [
       "[(0,\n",
       "  '0.055*\"good\" + 0.043*\"great\" + 0.024*\"tablet\" + 0.024*\"quality\" + 0.021*\"price\" + 0.020*\"amazon\" + 0.020*\"speaker\" + 0.019*\"voice\" + 0.018*\"sound\" + 0.017*\"streaming\"'),\n",
       " (1,\n",
       "  '0.116*\"battery\" + 0.057*\"time\" + 0.032*\"box\" + 0.029*\"last\" + 0.020*\"week\" + 0.019*\"long\" + 0.017*\"life\" + 0.017*\"month\" + 0.015*\"issue\" + 0.015*\"day\"'),\n",
       " (2,\n",
       "  '0.055*\"app\" + 0.035*\"movie\" + 0.032*\"game\" + 0.030*\"great\" + 0.025*\"kid\" + 0.022*\"many\" + 0.022*\"love\" + 0.022*\"tablet\" + 0.021*\"thing\" + 0.018*\"fun\"'),\n",
       " (3,\n",
       "  '0.067*\"amazon\" + 0.036*\"music\" + 0.033*\"device\" + 0.027*\"prime\" + 0.025*\"alexa\" + 0.024*\"product\" + 0.024*\"home\" + 0.024*\"remote\" + 0.016*\"question\" + 0.016*\"smart\"'),\n",
       " (4,\n",
       "  '0.133*\"fire\" + 0.064*\"kindle\" + 0.048*\"love\" + 0.027*\"screen\" + 0.025*\"light\" + 0.024*\"amazon\" + 0.023*\"new\" + 0.022*\"money\" + 0.021*\"book\" + 0.015*\"worth\"'),\n",
       " (5,\n",
       "  '0.130*\"use\" + 0.115*\"easy\" + 0.106*\"great\" + 0.091*\"good\" + 0.087*\"product\" + 0.028*\"price\" + 0.028*\"tablet\" + 0.023*\"gift\" + 0.019*\"purchase\" + 0.016*\"happy\"'),\n",
       " (6,\n",
       "  '0.078*\"year\" + 0.076*\"cable\" + 0.076*\"old\" + 0.030*\"room\" + 0.029*\"roku\" + 0.028*\"daughter\" + 0.027*\"item\" + 0.027*\"setup\" + 0.023*\"love\" + 0.023*\"perfect\"')]"
      ]
     },
     "execution_count": 55,
     "metadata": {},
     "output_type": "execute_result"
    }
   ],
   "source": [
    "lda_model.print_topics()"
   ]
  },
  {
   "cell_type": "markdown",
   "metadata": {},
   "source": [
    "While the initial model is to generate word features, further LDA models are built extending topics. Convergence is subjective, given discrepancies in accepting a standard norm such as Coherence value or using other family of Matrix factorization models. Hence, we reiterate further extending the topic count in model. \n",
    "Scientifically, this can be iterated until no further development can be made (Limitation of having to use TPU) or probably build other models based out of these. Currently, our model serves the purpose of the problem in our context. \n"
   ]
  },
  {
   "cell_type": "code",
   "execution_count": 57,
   "metadata": {},
   "outputs": [
    {
     "name": "stderr",
     "output_type": "stream",
     "text": [
      "C:\\Anaconda3\\lib\\site-packages\\ipykernel\\ipkernel.py:287: DeprecationWarning: `should_run_async` will not call `transform_cell` automatically in the future. Please pass the result to `transformed_cell` argument and any exception that happen during thetransform in `preprocessing_exc_tuple` in IPython 7.17 and above.\n",
      "  and should_run_async(code)\n"
     ]
    }
   ],
   "source": [
    "# Build LDA model\n",
    "lda_model = LDA(corpus=doc_term_matrix,\n",
    "                id2word=dictionary,\n",
    "                num_topics=15, \n",
    "                random_state=100,\n",
    "                chunksize=1000,\n",
    "                passes=50)"
   ]
  },
  {
   "cell_type": "code",
   "execution_count": 58,
   "metadata": {},
   "outputs": [
    {
     "name": "stderr",
     "output_type": "stream",
     "text": [
      "C:\\Anaconda3\\lib\\site-packages\\ipykernel\\ipkernel.py:287: DeprecationWarning: `should_run_async` will not call `transform_cell` automatically in the future. Please pass the result to `transformed_cell` argument and any exception that happen during thetransform in `preprocessing_exc_tuple` in IPython 7.17 and above.\n",
      "  and should_run_async(code)\n"
     ]
    },
    {
     "data": {
      "text/plain": [
       "[(0,\n",
       "  '0.077*\"voice\" + 0.061*\"echo\" + 0.054*\"nice\" + 0.052*\"small\" + 0.040*\"size\" + 0.033*\"list\" + 0.030*\"tap\" + 0.030*\"light\" + 0.030*\"news\" + 0.027*\"great\"'),\n",
       " (1,\n",
       "  '0.169*\"kindle\" + 0.084*\"light\" + 0.083*\"book\" + 0.043*\"new\" + 0.032*\"first\" + 0.027*\"time\" + 0.027*\"read\" + 0.023*\"button\" + 0.020*\"turn\" + 0.019*\"husband\"'),\n",
       " (2,\n",
       "  '0.152*\"app\" + 0.107*\"amazon\" + 0.057*\"many\" + 0.046*\"store\" + 0.036*\"apple\" + 0.033*\"free\" + 0.029*\"available\" + 0.023*\"device\" + 0.021*\"download\" + 0.021*\"name\"'),\n",
       " (3,\n",
       "  '0.141*\"thing\" + 0.094*\"alexa\" + 0.079*\"item\" + 0.061*\"smart\" + 0.040*\"way\" + 0.037*\"one\" + 0.037*\"music\" + 0.036*\"home\" + 0.028*\"show\" + 0.028*\"device\"'),\n",
       " (4,\n",
       "  '0.083*\"screen\" + 0.075*\"fast\" + 0.056*\"awesome\" + 0.039*\"reader\" + 0.038*\"ipad\" + 0.037*\"good\" + 0.036*\"need\" + 0.035*\"internet\" + 0.033*\"love\" + 0.032*\"connection\"'),\n",
       " (5,\n",
       "  '0.238*\"product\" + 0.141*\"great\" + 0.092*\"movie\" + 0.054*\"music\" + 0.050*\"good\" + 0.048*\"purchase\" + 0.048*\"love\" + 0.041*\"weather\" + 0.038*\"game\" + 0.029*\"friend\"'),\n",
       " (6,\n",
       "  '0.279*\"battery\" + 0.080*\"time\" + 0.057*\"remote\" + 0.047*\"week\" + 0.047*\"long\" + 0.041*\"life\" + 0.032*\"charge\" + 0.032*\"month\" + 0.029*\"hour\" + 0.026*\"user\"'),\n",
       " (7,\n",
       "  '0.312*\"use\" + 0.277*\"easy\" + 0.154*\"love\" + 0.032*\"set\" + 0.026*\"phone\" + 0.017*\"much\" + 0.016*\"convenient\" + 0.016*\"fun\" + 0.012*\"computer\" + 0.011*\"mom\"'),\n",
       " (8,\n",
       "  '0.150*\"good\" + 0.102*\"tablet\" + 0.098*\"price\" + 0.066*\"great\" + 0.050*\"money\" + 0.031*\"brand\" + 0.029*\"worth\" + 0.027*\"buy\" + 0.021*\"cheap\" + 0.019*\"sale\"'),\n",
       " (9,\n",
       "  '0.128*\"fire\" + 0.070*\"amazon\" + 0.045*\"box\" + 0.043*\"cable\" + 0.041*\"last\" + 0.026*\"day\" + 0.025*\"stick\" + 0.024*\"well\" + 0.019*\"new\" + 0.018*\"device\"'),\n",
       " (10,\n",
       "  '0.107*\"kid\" + 0.056*\"great\" + 0.056*\"prime\" + 0.048*\"question\" + 0.042*\"control\" + 0.042*\"amazon\" + 0.041*\"lot\" + 0.034*\"fun\" + 0.030*\"music\" + 0.029*\"family\"'),\n",
       " (11,\n",
       "  '0.131*\"work\" + 0.078*\"device\" + 0.052*\"home\" + 0.041*\"slow\" + 0.038*\"little\" + 0.032*\"bit\" + 0.030*\"version\" + 0.029*\"different\" + 0.028*\"stream\" + 0.027*\"fine\"'),\n",
       " (12,\n",
       "  '0.060*\"great\" + 0.058*\"quality\" + 0.054*\"speaker\" + 0.049*\"good\" + 0.049*\"sound\" + 0.047*\"streaming\" + 0.031*\"amazon\" + 0.028*\"room\" + 0.026*\"amazing\" + 0.026*\"device\"'),\n",
       " (13,\n",
       "  '0.059*\"unit\" + 0.058*\"setup\" + 0.049*\"simple\" + 0.049*\"wife\" + 0.048*\"great\" + 0.045*\"good\" + 0.042*\"service\" + 0.042*\"reading\" + 0.038*\"port\" + 0.033*\"quick\"'),\n",
       " (14,\n",
       "  '0.147*\"year\" + 0.143*\"old\" + 0.094*\"gift\" + 0.057*\"son\" + 0.055*\"tablet\" + 0.053*\"daughter\" + 0.036*\"perfect\" + 0.028*\"great\" + 0.026*\"game\" + 0.025*\"disappointed\"')]"
      ]
     },
     "execution_count": 58,
     "metadata": {},
     "output_type": "execute_result"
    }
   ],
   "source": [
    "lda_model.print_topics()"
   ]
  },
  {
   "cell_type": "code",
   "execution_count": 59,
   "metadata": {},
   "outputs": [
    {
     "name": "stderr",
     "output_type": "stream",
     "text": [
      "C:\\Anaconda3\\lib\\site-packages\\ipykernel\\ipkernel.py:287: DeprecationWarning: `should_run_async` will not call `transform_cell` automatically in the future. Please pass the result to `transformed_cell` argument and any exception that happen during thetransform in `preprocessing_exc_tuple` in IPython 7.17 and above.\n",
      "  and should_run_async(code)\n"
     ]
    },
    {
     "data": {
      "text/html": [
       "\n",
       "<link rel=\"stylesheet\" type=\"text/css\" href=\"https://cdn.jsdelivr.net/gh/bmabey/pyLDAvis@3.3.1/pyLDAvis/js/ldavis.v1.0.0.css\">\n",
       "\n",
       "\n",
       "<div id=\"ldavis_el1346830853149766724631162282\"></div>\n",
       "<script type=\"text/javascript\">\n",
       "\n",
       "var ldavis_el1346830853149766724631162282_data = {\"mdsDat\": {\"x\": [-0.19385210996093305, 0.1931839816974288, -0.14178791284330858, 0.061932804232506806, -0.04469889616248903, 0.2061658088493497, -0.09136458158608618, -0.24058810065869038, -0.008246757387852643, 0.18895481867388064, 0.05537270692973771, -0.16103110449210942, 0.14811838001397343, 0.17684696083342893, -0.14900599813883633], \"y\": [0.03145666463523735, 0.15436045065826545, 0.11985864396541825, 0.2704770745017896, 0.21694143011133496, -0.07478835203681905, -0.009219547279160363, -0.019631536488838364, -0.20025248784145247, -0.09413396276180391, -0.17071053391765814, -0.1758504072556112, -0.045561882108686454, -0.0010677664108453984, -0.0018777877711698128], \"topics\": [1, 2, 3, 4, 5, 6, 7, 8, 9, 10, 11, 12, 13, 14, 15], \"cluster\": [1, 1, 1, 1, 1, 1, 1, 1, 1, 1, 1, 1, 1, 1, 1], \"Freq\": [10.204612327205663, 10.088334451695106, 7.60374186275137, 7.427491033234242, 7.357566430801006, 7.31678254679253, 6.3606656223928155, 6.267118544660189, 6.237055284428288, 5.66149962546493, 5.636890315957327, 5.394054642116843, 5.341747877839378, 4.968660943243892, 4.133778491416423]}, \"tinfo\": {\"Term\": [\"use\", \"battery\", \"easy\", \"product\", \"kindle\", \"good\", \"fire\", \"app\", \"love\", \"year\", \"amazon\", \"old\", \"great\", \"price\", \"tablet\", \"thing\", \"kid\", \"work\", \"light\", \"gift\", \"movie\", \"book\", \"time\", \"device\", \"alexa\", \"screen\", \"voice\", \"music\", \"fast\", \"item\", \"price\", \"money\", \"buy\", \"sale\", \"dead\", \"basic\", \"performance\", \"deal\", \"wireless\", \"value\", \"cost\", \"job\", \"smooth\", \"reliable\", \"alternative\", \"beginner\", \"disappointing\", \"request\", \"beat\", \"father\", \"grand\", \"savvy\", \"listening\", \"dim\", \"base\", \"possibility\", \"curve\", \"brainer\", \"budget\", \"nexus\", \"worth\", \"brand\", \"cheap\", \"point\", \"good\", \"tablet\", \"high\", \"low\", \"great\", \"camera\", \"black\", \"little\", \"bad\", \"quality\", \"pay\", \"nice\", \"lot\", \"ipad\", \"fire\", \"box\", \"cable\", \"last\", \"stick\", \"roku\", \"cord\", \"firetv\", \"channel\", \"minute\", \"couple\", \"vue\", \"next\", \"difference\", \"buffering\", \"playstation\", \"original\", \"skill\", \"replace\", \"ethernet\", \"cover\", \"change\", \"due\", \"keyboard\", \"junk\", \"support\", \"waste\", \"company\", \"thought\", \"piece\", \"day\", \"sure\", \"content\", \"review\", \"amazon\", \"well\", \"problem\", \"new\", \"issue\", \"device\", \"way\", \"purchase\", \"month\", \"time\", \"happy\", \"first\", \"speaker\", \"sound\", \"streaming\", \"room\", \"amazing\", \"dot\", \"command\", \"memory\", \"card\", \"storage\", \"toy\", \"medium\", \"return\", \"space\", \"bedroom\", \"kitchen\", \"super\", \"loud\", \"end\", \"wifi\", \"compatible\", \"opinion\", \"hulu\", \"defective\", \"real\", \"living\", \"slot\", \"plenty\", \"live\", \"external\", \"quality\", \"picture\", \"entertainment\", \"great\", \"good\", \"device\", \"music\", \"amazon\", \"overall\", \"camera\", \"well\", \"feature\", \"lot\", \"app\", \"many\", \"store\", \"apple\", \"available\", \"download\", \"name\", \"android\", \"useful\", \"shopping\", \"page\", \"helpful\", \"information\", \"stuff\", \"install\", \"subscription\", \"radio\", \"buying\", \"local\", \"school\", \"tool\", \"browser\", \"chrome\", \"fee\", \"note\", \"google\", \"negative\", \"monthly\", \"college\", \"ereader\", \"free\", \"youtube\", \"access\", \"amazon\", \"wish\", \"ad\", \"library\", \"amount\", \"play\", \"prime\", \"service\", \"device\", \"phone\", \"lot\", \"able\", \"tablet\", \"brand\", \"kid\", \"question\", \"control\", \"member\", \"interface\", \"order\", \"terrible\", \"whole\", \"adult\", \"song\", \"selection\", \"parental\", \"young\", \"morning\", \"sport\", \"audio\", \"parent\", \"alot\", \"lock\", \"average\", \"link\", \"downside\", \"credit\", \"contact\", \"limit\", \"see\", \"pick\", \"homework\", \"mobile\", \"operating\", \"prime\", \"fun\", \"family\", \"child\", \"system\", \"account\", \"lot\", \"option\", \"future\", \"game\", \"music\", \"great\", \"amazon\", \"time\", \"video\", \"tablet\", \"ability\", \"free\", \"kindle\", \"read\", \"turn\", \"husband\", \"glad\", \"paper\", \"color\", \"previous\", \"ready\", \"laptop\", \"source\", \"network\", \"usage\", \"start\", \"bed\", \"certain\", \"hope\", \"design\", \"mine\", \"improvement\", \"car\", \"lightweight\", \"date\", \"heavy\", \"rest\", \"brightness\", \"comfortable\", \"text\", \"glare\", \"bestbuy\", \"button\", \"dollar\", \"book\", \"light\", \"first\", \"favorite\", \"place\", \"eye\", \"new\", \"time\", \"able\", \"feature\", \"lot\", \"different\", \"year\", \"old\", \"gift\", \"son\", \"daughter\", \"disappointed\", \"paperwhite\", \"difficult\", \"ease\", \"volume\", \"birthday\", \"granddaughter\", \"grandson\", \"present\", \"pad\", \"starter\", \"nephew\", \"sister\", \"durable\", \"investment\", \"portability\", \"reset\", \"surprised\", \"bunch\", \"sunlight\", \"impossible\", \"location\", \"aspect\", \"savy\", \"autistic\", \"perfect\", \"mother\", \"tablet\", \"game\", \"child\", \"great\", \"happy\", \"ipad\", \"able\", \"case\", \"product\", \"movie\", \"weather\", \"friend\", \"watch\", \"timer\", \"listen\", \"table\", \"number\", \"kind\", \"law\", \"packaging\", \"offer\", \"sleek\", \"tired\", \"awful\", \"activity\", \"mail\", \"teen\", \"unusable\", \"gifted\", \"pleased\", \"purchase\", \"joke\", \"play\", \"happy\", \"game\", \"music\", \"great\", \"family\", \"love\", \"excellent\", \"good\", \"overall\", \"internet\", \"voice\", \"echo\", \"small\", \"size\", \"list\", \"tap\", \"news\", \"right\", \"night\", \"large\", \"portable\", \"addition\", \"warranty\", \"part\", \"package\", \"response\", \"fit\", \"recognition\", \"backlight\", \"back\", \"loading\", \"result\", \"affordable\", \"current\", \"annoying\", \"check\", \"hold\", \"entire\", \"world\", \"damage\", \"nice\", \"hand\", \"case\", \"full\", \"light\", \"email\", \"enough\", \"perfect\", \"screen\", \"big\", \"great\", \"feature\", \"battery\", \"remote\", \"week\", \"long\", \"life\", \"charge\", \"hour\", \"user\", \"house\", \"friendly\", \"charger\", \"duracell\", \"program\", \"energizer\", \"pack\", \"playing\", \"course\", \"single\", \"busy\", \"chance\", \"most\", \"period\", \"minimal\", \"grandchild\", \"ebook\", \"maneuver\", \"versatile\", \"grandkid\", \"face\", \"sturdy\", \"power\", \"hard\", \"month\", \"several\", \"time\", \"bad\", \"less\", \"day\", \"low\", \"lag\", \"computer\", \"much\", \"use\", \"easy\", \"convenient\", \"mom\", \"application\", \"intuitive\", \"cell\", \"protection\", \"niece\", \"exact\", \"direction\", \"follow\", \"shoulder\", \"pin\", \"readable\", \"inability\", \"reflection\", \"jealous\", \"visit\", \"retina\", \"set\", \"view\", \"love\", \"person\", \"phone\", \"computer\", \"much\", \"fun\", \"eye\", \"fact\", \"feature\", \"able\", \"fast\", \"awesome\", \"reader\", \"need\", \"connection\", \"answer\", \"speed\", \"clear\", \"touch\", \"function\", \"processor\", \"resolution\", \"market\", \"software\", \"mini\", \"display\", \"fan\", \"bright\", \"huge\", \"numerous\", \"various\", \"non\", \"stock\", \"call\", \"care\", \"inch\", \"possible\", \"sharp\", \"font\", \"keep\", \"screen\", \"big\", \"extra\", \"internet\", \"ipad\", \"second\", \"love\", \"good\", \"great\", \"experience\", \"well\", \"work\", \"slow\", \"bit\", \"version\", \"stream\", \"fine\", \"model\", \"reason\", \"half\", \"short\", \"expensive\", \"update\", \"people\", \"electronic\", \"white\", \"automation\", \"everyday\", \"voyage\", \"none\", \"handy\", \"upgrade\", \"main\", \"travel\", \"age\", \"assistant\", \"normal\", \"flash\", \"personal\", \"membership\", \"purpose\", \"different\", \"home\", \"device\", \"little\", \"other\", \"star\", \"regular\", \"replacement\", \"well\", \"thing\", \"alexa\", \"item\", \"smart\", \"one\", \"show\", \"cool\", \"alarm\", \"top\", \"bluetooth\", \"bill\", \"ton\", \"wrong\", \"hue\", \"line\", \"satisfied\", \"run\", \"gadget\", \"info\", \"expectation\", \"netflix\", \"trip\", \"word\", \"talk\", \"excited\", \"area\", \"bottom\", \"operation\", \"handle\", \"dad\", \"player\", \"way\", \"decent\", \"issue\", \"home\", \"music\", \"device\", \"new\", \"little\", \"much\", \"able\", \"unit\", \"setup\", \"simple\", \"wife\", \"reading\", \"port\", \"quick\", \"search\", \"capability\", \"wonderful\", \"customer\", \"generation\", \"web\", \"recommend\", \"thank\", \"navigate\", \"dark\", \"daily\", \"step\", \"idea\", \"hdmi\", \"pair\", \"headphone\", \"surf\", \"basis\", \"rate\", \"echos\", \"familiar\", \"facebook\", \"foot\", \"additional\", \"online\", \"service\", \"choice\", \"help\", \"limited\", \"excellent\", \"good\", \"great\", \"book\", \"device\"], \"Freq\": [6051.0, 5431.0, 5375.0, 5127.0, 4253.0, 8960.0, 4452.0, 3884.0, 4628.0, 3221.0, 7024.0, 3130.0, 10743.0, 3433.0, 5875.0, 2412.0, 2707.0, 2404.0, 2757.0, 2059.0, 1989.0, 2326.0, 3266.0, 4056.0, 1611.0, 1936.0, 1650.0, 3126.0, 1391.0, 1347.0, 3432.9597477433417, 1767.8286984011759, 941.1764549782431, 681.7436740739648, 644.818190628718, 623.6045231957374, 576.7659171658177, 549.135789871174, 516.5799896058974, 426.3036668393789, 393.2738093655852, 325.12059260559244, 274.22866328806487, 250.6984535290224, 207.2000072107694, 161.93228829595833, 156.89943873873662, 151.24087162226095, 124.05058388526417, 112.61468176491535, 111.31995718707087, 107.91689196854502, 94.69795820579454, 87.83497558764135, 86.87357657462039, 73.47304303914285, 60.3750694493345, 59.4901263946826, 58.92064750378442, 57.97204636663874, 1019.8876862005083, 1088.8699468238497, 752.7270005893596, 242.47514137008457, 5275.7557117460665, 3577.0155507361274, 458.07505424851394, 441.47614788698576, 2310.683361142218, 320.5786350466298, 269.8839459867596, 653.2800201828438, 345.7015729745279, 418.32112980253333, 216.45811086745374, 306.3827026867777, 326.1178534836421, 274.85295749774883, 4451.777463525042, 1567.236387715217, 1482.8756809157355, 1411.8494004863794, 872.6607975449324, 572.8128881160874, 368.0193959849233, 309.3360159514622, 307.96485573367346, 303.183295152545, 296.7687832891151, 275.48603990111377, 274.44291912299184, 270.1856684972759, 257.2190694093173, 253.5583291166233, 246.7526671787973, 241.81098479248683, 217.61661237732775, 214.02559785252666, 203.36554528125475, 200.98275490702989, 192.45617173757068, 189.47803555254342, 176.63374364547232, 165.37237708702307, 151.89041222125448, 146.56835159107834, 143.20102237594054, 141.52362516226134, 889.092270757832, 305.7085615855424, 452.30292083952304, 383.56790257272246, 2415.8215294157008, 837.3344337551272, 558.6883981157067, 651.5849880884836, 390.5803319001895, 635.7577725161495, 371.1346223134579, 370.14701042779905, 329.42020719287706, 350.6091094986899, 295.916644154992, 284.35546164677925, 1403.1147399536785, 1274.1622611649607, 1218.0797006702335, 744.2812370238222, 691.7482711020741, 584.4131421674969, 573.8632969241007, 487.5494976432968, 401.1838153965114, 353.03391171319095, 351.8652040184925, 315.0577749131806, 298.31783833987316, 244.70676486514975, 215.90416060663236, 193.2678761123158, 190.7667051115401, 188.27934599996948, 175.54475977177017, 164.35555693513473, 161.0954146986833, 157.82233829237606, 156.3460752995703, 154.5245150766369, 150.69396497805303, 149.02752945956357, 147.25398779936532, 125.76811298942343, 114.69687807144449, 110.91037241743082, 1529.6143832585653, 500.30241845345944, 221.278679993384, 1583.3522627981708, 1286.7338354051187, 677.2167983170942, 585.9734833596385, 816.0642949524374, 241.88557982772514, 236.75599290161688, 324.87777213653294, 205.29541064246035, 200.19547112548432, 3883.41691114047, 1468.6722098304115, 1180.594361267421, 933.0299236211181, 733.5371749952178, 547.9837124460358, 524.8387512458265, 519.3911380568261, 412.0883671003554, 395.8211908123086, 362.81180526107397, 324.72740708717214, 316.71433956736917, 294.44830606933465, 289.29441501421644, 256.25768875028444, 240.4439681850234, 191.45307868790664, 145.85248519716816, 138.54450083917894, 136.44400533589456, 111.55734785465023, 95.24854723679782, 93.14575349416211, 92.05901375033302, 82.23081346203658, 78.64110649101094, 78.49510875232359, 71.61394197500164, 65.64800436442677, 839.6279521632133, 229.4210644892782, 482.4946081121987, 2729.889760179644, 204.1830621787063, 195.105862207346, 162.03968751897997, 163.9688986967247, 344.88751504490574, 509.74405808217386, 340.4204045926222, 583.9721877794041, 278.2503865692007, 381.6371481986643, 326.31300171195716, 516.1430709147586, 241.13432118063216, 2706.5166693511555, 1219.4625860614149, 1063.0058374324692, 605.9788850111694, 498.14523441841504, 453.58897513109247, 328.56211165176364, 293.4840939795807, 262.19028599433807, 259.1102190128546, 248.9731072439977, 230.39666337587235, 223.8293595481458, 218.99213248397925, 207.22051409595895, 193.1697565509906, 165.84576627812413, 150.20018342302103, 125.19319705204377, 114.78837799769177, 111.53296539827993, 98.71706447528545, 92.47886544003799, 88.06178959633444, 83.13185878435095, 81.83066218557053, 80.79518526807257, 69.6637464766483, 68.72997945424535, 68.00454520217825, 1407.0936505054306, 858.9832310662686, 741.6205458391483, 682.6669073463916, 418.7907319201288, 350.35014645965714, 1047.0203565631982, 471.546159379305, 184.96634186568565, 669.2723187007506, 757.0515264186396, 1426.8522057597029, 1061.441044409132, 655.8713602849326, 362.77464269908006, 571.6887135429175, 213.74096472527236, 216.01299097218939, 4251.998921688174, 671.5694545369589, 511.6118605919872, 475.6252202271562, 432.0134363181591, 420.51127371866727, 374.7497377125436, 313.2165180317082, 268.93609649168985, 257.265038372699, 249.69174357114886, 249.5231999661925, 245.0246763675902, 240.93779894000184, 234.67006016971735, 219.3224569798596, 206.24505450459023, 191.9544501045295, 187.7219973611346, 179.10619091845962, 176.42806259652448, 167.782718793237, 165.42818762374665, 149.68713224472953, 149.68347233348607, 129.14213836603523, 119.92605955748972, 119.1698069358352, 112.99070370835764, 112.25035762403057, 570.7144534487281, 372.1410655908414, 2093.067391787456, 2107.6105652547717, 798.2559214939482, 441.77634340403245, 309.40232745272897, 326.2463651217817, 1080.173723166278, 691.5293435665707, 283.5325732817309, 258.8633403815043, 223.2734484720488, 206.8942429918881, 3220.8100434671956, 3129.822239933248, 2058.862601975139, 1254.6132004814347, 1162.3153712423477, 555.2587352261266, 504.36862563256636, 434.79731126755405, 323.9939616732573, 315.7694264602281, 278.22806926604596, 272.2087874998027, 258.86119762790605, 250.58022884397576, 176.45494761512833, 173.7976137445641, 173.0099503877871, 171.44049749729757, 164.23317383059813, 156.54723556023515, 153.3211708109706, 143.16412741449523, 137.39030210860443, 119.69028072916451, 110.962636254484, 77.69100795490544, 77.06898946783075, 63.540284952639986, 46.8488020526611, 46.39258649823578, 797.2106035213875, 205.24292156828474, 1209.4280823297279, 561.7753748022706, 223.5564617272919, 611.6677910740593, 220.91544403190687, 196.17086303078977, 201.48326690261214, 155.1398838701512, 5126.859697219418, 1988.3000162196593, 893.9138665821655, 634.7895364180698, 584.7153537108676, 334.7038037814095, 136.98329584819376, 125.70491934304292, 112.43904084479736, 112.24344359241337, 109.44864451002408, 93.72262340882388, 91.51774089714243, 76.37026747102813, 75.49644501017993, 59.81965228202413, 58.086626664905666, 29.344307732738162, 24.598135430062495, 6.172780938107149, 5.371523731605987, 137.296450395122, 1030.6797417212445, 163.18738951713078, 586.7715011258705, 524.9319030469838, 812.851420270988, 1158.5847307602348, 3042.9505945853566, 250.51879458396849, 1024.9575750996953, 204.90487629862315, 1070.7308086382282, 107.90268570571115, 132.6996587494816, 1649.3141130287609, 1304.026467989744, 1107.1428182644322, 863.3128672878548, 699.6470163114534, 652.7731909556005, 637.5092154129608, 498.33881716531096, 467.60771758510845, 458.4569558277728, 409.74131478099235, 407.33465107956965, 366.02855040215684, 337.90622307719605, 292.93023023982335, 265.3742708392791, 218.14838542193507, 216.45138152976105, 165.49777722740592, 162.57971248858144, 149.5289316042569, 149.13416396145956, 148.70348835226778, 144.5079359624588, 140.7629580548922, 135.474217576509, 128.21792852793246, 125.39596834633906, 125.05656756790425, 109.25447250103298, 1158.623502716221, 438.87094505853133, 500.9329502496249, 312.5109813069419, 649.3839828994254, 181.28591308484064, 229.79300594250333, 333.1029951023814, 403.0769322104863, 263.4863177612884, 582.901748042857, 225.7231964313938, 5430.534253047236, 1118.991958600602, 917.2409815177538, 912.9424810409101, 806.8982557105871, 630.3794481075521, 563.6723802019666, 514.4413086731007, 498.72288539623, 462.87974364702967, 406.27448225338384, 381.3753908296764, 253.6689835538523, 242.69476232530468, 209.19841580071213, 125.79315086394315, 82.91532359949878, 75.20469276658503, 63.714598109904614, 62.39447133594889, 47.12103257239235, 46.70138108868881, 44.130977175090656, 39.318795289695366, 35.04153652641181, 32.48716430881857, 30.05325559381742, 27.205136868151616, 24.99442839128716, 23.441645741933243, 363.2456915534384, 245.7976636167783, 628.6099300894059, 307.00585752350554, 1567.3771792619445, 495.98655513085953, 223.72151219278186, 389.98716862757936, 169.52721819119174, 77.75075300930693, 89.48140706540325, 81.07610571235224, 6050.086525114226, 5374.05477825721, 320.03782010216946, 221.86415382367346, 221.0490136389637, 195.82498059047145, 181.146836107855, 134.3757663659254, 122.64707593620564, 65.05273788950035, 62.79324933120483, 54.481472778261434, 34.076717263029884, 31.64529086149842, 17.663913519656198, 14.339603021892644, 11.768998740423452, 11.269770789375766, 10.033096860368705, 7.457053860165054, 625.1981886236317, 72.41892634318825, 2989.4313659684644, 128.7151971600117, 513.3578970823933, 225.5187559196792, 327.65172358316386, 304.69928898284843, 75.34727846110528, 62.90484106273763, 144.20257147809738, 125.26496301159933, 1390.2978977658627, 1044.7803459744298, 715.7561570032548, 670.4999152556466, 586.3723565496786, 570.577260561124, 531.0586302558079, 401.39308089981307, 345.71908268222353, 320.4003203256906, 312.7497912279353, 290.57509756259077, 277.2919253521187, 271.7284482222608, 254.053625256189, 250.33185889221454, 224.92893507716906, 223.53252248450048, 201.64225857362337, 151.76128760454733, 148.67725270343223, 148.03741115057318, 134.55411765861336, 131.40502453181088, 120.93113447909164, 99.03798216632971, 94.77718293444075, 92.63272614105976, 74.90955271110145, 70.43267680407955, 1532.5385803625131, 574.8597746946083, 393.84698396122315, 655.3044307433995, 704.4271183865188, 365.922571779818, 613.3441495753187, 692.8152585265447, 506.7290850094609, 197.10964688771602, 261.3090486494108, 2403.2124875591535, 759.572320092674, 585.7945898948411, 559.4767844585828, 517.8553298621406, 493.9198033605372, 473.8653673235479, 398.6560166783486, 358.29731413587655, 342.0580938904022, 318.921798797056, 295.65998898595853, 284.1104254279263, 245.0662360580168, 241.89587610828917, 238.64244487293195, 188.57113325514968, 186.6980898654542, 185.6071155276859, 184.613839873058, 179.84102625948563, 172.3980446042765, 168.59343110674197, 157.11354466003777, 152.9977820955451, 142.6429206496673, 142.60956367466449, 138.48156308262907, 132.53903725499163, 127.7616504386846, 529.7840239165462, 948.5247248567133, 1434.986062759524, 691.7927282093837, 324.1705338008353, 207.295024217855, 185.9404797405124, 175.42788562053917, 180.3840212898009, 2411.1229546697414, 1610.463249902062, 1346.6873785313485, 1046.9938746142918, 639.8711437477781, 473.5181106661876, 354.93087996853495, 292.3537181971501, 284.7313977258723, 274.4520015376538, 273.9703828653882, 265.45159527304804, 263.05430368015516, 204.56256828542982, 201.69132122177177, 178.0581193169487, 176.15866498078609, 167.07103204629428, 149.28689215826077, 138.83187960800512, 137.44775565798554, 130.3575178730124, 125.91646159220755, 122.14596730631915, 112.57678739271506, 108.21547779613205, 80.14999007292828, 71.37280442417145, 69.76616085802436, 62.744083347104166, 217.99746692435767, 677.7886010449471, 275.45277423090675, 467.9857890008143, 620.3037561592256, 624.4776359552836, 470.60268468826587, 323.8877764398478, 195.35833041999814, 175.79597728399062, 140.95649824106255, 836.9896043548646, 822.4482461685516, 692.4269272977696, 690.6877391644041, 600.8888903572265, 540.8067082476651, 475.1211941905767, 456.11201581640137, 395.6162575999499, 354.70106545127743, 354.4956426416952, 313.19966674843135, 272.7764660725987, 244.66376209194857, 241.39679980204266, 232.47457327864086, 209.76484176754371, 200.07008603967174, 198.02402289743753, 160.10844382785191, 133.3561457099885, 105.72816294723852, 86.73486381721597, 86.69669663563177, 77.9110806546844, 76.80329129831286, 74.8599726978567, 72.44886587983862, 68.30475429022236, 65.88492581723557, 171.19936685484132, 264.7959927186907, 603.3002026245638, 183.22191638810853, 199.93610657398216, 197.29488989109433, 267.768725073953, 634.0259303395934, 677.5435954059964, 232.3184583056599, 253.2583831074375], \"Total\": [6051.0, 5431.0, 5375.0, 5127.0, 4253.0, 8960.0, 4452.0, 3884.0, 4628.0, 3221.0, 7024.0, 3130.0, 10743.0, 3433.0, 5875.0, 2412.0, 2707.0, 2404.0, 2757.0, 2059.0, 1989.0, 2326.0, 3266.0, 4056.0, 1611.0, 1936.0, 1650.0, 3126.0, 1391.0, 1347.0, 3433.9914250681563, 1768.8603765439495, 942.208132885351, 682.7753518551636, 645.8498724972598, 624.6362015711242, 577.7975957336615, 550.1674677732505, 517.6116686796865, 427.3353442272408, 394.30548711781, 326.1522704156031, 275.26034144611805, 251.73013192467084, 208.23168515024753, 162.96396591583422, 157.93111861300187, 152.27255118446476, 125.08226141066373, 113.64635966362918, 112.35163595552977, 108.94856953065411, 95.72963725587194, 88.86665616240816, 87.90525574645558, 74.50472152234167, 61.40674893752776, 60.521806035210275, 59.952324620339795, 59.00372584518329, 1219.160973816668, 1330.9698510641233, 949.6962285190631, 282.9775306532988, 8960.802164502185, 5875.058178694712, 604.1203610268045, 611.986374916704, 10743.15859026668, 558.30269051309, 433.72717073249135, 1722.3242689925885, 842.6711372999904, 1948.9035750883004, 378.7895562994603, 1465.958028561559, 2178.9711780968396, 1176.2961941772094, 4452.847206080055, 1568.306130872898, 1483.945423955384, 1412.9191462784058, 873.7305401610955, 573.8826309215636, 369.0891388039579, 310.4057587806104, 309.0345987510075, 304.2530394988551, 297.83852645261936, 276.5557827341311, 275.51266303340475, 271.2554128962769, 258.288812478871, 254.62807213214558, 247.82240993371363, 242.88072816401413, 218.68635564222603, 215.0953407334729, 204.4352885450853, 202.05250081319576, 193.52591483814822, 190.54777954229144, 177.70348786273146, 166.44212068740023, 152.96015682427202, 147.63809430929726, 144.27076626524055, 142.59336851191878, 1280.1005133556084, 359.07202035766664, 619.0090258881884, 533.7891969124455, 7024.079992708546, 1806.3835526200664, 1061.8682236341824, 2056.551624853446, 859.569656301234, 4056.5234612892214, 1140.4955117440015, 1401.8267214518771, 959.0512117164735, 3266.233003198293, 1042.657807027001, 1083.5827284371017, 1404.1709141695158, 1275.2184352687927, 1219.1358762384955, 745.3374115694679, 692.8044453496541, 585.4693165262498, 574.9194715039876, 488.60567240000205, 402.23999079578147, 354.09008696006396, 352.92138133976647, 316.1139499494701, 299.37401605391074, 245.7629394758875, 216.96033498039318, 194.32405095424474, 191.82287970130253, 189.3355203668935, 176.600935366473, 165.41173173678, 162.1515901261401, 158.8785145988355, 157.40225272774646, 155.58069531493, 151.75013983829734, 150.08370348741502, 148.31016247838394, 126.82428786502349, 115.75305403483875, 111.96654719766222, 1948.9035750883004, 666.9318546860559, 274.50119485742374, 10743.15859026668, 8960.802164502185, 4056.5234612892214, 3126.930903363152, 7024.079992708546, 521.3123849564709, 558.30269051309, 1806.3835526200664, 1209.3573480239502, 2178.9711780968396, 3884.4706032920167, 1469.7259018410177, 1181.6480536564272, 934.083615677222, 734.5908668950619, 549.0374042538065, 525.8924453978088, 520.4448300441732, 413.1420590206823, 396.8748830683607, 363.8654975299324, 325.7810990966567, 317.7680318555032, 295.50199784796615, 290.3481072229551, 257.31138097285344, 241.49766092819885, 192.50677097982452, 146.90617738921338, 139.59819213405703, 137.49769675080327, 112.61104027558781, 96.30224089504543, 94.19944524820073, 93.11270683211455, 83.28450494938778, 79.69479900372355, 79.54880041818681, 72.667633723407, 66.701695661084, 1056.6179697144132, 267.92399954414435, 618.2588851354211, 7024.079992708546, 301.41536000432876, 305.7818667527357, 229.50518948752733, 244.24973819002201, 932.6429342586885, 1917.8147352235926, 944.6969013251676, 4056.5234612892214, 884.6022658527984, 2178.9711780968396, 1446.119972846201, 5875.058178694712, 1330.9698510641233, 2707.5597940601297, 1220.5057110094187, 1064.048962372822, 607.0220096580268, 499.1883608857687, 454.632100595051, 329.60524003703085, 294.52721888203683, 263.2334107933943, 260.1533441045099, 250.01623249819164, 231.43978749498916, 224.87248404865508, 220.03525800750754, 208.26363910153506, 194.2128819988944, 166.88889091474502, 151.24330799069335, 126.23632238174159, 115.83150482933499, 112.57609040519709, 99.76019013337509, 93.52199138230762, 89.10491841015202, 84.17498361649676, 82.87379260500038, 81.83831029103563, 70.70687107058575, 69.77310432110929, 69.04766967870077, 1917.8147352235926, 1164.6439707357886, 993.1126908138899, 907.1603409885358, 551.3152599132368, 498.1820357735355, 2178.9711780968396, 857.2364372699744, 243.11925960710494, 2044.7663121036533, 3126.930903363152, 10743.15859026668, 7024.079992708546, 3266.233003198293, 1059.8619945233047, 5875.058178694712, 390.7761241447364, 1056.6179697144132, 4253.020313268125, 672.5908460844074, 512.6332530257781, 476.646612152456, 433.0348283860881, 421.5326651259126, 375.77112934521847, 314.23791027960493, 269.95749006345727, 258.2864319486126, 250.71313667222293, 250.54459432088666, 246.04606995202153, 241.9591920548615, 235.69145167537724, 220.34385034628403, 207.2664488022108, 192.9758426632177, 188.74338998800533, 180.12758325018387, 177.44945509376393, 168.80411009098287, 166.4495802473345, 150.70852441437688, 150.7048663733224, 130.16352991815035, 120.94745115560961, 120.19119830008188, 114.01209489117956, 113.27175033772023, 590.5064906447743, 384.1830961872525, 2326.329843437565, 2757.936085590736, 1083.5827284371017, 581.7797133529982, 375.2642044754433, 402.5333613705028, 2056.551624853446, 3266.233003198293, 1446.119972846201, 1209.3573480239502, 2178.9711780968396, 737.632809167252, 3221.823680823131, 3130.835877054724, 2059.876238739003, 1255.6268374888582, 1163.3290080719387, 556.2723746026427, 505.38226437227576, 435.8109503709608, 325.00759897323445, 316.7830652634568, 279.2417060163414, 273.222423967802, 259.8748340871258, 251.59386560621002, 177.4685867151964, 174.8112510468775, 174.0235872526862, 172.45413444084616, 165.24681095737253, 157.56087328943568, 154.33480962087435, 144.17776805610328, 138.4039399060926, 120.70391953151338, 111.97627403588642, 78.70464728339881, 78.08262786220844, 64.55392306627287, 47.8624386049593, 47.40622388232246, 1131.247381154556, 261.568101343053, 5875.058178694712, 2044.7663121036533, 907.1603409885358, 10743.15859026668, 1042.657807027001, 1176.2961941772094, 1446.119972846201, 794.7460372992491, 5127.909713550789, 1989.3500330847705, 894.9638829447802, 635.8395522598214, 585.7653706825647, 335.7538202519191, 138.0333121950821, 126.75493615797483, 113.48905835181004, 113.29345990096225, 110.49866056118377, 94.77264420005045, 92.56775939505974, 77.42028507475422, 76.54646160366525, 60.86967064105701, 59.13664382216585, 30.394323597324753, 25.648153028827434, 7.222797323854612, 6.421541571757791, 175.5672799264408, 1401.8267214518771, 258.6040488659844, 932.6429342586885, 1042.657807027001, 2044.7663121036533, 3126.930903363152, 10743.15859026668, 993.1126908138899, 4628.621162743517, 826.880317185356, 8960.802164502185, 521.3123849564709, 1061.8854733931548, 1650.3540495481657, 1305.0664043152144, 1108.1827539288818, 864.3528025079447, 700.6869523049832, 653.8131272323656, 638.5491515535433, 499.37875318094626, 468.6476532968176, 459.49689245696163, 410.7812504740099, 408.3745869762565, 367.0684889565032, 338.9461593659442, 293.97016774039525, 266.4142072166335, 219.18832142080157, 217.49131707407412, 166.5377129014727, 163.61964896775498, 150.56886986393545, 150.17410373721347, 149.74342399921912, 145.54787325809207, 141.80289469511843, 136.51415303571383, 129.25786426054398, 126.4359049987786, 126.09650413184124, 110.29441026753916, 1465.958028561559, 623.7314650928889, 794.7460372992491, 441.0437677334882, 2757.936085590736, 241.5525038800258, 449.8374384297282, 1131.247381154556, 1936.5751781016488, 839.3057586230901, 10743.15859026668, 1209.3573480239502, 5431.605373924835, 1120.063080717034, 918.312102638241, 914.0136019093566, 807.9693763057202, 631.4505696332394, 564.7435012192643, 515.5124297054824, 499.7940071051968, 463.95086478530584, 407.3456034851177, 382.4465127851828, 254.7401052085292, 243.76588392806417, 210.26953721994133, 126.86427185262019, 83.98644619051522, 76.27581473481793, 64.7857189367632, 63.46559297988747, 48.19215422262587, 47.772501962138485, 45.20209898831705, 40.389915704446274, 36.11265775190854, 33.55828844293127, 31.12437664107183, 28.276257091798023, 26.065550147074966, 24.512766212548367, 440.3337043747146, 317.0443054105438, 959.0512117164735, 465.1842996163511, 3266.233003198293, 842.6711372999904, 425.513985421232, 1280.1005133556084, 611.986374916704, 140.69293388714996, 403.406553063289, 1244.1416125453304, 6051.124641572962, 5375.092894306786, 321.075936348843, 222.9022699374904, 222.08713085176998, 196.86310009485706, 182.18495544644014, 135.4138871856844, 123.6851933464837, 66.09085953296744, 63.83136591670407, 55.51959133884547, 35.114840884760575, 32.6834129722681, 18.70202976900906, 15.377725652935744, 12.807119219917745, 12.307886845999699, 11.071212621812705, 8.495199490080207, 766.2312640362255, 96.8335280291255, 4628.621162743517, 199.36005068611848, 884.6022658527984, 403.406553063289, 1244.1416125453304, 1164.6439707357886, 402.5333613705028, 377.70356341305796, 1209.3573480239502, 1446.119972846201, 1391.337417784409, 1045.8198655189626, 716.7956763520042, 671.539435306918, 587.4118772578981, 571.6167813639607, 532.0981504318119, 402.43260029809784, 346.75860240883947, 321.43984021958187, 313.7893112162718, 291.6146170051289, 278.33144522043625, 272.76796875866273, 255.09314592331475, 251.37137862675223, 225.96845549832807, 224.57204199940318, 202.6817786781419, 152.8008089672395, 149.7167734996197, 149.07693161713152, 135.5936382458021, 132.444545134935, 121.97065541184375, 100.07750183191831, 95.81670421086523, 93.67224553191713, 75.94907198004125, 71.47219620605607, 1936.5751781016488, 839.3057586230901, 561.2408480314454, 1061.8854733931548, 1176.2961941772094, 562.3077777501644, 4628.621162743517, 8960.802164502185, 10743.15859026668, 421.09671096688857, 1806.3835526200664, 2404.265427495349, 760.625261062941, 586.8475298335223, 560.529724347554, 518.9082702254439, 494.97274366959863, 474.91830716505507, 399.7089568154248, 359.350255263002, 343.11103472895866, 319.97473851578377, 296.7129292118922, 285.1633651671323, 246.11917611244286, 242.9488155701414, 239.69538421285841, 189.62407258618677, 187.7510292652608, 186.66005604383776, 185.66677965394427, 180.89396627115582, 173.45098493640558, 169.6463703287541, 158.16648403505985, 154.05072184103443, 143.69586140145117, 143.66250444629063, 139.5345023803899, 133.59197725632856, 128.8145898233879, 737.632809167252, 1569.8152127621604, 4056.5234612892214, 1722.3242689925885, 614.9382762496234, 372.5605508907413, 295.1892312914456, 255.3030515805412, 1806.3835526200664, 2412.1765370891076, 1611.5168321042727, 1347.7409608678258, 1048.0474565628022, 640.9247267777869, 474.57169426320996, 355.9844618092354, 293.4073005478895, 285.7849807763044, 275.5055841498204, 275.0239660205741, 266.50517780618117, 264.10788644950503, 205.616150386814, 202.74490457391985, 179.11170191408578, 177.21224812054535, 168.12461389673894, 150.34047524703357, 139.88546186316282, 138.50133929159017, 131.4110999075781, 126.97004340846715, 123.1995492561562, 113.63037089009387, 109.26906095041451, 81.20357407895628, 72.42638837305748, 70.81974532512795, 63.79766493769969, 251.1125124453569, 1140.4955117440015, 427.8578757855582, 859.569656301234, 1569.8152127621604, 3126.930903363152, 4056.5234612892214, 2056.551624853446, 1722.3242689925885, 1244.1416125453304, 1446.119972846201, 838.0319964403623, 823.4906380351025, 693.4693189451596, 691.7301306268095, 601.9312817564467, 541.8491018214227, 476.1635860230359, 457.1544079509925, 396.65864934892335, 355.7434572309199, 355.5380351403298, 314.24205884493705, 273.8188577192144, 245.70615360920254, 242.43919156753728, 233.5169658682971, 210.80723375856786, 201.11247762372673, 199.06641504835162, 161.15083576862676, 134.39853892927206, 106.77055665959537, 87.77725653434496, 87.73908818266233, 78.95347228932846, 77.8456841146257, 75.90236556692957, 73.491258936065, 69.3471454260074, 66.9273194385733, 199.33180551007317, 341.303554738649, 944.6969013251676, 266.9080637200511, 318.646570624285, 312.7930433165232, 826.880317185356, 8960.802164502185, 10743.15859026668, 2326.329843437565, 4056.5234612892214], \"Category\": [\"Default\", \"Default\", \"Default\", \"Default\", \"Default\", \"Default\", \"Default\", \"Default\", \"Default\", \"Default\", \"Default\", \"Default\", \"Default\", \"Default\", \"Default\", \"Default\", \"Default\", \"Default\", \"Default\", \"Default\", \"Default\", \"Default\", \"Default\", \"Default\", \"Default\", \"Default\", \"Default\", \"Default\", \"Default\", \"Default\", \"Topic1\", \"Topic1\", \"Topic1\", \"Topic1\", \"Topic1\", \"Topic1\", \"Topic1\", \"Topic1\", \"Topic1\", \"Topic1\", \"Topic1\", \"Topic1\", \"Topic1\", \"Topic1\", \"Topic1\", \"Topic1\", \"Topic1\", \"Topic1\", \"Topic1\", \"Topic1\", \"Topic1\", \"Topic1\", \"Topic1\", \"Topic1\", \"Topic1\", \"Topic1\", \"Topic1\", \"Topic1\", \"Topic1\", \"Topic1\", \"Topic1\", \"Topic1\", \"Topic1\", \"Topic1\", \"Topic1\", \"Topic1\", \"Topic1\", \"Topic1\", \"Topic1\", \"Topic1\", \"Topic1\", \"Topic1\", \"Topic1\", \"Topic1\", \"Topic1\", \"Topic1\", \"Topic1\", \"Topic1\", \"Topic2\", \"Topic2\", \"Topic2\", \"Topic2\", \"Topic2\", \"Topic2\", \"Topic2\", \"Topic2\", \"Topic2\", \"Topic2\", \"Topic2\", \"Topic2\", \"Topic2\", \"Topic2\", \"Topic2\", \"Topic2\", \"Topic2\", \"Topic2\", \"Topic2\", \"Topic2\", \"Topic2\", \"Topic2\", \"Topic2\", \"Topic2\", \"Topic2\", \"Topic2\", \"Topic2\", \"Topic2\", \"Topic2\", \"Topic2\", \"Topic2\", \"Topic2\", \"Topic2\", \"Topic2\", \"Topic2\", \"Topic2\", \"Topic2\", \"Topic2\", \"Topic2\", \"Topic2\", \"Topic2\", \"Topic2\", \"Topic2\", \"Topic2\", \"Topic2\", \"Topic2\", \"Topic3\", \"Topic3\", \"Topic3\", \"Topic3\", \"Topic3\", \"Topic3\", \"Topic3\", \"Topic3\", \"Topic3\", \"Topic3\", \"Topic3\", \"Topic3\", \"Topic3\", \"Topic3\", \"Topic3\", \"Topic3\", \"Topic3\", \"Topic3\", \"Topic3\", \"Topic3\", \"Topic3\", \"Topic3\", \"Topic3\", \"Topic3\", \"Topic3\", \"Topic3\", \"Topic3\", \"Topic3\", \"Topic3\", \"Topic3\", \"Topic3\", \"Topic3\", \"Topic3\", \"Topic3\", \"Topic3\", \"Topic3\", \"Topic3\", \"Topic3\", \"Topic3\", \"Topic3\", \"Topic3\", \"Topic3\", \"Topic3\", \"Topic4\", \"Topic4\", \"Topic4\", \"Topic4\", \"Topic4\", \"Topic4\", \"Topic4\", \"Topic4\", \"Topic4\", \"Topic4\", \"Topic4\", \"Topic4\", \"Topic4\", \"Topic4\", \"Topic4\", \"Topic4\", \"Topic4\", \"Topic4\", \"Topic4\", \"Topic4\", \"Topic4\", \"Topic4\", \"Topic4\", \"Topic4\", \"Topic4\", \"Topic4\", \"Topic4\", \"Topic4\", \"Topic4\", \"Topic4\", \"Topic4\", \"Topic4\", \"Topic4\", \"Topic4\", \"Topic4\", \"Topic4\", \"Topic4\", \"Topic4\", \"Topic4\", \"Topic4\", \"Topic4\", \"Topic4\", \"Topic4\", \"Topic4\", \"Topic4\", \"Topic4\", \"Topic4\", \"Topic5\", \"Topic5\", \"Topic5\", \"Topic5\", \"Topic5\", \"Topic5\", \"Topic5\", \"Topic5\", \"Topic5\", \"Topic5\", \"Topic5\", \"Topic5\", \"Topic5\", \"Topic5\", \"Topic5\", \"Topic5\", \"Topic5\", \"Topic5\", \"Topic5\", \"Topic5\", \"Topic5\", \"Topic5\", \"Topic5\", \"Topic5\", \"Topic5\", \"Topic5\", \"Topic5\", \"Topic5\", \"Topic5\", \"Topic5\", \"Topic5\", \"Topic5\", \"Topic5\", \"Topic5\", \"Topic5\", \"Topic5\", \"Topic5\", \"Topic5\", \"Topic5\", \"Topic5\", \"Topic5\", \"Topic5\", \"Topic5\", \"Topic5\", \"Topic5\", \"Topic5\", \"Topic5\", \"Topic5\", \"Topic6\", \"Topic6\", \"Topic6\", \"Topic6\", \"Topic6\", \"Topic6\", \"Topic6\", \"Topic6\", \"Topic6\", \"Topic6\", \"Topic6\", \"Topic6\", \"Topic6\", \"Topic6\", \"Topic6\", \"Topic6\", \"Topic6\", \"Topic6\", \"Topic6\", \"Topic6\", \"Topic6\", \"Topic6\", \"Topic6\", \"Topic6\", \"Topic6\", \"Topic6\", \"Topic6\", \"Topic6\", \"Topic6\", \"Topic6\", \"Topic6\", \"Topic6\", \"Topic6\", \"Topic6\", \"Topic6\", \"Topic6\", \"Topic6\", \"Topic6\", \"Topic6\", \"Topic6\", \"Topic6\", \"Topic6\", \"Topic6\", \"Topic6\", \"Topic7\", \"Topic7\", \"Topic7\", \"Topic7\", \"Topic7\", \"Topic7\", \"Topic7\", \"Topic7\", \"Topic7\", \"Topic7\", \"Topic7\", \"Topic7\", \"Topic7\", \"Topic7\", \"Topic7\", \"Topic7\", \"Topic7\", \"Topic7\", \"Topic7\", \"Topic7\", \"Topic7\", \"Topic7\", \"Topic7\", \"Topic7\", \"Topic7\", \"Topic7\", \"Topic7\", \"Topic7\", \"Topic7\", \"Topic7\", \"Topic7\", \"Topic7\", \"Topic7\", \"Topic7\", \"Topic7\", \"Topic7\", \"Topic7\", \"Topic7\", \"Topic7\", \"Topic7\", \"Topic8\", \"Topic8\", \"Topic8\", \"Topic8\", \"Topic8\", \"Topic8\", \"Topic8\", \"Topic8\", \"Topic8\", \"Topic8\", \"Topic8\", \"Topic8\", \"Topic8\", \"Topic8\", \"Topic8\", \"Topic8\", \"Topic8\", \"Topic8\", \"Topic8\", \"Topic8\", \"Topic8\", \"Topic8\", \"Topic8\", \"Topic8\", \"Topic8\", \"Topic8\", \"Topic8\", \"Topic8\", \"Topic8\", \"Topic8\", \"Topic8\", \"Topic8\", \"Topic8\", \"Topic8\", \"Topic8\", \"Topic9\", \"Topic9\", \"Topic9\", \"Topic9\", \"Topic9\", \"Topic9\", \"Topic9\", \"Topic9\", \"Topic9\", \"Topic9\", \"Topic9\", \"Topic9\", \"Topic9\", \"Topic9\", \"Topic9\", \"Topic9\", \"Topic9\", \"Topic9\", \"Topic9\", \"Topic9\", \"Topic9\", \"Topic9\", \"Topic9\", \"Topic9\", \"Topic9\", \"Topic9\", \"Topic9\", \"Topic9\", \"Topic9\", \"Topic9\", \"Topic9\", \"Topic9\", \"Topic9\", \"Topic9\", \"Topic9\", \"Topic9\", \"Topic9\", \"Topic9\", \"Topic9\", \"Topic9\", \"Topic9\", \"Topic9\", \"Topic10\", \"Topic10\", \"Topic10\", \"Topic10\", \"Topic10\", \"Topic10\", \"Topic10\", \"Topic10\", \"Topic10\", \"Topic10\", \"Topic10\", \"Topic10\", \"Topic10\", \"Topic10\", \"Topic10\", \"Topic10\", \"Topic10\", \"Topic10\", \"Topic10\", \"Topic10\", \"Topic10\", \"Topic10\", \"Topic10\", \"Topic10\", \"Topic10\", \"Topic10\", \"Topic10\", \"Topic10\", \"Topic10\", \"Topic10\", \"Topic10\", \"Topic10\", \"Topic10\", \"Topic10\", \"Topic10\", \"Topic10\", \"Topic10\", \"Topic10\", \"Topic10\", \"Topic10\", \"Topic10\", \"Topic10\", \"Topic11\", \"Topic11\", \"Topic11\", \"Topic11\", \"Topic11\", \"Topic11\", \"Topic11\", \"Topic11\", \"Topic11\", \"Topic11\", \"Topic11\", \"Topic11\", \"Topic11\", \"Topic11\", \"Topic11\", \"Topic11\", \"Topic11\", \"Topic11\", \"Topic11\", \"Topic11\", \"Topic11\", \"Topic11\", \"Topic11\", \"Topic11\", \"Topic11\", \"Topic11\", \"Topic11\", \"Topic11\", \"Topic11\", \"Topic11\", \"Topic11\", \"Topic11\", \"Topic12\", \"Topic12\", \"Topic12\", \"Topic12\", \"Topic12\", \"Topic12\", \"Topic12\", \"Topic12\", \"Topic12\", \"Topic12\", \"Topic12\", \"Topic12\", \"Topic12\", \"Topic12\", \"Topic12\", \"Topic12\", \"Topic12\", \"Topic12\", \"Topic12\", \"Topic12\", \"Topic12\", \"Topic12\", \"Topic12\", \"Topic12\", \"Topic12\", \"Topic12\", \"Topic12\", \"Topic12\", \"Topic12\", \"Topic12\", \"Topic12\", \"Topic12\", \"Topic12\", \"Topic12\", \"Topic12\", \"Topic12\", \"Topic12\", \"Topic12\", \"Topic12\", \"Topic12\", \"Topic12\", \"Topic13\", \"Topic13\", \"Topic13\", \"Topic13\", \"Topic13\", \"Topic13\", \"Topic13\", \"Topic13\", \"Topic13\", \"Topic13\", \"Topic13\", \"Topic13\", \"Topic13\", \"Topic13\", \"Topic13\", \"Topic13\", \"Topic13\", \"Topic13\", \"Topic13\", \"Topic13\", \"Topic13\", \"Topic13\", \"Topic13\", \"Topic13\", \"Topic13\", \"Topic13\", \"Topic13\", \"Topic13\", \"Topic13\", \"Topic13\", \"Topic13\", \"Topic13\", \"Topic13\", \"Topic13\", \"Topic13\", \"Topic13\", \"Topic13\", \"Topic13\", \"Topic13\", \"Topic14\", \"Topic14\", \"Topic14\", \"Topic14\", \"Topic14\", \"Topic14\", \"Topic14\", \"Topic14\", \"Topic14\", \"Topic14\", \"Topic14\", \"Topic14\", \"Topic14\", \"Topic14\", \"Topic14\", \"Topic14\", \"Topic14\", \"Topic14\", \"Topic14\", \"Topic14\", \"Topic14\", \"Topic14\", \"Topic14\", \"Topic14\", \"Topic14\", \"Topic14\", \"Topic14\", \"Topic14\", \"Topic14\", \"Topic14\", \"Topic14\", \"Topic14\", \"Topic14\", \"Topic14\", \"Topic14\", \"Topic14\", \"Topic14\", \"Topic14\", \"Topic14\", \"Topic14\", \"Topic14\", \"Topic15\", \"Topic15\", \"Topic15\", \"Topic15\", \"Topic15\", \"Topic15\", \"Topic15\", \"Topic15\", \"Topic15\", \"Topic15\", \"Topic15\", \"Topic15\", \"Topic15\", \"Topic15\", \"Topic15\", \"Topic15\", \"Topic15\", \"Topic15\", \"Topic15\", \"Topic15\", \"Topic15\", \"Topic15\", \"Topic15\", \"Topic15\", \"Topic15\", \"Topic15\", \"Topic15\", \"Topic15\", \"Topic15\", \"Topic15\", \"Topic15\", \"Topic15\", \"Topic15\", \"Topic15\", \"Topic15\", \"Topic15\", \"Topic15\", \"Topic15\", \"Topic15\", \"Topic15\", \"Topic15\"], \"logprob\": [30.0, 29.0, 28.0, 27.0, 26.0, 25.0, 24.0, 23.0, 22.0, 21.0, 20.0, 19.0, 18.0, 17.0, 16.0, 15.0, 14.0, 13.0, 12.0, 11.0, 10.0, 9.0, 8.0, 7.0, 6.0, 5.0, 4.0, 3.0, 2.0, 1.0, -2.3257, -2.9894, -3.6198, -3.9423, -3.9979, -4.0314, -4.1095, -4.1586, -4.2197, -4.4118, -4.4924, -4.6827, -4.8529, -4.9427, -5.1332, -5.3797, -5.4113, -5.448, -5.6462, -5.7429, -5.7545, -5.7856, -5.9162, -5.9915, -6.0025, -6.17, -6.3663, -6.3811, -6.3907, -6.407, -3.5395, -3.474, -3.8432, -4.976, -1.896, -2.2846, -4.3399, -4.3768, -2.7216, -4.6968, -4.8689, -3.9849, -4.6213, -4.4307, -5.0895, -4.7421, -4.6797, -4.8507, -2.0544, -3.0984, -3.1537, -3.2028, -3.6839, -4.1049, -4.5473, -4.721, -4.7255, -4.7411, -4.7625, -4.8369, -4.8407, -4.8563, -4.9055, -4.9199, -4.9471, -4.9673, -5.0727, -5.0894, -5.1404, -5.1522, -5.1956, -5.2112, -5.2814, -5.3473, -5.4323, -5.468, -5.4912, -5.503, -3.6653, -4.7328, -4.3411, -4.5059, -2.6657, -3.7252, -4.1299, -3.976, -4.4878, -4.0006, -4.5389, -4.5416, -4.6581, -4.5958, -4.7654, -4.8052, -2.9263, -3.0227, -3.0677, -3.5603, -3.6335, -3.8021, -3.8203, -3.9833, -4.1783, -4.3061, -4.3095, -4.42, -4.4746, -4.6727, -4.7979, -4.9086, -4.9217, -4.9348, -5.0048, -5.0707, -5.0907, -5.1112, -5.1206, -5.1324, -5.1575, -5.1686, -5.1806, -5.3383, -5.4304, -5.464, -2.8399, -3.9575, -4.7733, -2.8054, -3.0129, -3.6547, -3.7994, -3.4682, -4.6842, -4.7057, -4.3893, -4.8483, -4.8734, -1.8848, -2.8571, -3.0755, -3.3108, -3.5514, -3.843, -3.8862, -3.8966, -4.128, -4.1683, -4.2554, -4.3663, -4.3913, -4.4642, -4.4818, -4.6031, -4.6668, -4.8946, -5.1667, -5.2181, -5.2333, -5.4347, -5.5928, -5.6151, -5.6268, -5.7397, -5.7844, -5.7862, -5.878, -5.965, -3.4163, -4.7137, -3.9703, -2.2372, -4.8302, -4.8757, -5.0614, -5.0496, -4.306, -3.9154, -4.3191, -3.7794, -4.5207, -4.2048, -4.3614, -3.9029, -4.6639, -2.2364, -3.0336, -3.1709, -3.733, -3.9289, -4.0226, -4.3451, -4.458, -4.5707, -4.5825, -4.6225, -4.7, -4.7289, -4.7508, -4.806, -4.8762, -5.0287, -5.1278, -5.3099, -5.3967, -5.4255, -5.5475, -5.6128, -5.6618, -5.7194, -5.7351, -5.7479, -5.8961, -5.9096, -5.9202, -2.8905, -3.3841, -3.531, -3.6138, -4.1024, -4.2809, -3.1861, -3.9838, -4.9196, -3.6336, -3.5104, -2.8766, -3.1724, -3.6538, -4.246, -3.7912, -4.775, -4.7645, -1.7791, -3.6246, -3.8967, -3.9696, -4.0658, -4.0928, -4.208, -4.3873, -4.5398, -4.5841, -4.614, -4.6147, -4.6329, -4.6497, -4.6761, -4.7437, -4.8052, -4.877, -4.8993, -4.9463, -4.9613, -5.0116, -5.0257, -5.1257, -5.1257, -5.2733, -5.3474, -5.3537, -5.4069, -5.4135, -3.7874, -4.215, -2.4879, -2.4809, -3.4518, -4.0434, -4.3996, -4.3466, -3.1494, -3.5953, -4.4869, -4.5779, -4.7258, -4.802, -1.9168, -1.9455, -2.3643, -2.8596, -2.936, -3.6748, -3.7709, -3.9193, -4.2135, -4.2392, -4.3658, -4.3876, -4.4379, -4.4704, -4.8211, -4.8363, -4.8409, -4.85, -4.8929, -4.9408, -4.9617, -5.0302, -5.0714, -5.2093, -5.285, -5.6415, -5.6495, -5.8425, -6.1473, -6.1571, -3.3131, -4.67, -2.8963, -3.6631, -4.5845, -3.578, -4.5964, -4.7152, -4.6885, -4.9499, -1.4371, -2.3844, -3.1838, -3.5261, -3.6083, -4.1661, -5.0595, -5.1455, -5.257, -5.2587, -5.2839, -5.439, -5.4629, -5.6438, -5.6553, -5.8881, -5.9175, -6.6003, -6.7767, -8.1592, -8.2983, -5.0572, -3.0414, -4.8845, -3.6048, -3.7161, -3.2788, -2.9244, -1.9588, -4.4559, -3.047, -4.6568, -3.0033, -5.2982, -5.0913, -2.5665, -2.8014, -2.965, -3.2138, -3.424, -3.4934, -3.517, -3.7633, -3.827, -3.8467, -3.9591, -3.9649, -4.0719, -4.1518, -4.2946, -4.3934, -4.5894, -4.5972, -4.8656, -4.8834, -4.9671, -4.9697, -4.9726, -5.0012, -5.0275, -5.0658, -5.1208, -5.1431, -5.1458, -5.2809, -2.9196, -3.8904, -3.7581, -4.2299, -3.4986, -4.7745, -4.5374, -4.1661, -3.9755, -4.4006, -3.6066, -4.5553, -1.278, -2.8576, -3.0564, -3.0611, -3.1846, -3.4314, -3.5433, -3.6347, -3.6657, -3.7403, -3.8707, -3.934, -4.3417, -4.386, -4.5345, -5.0431, -5.4599, -5.5575, -5.7233, -5.7443, -6.025, -6.034, -6.0906, -6.2061, -6.3212, -6.3969, -6.4748, -6.5744, -6.6591, -6.7232, -3.9827, -4.3733, -3.4343, -4.1509, -2.5206, -3.6712, -4.4674, -3.9116, -4.7447, -5.5243, -5.3837, -5.4824, -1.1656, -1.2841, -4.105, -4.4713, -4.475, -4.5962, -4.6741, -4.9728, -5.0641, -5.6982, -5.7336, -5.8755, -6.3448, -6.4188, -7.0019, -7.2104, -7.4079, -7.4513, -7.5675, -7.8642, -3.4353, -5.5909, -1.8706, -5.0158, -3.6324, -4.455, -4.0815, -4.1541, -5.5513, -5.7318, -4.9022, -5.043, -2.5921, -2.8778, -3.256, -3.3213, -3.4554, -3.4827, -3.5545, -3.8344, -3.9837, -4.0598, -4.084, -4.1575, -4.2043, -4.2246, -4.2918, -4.3066, -4.4136, -4.4198, -4.5229, -4.8071, -4.8276, -4.8319, -4.9274, -4.9511, -5.0341, -5.2339, -5.2778, -5.3007, -5.5131, -5.5747, -2.4947, -3.4752, -3.8534, -3.3443, -3.272, -3.9269, -3.4104, -3.2886, -3.6014, -4.5456, -4.2637, -2.0351, -3.1869, -3.4467, -3.4926, -3.5699, -3.6173, -3.6587, -3.8315, -3.9383, -3.9846, -4.0547, -4.1304, -4.1703, -4.3181, -4.3311, -4.3447, -4.5801, -4.5901, -4.596, -4.6014, -4.6276, -4.6698, -4.6921, -4.7627, -4.7892, -4.8593, -4.8595, -4.8889, -4.9327, -4.9695, -3.5472, -2.9647, -2.5507, -3.2803, -4.0384, -4.4855, -4.5942, -4.6524, -4.6245, -1.9594, -2.3629, -2.5418, -2.7935, -3.286, -3.587, -3.8753, -4.0693, -4.0957, -4.1324, -4.1342, -4.1658, -4.1749, -4.4263, -4.4405, -4.5651, -4.5758, -4.6288, -4.7414, -4.814, -4.824, -4.8769, -4.9116, -4.942, -5.0236, -5.0631, -5.3633, -5.4793, -5.5021, -5.6082, -4.3627, -3.2284, -4.1288, -3.5988, -3.317, -3.3103, -3.5932, -3.9668, -4.4724, -4.5779, -4.7988, -2.8335, -2.851, -3.0231, -3.0256, -3.1649, -3.2702, -3.3997, -3.4405, -3.5828, -3.692, -3.6926, -3.8164, -3.9546, -4.0634, -4.0768, -4.1145, -4.2173, -4.2646, -4.2749, -4.4874, -4.6702, -4.9024, -5.1004, -5.1008, -5.2077, -5.222, -5.2476, -5.2804, -5.3393, -5.3754, -4.4204, -3.9843, -3.1608, -4.3526, -4.2653, -4.2786, -3.9731, -3.1112, -3.0448, -4.1152, -4.0289], \"loglift\": [30.0, 29.0, 28.0, 27.0, 26.0, 25.0, 24.0, 23.0, 22.0, 21.0, 20.0, 19.0, 18.0, 17.0, 16.0, 15.0, 14.0, 13.0, 12.0, 11.0, 10.0, 9.0, 8.0, 7.0, 6.0, 5.0, 4.0, 3.0, 2.0, 1.0, 2.282, 2.2817, 2.2812, 2.2808, 2.2807, 2.2807, 2.2805, 2.2805, 2.2803, 2.2799, 2.2797, 2.2792, 2.2786, 2.2782, 2.2774, 2.276, 2.2758, 2.2755, 2.274, 2.2732, 2.2731, 2.2728, 2.2715, 2.2707, 2.2705, 2.2684, 2.2654, 2.2651, 2.265, 2.2647, 2.1039, 2.0816, 2.0499, 2.1279, 1.7526, 1.7861, 2.0056, 1.9557, 0.7456, 1.7276, 1.8079, 1.3129, 1.3913, 0.7436, 1.7227, 0.7169, 0.383, 0.8284, 2.2936, 2.2931, 2.2931, 2.293, 2.2926, 2.2919, 2.2909, 2.2903, 2.2903, 2.2903, 2.2902, 2.2899, 2.2899, 2.2898, 2.2896, 2.2896, 2.2895, 2.2894, 2.2889, 2.2888, 2.2885, 2.2885, 2.2882, 2.2882, 2.2878, 2.2873, 2.2868, 2.2865, 2.2863, 2.2863, 1.9293, 2.1329, 1.98, 1.9633, 1.2265, 1.5249, 1.6516, 1.1444, 1.505, 0.4405, 1.1711, 0.9622, 1.2252, 0.0621, 1.0343, 0.956, 2.5758, 2.5757, 2.5757, 2.5751, 2.575, 2.5747, 2.5747, 2.5744, 2.5739, 2.5735, 2.5735, 2.5732, 2.573, 2.5722, 2.5716, 2.5711, 2.571, 2.5709, 2.5705, 2.5701, 2.57, 2.5699, 2.5698, 2.5697, 2.5695, 2.5695, 2.5694, 2.5682, 2.5674, 2.5671, 2.3343, 2.2891, 2.361, 0.6618, 0.6358, 0.7864, 0.902, 0.4239, 1.8086, 1.7187, 0.8609, 0.8031, 0.1892, 2.5997, 2.5993, 2.5991, 2.5989, 2.5985, 2.5981, 2.598, 2.598, 2.5974, 2.5973, 2.5971, 2.5967, 2.5967, 2.5964, 2.5963, 2.5959, 2.5956, 2.5945, 2.5928, 2.5924, 2.5923, 2.5906, 2.589, 2.5887, 2.5886, 2.5872, 2.5867, 2.5866, 2.5854, 2.5841, 2.3701, 2.4448, 2.352, 1.6549, 2.2105, 2.1507, 2.2519, 2.2015, 1.6052, 1.2749, 1.5793, 0.6618, 1.4434, 0.8578, 1.1112, 0.1679, 0.8917, 2.6091, 2.6086, 2.6085, 2.6077, 2.6073, 2.6071, 2.6063, 2.6059, 2.6055, 2.6054, 2.6053, 2.6049, 2.6048, 2.6047, 2.6044, 2.6041, 2.6032, 2.6025, 2.6011, 2.6004, 2.6001, 2.5989, 2.5982, 2.5977, 2.597, 2.5968, 2.5966, 2.5946, 2.5944, 2.5942, 2.2998, 2.305, 2.3174, 2.3251, 2.3345, 2.2574, 1.8765, 2.0117, 2.3361, 1.4926, 1.1911, 0.5906, 0.7197, 1.004, 1.5373, 0.2796, 2.0061, 1.022, 2.6148, 2.6135, 2.613, 2.6129, 2.6126, 2.6126, 2.6123, 2.6117, 2.6112, 2.611, 2.6109, 2.6109, 2.6108, 2.6108, 2.6107, 2.6104, 2.6101, 2.6097, 2.6096, 2.6093, 2.6092, 2.6089, 2.6088, 2.6082, 2.6082, 2.6071, 2.6065, 2.6065, 2.606, 2.6059, 2.5809, 2.5832, 2.5093, 2.3461, 2.3094, 2.3397, 2.422, 2.4049, 1.9711, 1.0625, 0.9857, 1.0735, 0.3368, 1.3438, 2.7547, 2.7547, 2.7545, 2.7542, 2.7542, 2.7532, 2.753, 2.7527, 2.7519, 2.7518, 2.7514, 2.7513, 2.7511, 2.751, 2.7493, 2.7492, 2.7492, 2.7491, 2.7489, 2.7486, 2.7484, 2.748, 2.7477, 2.7466, 2.7459, 2.7421, 2.742, 2.7392, 2.7336, 2.7334, 2.4051, 2.5125, 1.1745, 1.4631, 1.3544, -0.1108, 1.2033, 0.9639, 0.7841, 1.1213, 2.7696, 2.7693, 2.7687, 2.7682, 2.7681, 2.7667, 2.7622, 2.7615, 2.7606, 2.7605, 2.7603, 2.7587, 2.7584, 2.7562, 2.756, 2.7525, 2.7519, 2.7347, 2.7281, 2.6128, 2.5913, 2.524, 2.4623, 2.3095, 2.3065, 2.0836, 1.8474, 1.777, 1.5084, 1.3925, 1.2622, 1.3747, 0.6453, 1.1947, 0.6901, 2.774, 2.7739, 2.7737, 2.7735, 2.7732, 2.7731, 2.773, 2.7726, 2.7724, 2.7724, 2.7721, 2.7721, 2.7718, 2.7716, 2.7711, 2.7708, 2.7699, 2.7699, 2.7684, 2.7683, 2.7677, 2.7677, 2.7677, 2.7675, 2.7673, 2.767, 2.7666, 2.7664, 2.7664, 2.7652, 2.5394, 2.4231, 2.3131, 2.4302, 1.3284, 2.4877, 2.103, 1.552, 1.2051, 1.6161, -0.1393, 1.0961, 2.8713, 2.8705, 2.8703, 2.8703, 2.8702, 2.8698, 2.8696, 2.8694, 2.8693, 2.8692, 2.8688, 2.8687, 2.8673, 2.8671, 2.8664, 2.863, 2.8586, 2.8573, 2.8548, 2.8545, 2.849, 2.8488, 2.8475, 2.8446, 2.8414, 2.839, 2.8365, 2.8329, 2.8295, 2.8268, 2.679, 2.6169, 2.449, 2.4559, 2.1372, 2.3415, 2.2286, 1.6829, 1.5878, 2.2784, 1.3656, 0.1407, 2.8757, 2.8756, 2.8726, 2.8712, 2.8712, 2.8706, 2.8701, 2.8681, 2.8674, 2.86, 2.8594, 2.857, 2.8458, 2.8436, 2.8187, 2.8059, 2.7913, 2.7877, 2.7774, 2.7455, 2.6724, 2.5853, 2.4387, 2.4383, 2.3317, 2.2943, 1.5416, 1.535, 1.2002, 1.0834, 0.7492, 0.4296, 2.9191, 2.9189, 2.9184, 2.9183, 2.9181, 2.9181, 2.9179, 2.9173, 2.9169, 2.9166, 2.9166, 2.9163, 2.9161, 2.9161, 2.9158, 2.9157, 2.9153, 2.9152, 2.9147, 2.913, 2.9129, 2.9129, 2.9122, 2.912, 2.9113, 2.9094, 2.909, 2.9087, 2.9061, 2.9052, 2.6859, 2.5414, 2.5657, 2.4372, 2.4071, 2.4902, 0.8988, 0.36, -0.1342, 2.1608, 0.9865, 2.9292, 2.9282, 2.9278, 2.9277, 2.9276, 2.9275, 2.9274, 2.927, 2.9267, 2.9265, 2.9263, 2.9261, 2.9259, 2.9253, 2.9253, 2.9252, 2.924, 2.924, 2.924, 2.9239, 2.9238, 2.9235, 2.9234, 2.9229, 2.9228, 2.9223, 2.9223, 2.922, 2.9217, 2.9214, 2.5986, 2.4258, 1.8904, 2.0175, 2.2894, 2.3434, 2.4674, 2.5544, 0.6256, 3.0016, 3.0014, 3.0012, 3.001, 3.0004, 2.9998, 2.9991, 2.9984, 2.9983, 2.9982, 2.9982, 2.9981, 2.998, 2.9969, 2.9968, 2.9961, 2.9961, 2.9957, 2.995, 2.9945, 2.9944, 2.994, 2.9937, 2.9934, 2.9927, 2.9923, 2.989, 2.9874, 2.987, 2.9854, 2.8606, 2.4816, 2.5616, 2.394, 2.0735, 1.3911, 0.848, 1.1536, 0.8254, 1.0451, 0.6738, 3.1847, 3.1847, 3.1845, 3.1845, 3.1842, 3.1841, 3.1838, 3.1837, 3.1833, 3.183, 3.183, 3.1827, 3.1822, 3.1817, 3.1817, 3.1815, 3.181, 3.1808, 3.1807, 3.1795, 3.1782, 3.1762, 3.174, 3.174, 3.1727, 3.1725, 3.1721, 3.1717, 3.1708, 3.1703, 3.0338, 2.9322, 2.7375, 2.8098, 2.7199, 2.7251, 2.0584, 0.5375, 0.4224, 0.882, 0.4123]}, \"token.table\": {\"Topic\": [2, 5, 6, 2, 3, 4, 5, 6, 7, 11, 14, 4, 5, 4, 5, 8, 1, 4, 9, 9, 2, 15, 5, 9, 13, 14, 14, 5, 1, 3, 2, 3, 4, 5, 4, 6, 4, 9, 12, 4, 4, 11, 14, 7, 13, 5, 7, 13, 4, 5, 12, 8, 9, 9, 1, 10, 1, 1, 15, 10, 1, 6, 3, 1, 6, 9, 12, 14, 7, 13, 1, 9, 13, 14, 6, 15, 14, 2, 1, 1, 4, 12, 6, 4, 1, 2, 7, 10, 4, 6, 1, 4, 2, 12, 1, 3, 15, 6, 3, 12, 6, 7, 9, 11, 6, 10, 2, 2, 10, 10, 1, 2, 13, 9, 5, 7, 4, 15, 4, 12, 4, 6, 6, 3, 2, 3, 6, 10, 11, 12, 5, 2, 5, 5, 11, 14, 2, 1, 2, 10, 2, 5, 9, 1, 15, 14, 15, 9, 15, 6, 7, 2, 10, 1, 1, 3, 14, 3, 6, 2, 3, 4, 13, 14, 15, 2, 6, 13, 7, 1, 11, 7, 1, 12, 3, 6, 3, 4, 5, 2, 7, 10, 7, 11, 10, 9, 15, 13, 4, 9, 3, 10, 3, 5, 9, 3, 13, 9, 4, 2, 13, 11, 1, 3, 8, 15, 14, 14, 13, 2, 4, 12, 3, 12, 13, 6, 11, 10, 15, 2, 3, 5, 11, 12, 15, 5, 8, 12, 12, 1, 3, 6, 1, 2, 3, 5, 6, 9, 11, 4, 13, 2, 2, 2, 6, 9, 13, 11, 12, 15, 4, 5, 8, 10, 2, 9, 5, 11, 12, 4, 5, 14, 5, 7, 8, 15, 7, 8, 6, 6, 1, 3, 8, 12, 15, 4, 1, 10, 7, 10, 7, 1, 3, 5, 7, 8, 9, 12, 15, 13, 4, 6, 9, 14, 13, 2, 7, 8, 2, 10, 15, 15, 6, 4, 15, 4, 1, 3, 9, 13, 14, 5, 6, 10, 10, 14, 12, 3, 6, 15, 7, 6, 11, 12, 14, 4, 4, 5, 4, 8, 12, 15, 11, 7, 1, 7, 12, 2, 14, 14, 11, 1, 5, 8, 2, 12, 2, 5, 8, 6, 3, 1, 10, 6, 9, 2, 8, 1, 10, 12, 4, 9, 10, 6, 9, 6, 5, 2, 3, 15, 14, 5, 9, 8, 1, 1, 9, 13, 14, 3, 3, 9, 4, 7, 5, 10, 1, 3, 4, 5, 6, 3, 8, 11, 12, 1, 10, 8, 13, 10, 4, 12, 3, 5, 13, 3, 6, 12, 10, 2, 5, 13, 11, 1, 2, 10, 4, 5, 10, 7, 8, 8, 1, 2, 3, 6, 10, 11, 14, 3, 5, 8, 14, 4, 15, 12, 4, 7, 14, 6, 2, 6, 14, 9, 2, 1, 1, 9, 11, 9, 12, 13, 13, 4, 8, 12, 8, 7, 14, 4, 15, 5, 14, 3, 2, 5, 6, 5, 2, 1, 4, 13, 3, 8, 12, 15, 10, 9, 8, 7, 4, 15, 6, 7, 5, 5, 9, 1, 2, 13, 13, 7, 9, 1, 10, 4, 11, 13, 2, 4, 11, 5, 3, 12, 2, 11, 6, 9, 4, 8, 5, 14, 10, 2, 2, 8, 3, 1, 2, 15, 7, 9, 1, 12, 2, 10, 7, 6, 1, 4, 5, 1, 2, 6, 7, 12, 8, 10, 11, 2, 8, 13, 1, 3, 5, 15, 4, 15, 6, 11, 12, 15, 6, 3, 13, 9, 15, 11, 2, 13, 1, 10, 2, 2, 13, 1, 7, 12, 9, 6, 9, 11, 3, 2, 6, 9, 2, 3, 14, 1, 14, 1, 7, 4, 9, 12, 15, 2, 12, 5, 5, 4, 15, 5, 11, 15, 2, 10, 12, 4, 13, 11, 14, 15, 10, 7, 9, 2, 8, 3, 13, 9, 14, 1, 12, 7, 5, 3, 6, 3, 3, 12, 5, 2, 12, 13, 6, 7, 15, 2, 12, 3, 4, 13, 3, 4, 10, 4, 7, 3, 2, 2, 5, 15, 7, 2, 5, 8, 1, 4, 5, 7, 14, 9, 8, 5, 6, 15, 14, 2, 2, 5, 6, 10, 8, 8, 14, 4, 14, 12, 3, 13, 14, 6, 15, 8, 13, 13, 6, 11, 4, 10, 1, 12, 10, 13, 1, 2, 3, 4, 5, 15, 2, 11, 11, 9, 7, 13, 2, 9, 2, 8, 2, 6, 14, 8, 15, 10, 1, 2, 3, 12, 13, 13, 5, 15, 3, 1, 4, 6, 15, 14, 13, 9, 1, 2, 14, 7, 5, 4, 5], \"Freq\": [0.3045221871229895, 0.5476281348262164, 0.14586356862193617, 0.08159765594534779, 0.05808646694414588, 0.22543081218799474, 0.11478992277057401, 0.1963875787159218, 0.13899261733063478, 0.08643819485735994, 0.09750228379910202, 0.7796086907742935, 0.21835513123346398, 0.2950728638212549, 0.7025544376696546, 0.9807793654035569, 0.18967769611695295, 0.6377094955656176, 0.1700558654841647, 0.9966340046122008, 0.13545254321511457, 0.857866107029059, 0.9953143835743467, 0.9950353479347247, 0.992624960704056, 0.9952035939621761, 0.9990587550349741, 0.9917794181626214, 0.9940850252959399, 0.9988388565416203, 0.34395963635208676, 0.1161717977083207, 0.3886629996859259, 0.1510518105006474, 0.671443913165675, 0.3234394459761483, 0.9972238555159622, 0.9943379527135559, 0.9989209880044302, 0.9996214147454816, 0.9988399157644614, 0.9951049354026029, 0.9883859077823465, 0.9914192191587767, 0.9931793773604081, 0.9937548838861199, 0.9703367244391125, 0.9970988835886765, 0.999195651727118, 0.9928214277233114, 0.9992160547470995, 0.985712578499309, 0.9962128694709699, 0.9907665784843434, 0.4105990874549489, 0.5886044721897533, 0.9897019155593313, 0.9989814846313358, 0.9879236180286737, 0.9998885460405977, 0.9913476027818964, 0.9970662844559607, 0.9955736840999994, 0.9940847910124372, 0.9887725727383173, 0.3133542184095824, 0.68509002123768, 0.9962768116706691, 0.995553293116363, 0.9985557921087905, 0.6225111503713636, 0.19597573252431816, 0.17983655455172726, 0.9945351955225646, 0.8997004469956079, 0.09972790430147208, 0.9851783115138995, 0.9991671709705229, 0.9748552441689377, 0.818200351517605, 0.18107096851767016, 0.9974527461463583, 0.9910610144110106, 0.9945738865914706, 0.9841153011768837, 0.9950101885308081, 0.9941682131429908, 0.9878720349228487, 0.03217576826167294, 0.9669665093376447, 0.9987177643206588, 0.9921728935966494, 0.9993628984327038, 0.9890932077764072, 0.5749569283017342, 0.42450090968071963, 0.9983395058950448, 0.9918317298128753, 0.9969172861372428, 0.9920418939410774, 0.17364037506743588, 0.19503085605400405, 0.6303900573100389, 0.9934958655420453, 0.9939011216143674, 0.9769072829690267, 0.9947909537919115, 0.9966521588353249, 0.9977027978071475, 0.9966966539626176, 0.7928851114573897, 0.11582651030586039, 0.09055527169367267, 0.988908453797331, 0.7528988748072171, 0.24692437475375786, 0.3109684992022395, 0.6856293416145763, 0.9864775639388841, 0.99644014849434, 0.9908125022214402, 0.9979478749563274, 0.9921664231320539, 0.9984006951415609, 0.9956779832990768, 0.9928980645503122, 0.21814221740268558, 0.220621106236807, 0.5602288765114425, 0.9975964441432663, 0.9875998044791865, 0.7301993688241386, 0.2681705646566527, 0.9990141784730632, 0.996648966094818, 0.9972345371361658, 0.9970491171658769, 0.9966891479818034, 0.9971846273126362, 0.988254697808292, 0.9929792524798439, 0.983725845014507, 0.9962357865777911, 0.977091297587519, 0.9956740630022249, 0.987496957161698, 0.9944683808937597, 0.9882640447108848, 0.9961707492471896, 0.9912911751103217, 0.9988575819370813, 0.6944767154804181, 0.3046635759700372, 0.9986841020902062, 0.997877977449347, 0.35292093133206925, 0.6427367954723116, 0.9962675618992797, 0.9949431874490077, 0.1567844993549896, 0.16689167620020118, 0.14396564091716024, 0.3537511895824057, 0.11610927546572342, 0.06236867663020812, 0.9953718420477864, 0.280627430650342, 0.7185146775105375, 0.9981392152485601, 0.9902476789401831, 0.986975589433744, 0.9977126769893048, 0.9941042739317036, 0.9945444121990176, 0.028632181137502606, 0.968288307559179, 0.9974903611773069, 0.9981105034998182, 0.9923798247341074, 0.9921151911906765, 0.9924548561624336, 0.9962177383324834, 0.9968997679549104, 0.9997966743406531, 0.9691892588035911, 0.9991828735214635, 0.9881114961280899, 0.9954527065703668, 0.24425331574829834, 0.7493194940752881, 0.9965972130032835, 0.9968581168302855, 0.3401228686835968, 0.1467196688439045, 0.5112958156681521, 0.8050966776839994, 0.18943451239623516, 0.9886432180890985, 0.9894800926103983, 0.9949076501158146, 0.9967088957763888, 0.9834945476473445, 0.19712647237128686, 0.23098868848414594, 0.2479197965405755, 0.32410978279450847, 0.9944524436103127, 0.993670093722613, 0.996953701656871, 0.19235486264904392, 0.33958944887423803, 0.4678260239736007, 0.9913675359127051, 0.7020159016970284, 0.29577319716169215, 0.8098707617427531, 0.1863199605236395, 0.9591203661130268, 0.9805738878257824, 0.12973136805281718, 0.28858610444402194, 0.1747402100303252, 0.16679747321076496, 0.2409296835266605, 0.9797083495689964, 0.7471458242990587, 0.2527407033680104, 0.9957142004790344, 0.9990387538153479, 0.9943125352581264, 0.23892204697014063, 0.7597377320921019, 0.0669777217894705, 0.09922625450291928, 0.16951151810915377, 0.14387806902923295, 0.21416333263546744, 0.18687611264716464, 0.11907150540350313, 0.9872669605957829, 0.9980347530605687, 0.9998097383447386, 0.9954712219704532, 0.2620935093803364, 0.7364458467799593, 0.9945785367892835, 0.9953884665393794, 0.9726296375351333, 0.9875038370410811, 0.9861443810038678, 0.7949893188235654, 0.20442582484034538, 0.9986796161754368, 0.9979505054145209, 0.2902206297070889, 0.7096801335806158, 0.7375644588253941, 0.2618826076155357, 0.9955206541336062, 0.23445283640677156, 0.7609434164079428, 0.9933108313490037, 0.32717675170994653, 0.274848033573976, 0.3976004471452713, 0.9960474455599531, 0.9995746158324835, 0.778629234760421, 0.9976102883226624, 0.9911229164577182, 0.5887865732490598, 0.14362553445252843, 0.11952054964930688, 0.07733682624366915, 0.07075259428352994, 0.9845769035888683, 0.9879695925739367, 0.9655875561955365, 0.9955259017541471, 0.9548647090152458, 0.9966336329171739, 0.21511364470536348, 0.14734958873586776, 0.13282871959954726, 0.05696648661171893, 0.2832500306527136, 0.05426709427227473, 0.04719282469304166, 0.06310993124631607, 0.9962425092420937, 0.08657571891448201, 0.20842302701634557, 0.7038285296936593, 0.9884249043629773, 0.9964087293635024, 0.2838898802705025, 0.21195832276953058, 0.5035209025068035, 0.22078933071942833, 0.775916790813991, 0.9895940912720186, 0.9911451261404959, 0.9952987104270972, 0.37031624024327997, 0.6276546444801355, 0.9976023805591467, 0.7581270712702874, 0.2400183959261827, 0.990268566885737, 0.6045297511993095, 0.39495094388152996, 0.9900027952038765, 0.9938897549047153, 0.9986834709604288, 0.9984113312806697, 0.9970033949879186, 0.9966362112934455, 0.9910912791688447, 0.9986434139339919, 0.9928586422581197, 0.991046941855142, 0.9937400856113316, 0.9104077102147596, 0.9892333260503645, 0.9910837367992156, 0.9975830424129876, 0.995356927806938, 0.9976194138748347, 0.18457734370703885, 0.12524891180120493, 0.6168273475924002, 0.07251252788490813, 0.9956157345158073, 0.9964402755726965, 0.23378465505650625, 0.1666246996039099, 0.598488716944656, 0.45487878397486736, 0.5444584933509922, 0.9994502201169662, 0.8937358733985447, 0.9964670783553499, 0.36349005521067207, 0.6303072233972292, 0.9960412264767989, 0.9794018333813097, 0.9918772102933484, 0.9997932477571289, 0.988583101777517, 0.9997600967799419, 0.993186376324789, 0.44067600473617463, 0.5543988446680906, 0.9950193591707189, 0.9967423230025395, 0.999349470009783, 0.9864372965828491, 0.3384142588344049, 0.5264221804090743, 0.13395564412195193, 0.7058663917872063, 0.287575196654047, 0.9988002313773915, 0.7643396853950214, 0.23532089934600042, 0.9952364306144591, 0.9860411779603069, 0.12148607781390725, 0.2461691576755489, 0.6298094034036771, 0.9963259023673847, 0.9948826575596686, 0.999019601688424, 0.9925140375272477, 0.9923781466556515, 0.37913882522363157, 0.10509054726719344, 0.40178264480054066, 0.11321909788454541, 0.9934943052594353, 0.9927793393804019, 0.9962218626967877, 0.9938315909833216, 0.9861348434107655, 0.9902062864442223, 0.9988910428605885, 0.14961189173908002, 0.09178643664974234, 0.17531209400100786, 0.48050199586140113, 0.10234187686446271, 0.9929462767244861, 0.22144823781440195, 0.6457646661729244, 0.1324368485660765, 0.7206042782570502, 0.27778396213990597, 0.9541255263384943, 0.9916346111442517, 0.9535647223015776, 0.9995060971300102, 0.9952163320267972, 0.9964761126497322, 0.9983163548573756, 0.9955687664148222, 0.9987604065318624, 0.9960613720668439, 0.9957147185614961, 0.9734061245999275, 0.9958815875728997, 0.9889197373596664, 0.9980663892058894, 0.9959521725025796, 0.9995135983849497, 0.34304737430149146, 0.655856530199508, 0.9805301851185084, 0.9952950358188858, 0.9752624832432546, 0.7837347098036906, 0.21027028799611214, 0.9993213697628279, 0.1470893651934115, 0.14548183114758187, 0.14307053007883744, 0.09323697465811878, 0.06510512885610018, 0.26363558351606, 0.1414629960330078, 0.18740420498890178, 0.2420904149771308, 0.3706509788091078, 0.19955669609739712, 0.9983029887468078, 0.9935038301707266, 0.9977076025234253, 0.9912817522296394, 0.9941181119821422, 0.9891601099363424, 0.9978263577293982, 0.3170355619185893, 0.5251509307853932, 0.15754527923561798, 0.9991400011225334, 0.9945096424362123, 0.9829887717969386, 0.20873721759978092, 0.7906092653534186, 0.9944601829212957, 0.9986180378963566, 0.9927760009181208, 0.9964638602504077, 0.9951574012315699, 0.9880498927593115, 0.9868792782895948, 0.9947591313642116, 0.993866553552013, 0.9997330179263468, 0.9985571990919497, 0.2226756766661763, 0.7764349252175884, 0.984826864055284, 0.9803056813255637, 0.9944705261057247, 0.2986340627508539, 0.5506065531968869, 0.1504835706830475, 0.9986096437224216, 0.9966814545386206, 0.27970286879683454, 0.19188917743038647, 0.5268821481986883, 0.46421302655260493, 0.20716944986645178, 0.16113179434057362, 0.1649682656343968, 0.9939623340749859, 0.9966997748518074, 0.9918473921818672, 0.9917248075145084, 0.9976213806040756, 0.9927830603894663, 0.9987363609751251, 0.9972649131761823, 0.994673756234625, 0.9937789975069852, 0.9972085260747189, 0.5702374746288847, 0.2613588425382388, 0.16367927512495767, 0.9959203554550197, 0.7045320177330076, 0.2943653223401399, 0.9986195931939648, 0.9838295686763335, 0.3511235062345122, 0.6470704614893155, 0.9890027028855799, 0.10400154233304801, 0.31426553009334074, 0.5799216436614525, 0.9897565053817167, 0.7497017821039069, 0.2489009916584971, 0.9958387369755615, 0.9790899141149066, 0.8234198634317664, 0.17321129813289585, 0.36991648928775017, 0.6293941426432155, 0.1274329171747797, 0.8681367482531865, 0.9931874290531204, 0.9975333743570127, 0.21074541916638606, 0.7803276331295916, 0.9935005519928425, 0.8551915745441144, 0.14135397926349, 0.9984329551925648, 0.9913512082973807, 0.9980981350217217, 0.9798036756383225, 0.9914763900763285, 0.17259637235337683, 0.824374778477313, 0.997639586303986, 0.996060595367047, 0.9997112907560226, 0.26592766789881844, 0.733647507320858, 0.2118906988571054, 0.5264306696049863, 0.14973609385902115, 0.11206663628442463, 0.9974845822083219, 0.9998225956380657, 0.9970946655300964, 0.9895587726261368, 0.26394132337325515, 0.7354689308049354, 0.9936762611711549, 0.21447956961188364, 0.7850567978616794, 0.9987663220287815, 0.9975563313592408, 0.9937984454075349, 0.9891364033312309, 0.9991215371308618, 0.9624623755988034, 0.9988899537507625, 0.9984528437303853, 0.9964531820797704, 0.9950567436768316, 0.9982263174158686, 0.9931430960364905, 0.997126023915845, 0.9369788626108434, 0.365867005132615, 0.6301042866172814, 0.997099544980617, 0.9990508742450886, 0.996861461062761, 0.3094361759913302, 0.6854598835250986, 0.9916429377811948, 0.9918311396272622, 0.9978923655767294, 0.9946916974458365, 0.9953228691927152, 0.9921817163679032, 0.8239947758935924, 0.9954103697040183, 0.7193851097420868, 0.279136409769716, 0.997239063191688, 0.9984620009841624, 0.9982056293583175, 0.9931593434799115, 0.9988644114743496, 0.9937932479999602, 0.9912934191358316, 0.9819808887700524, 0.9957149005663155, 0.20809933151939167, 0.7916036605936165, 0.9974747964125149, 0.3467851730242993, 0.6508890939840695, 0.9894563458780616, 0.9959353339259722, 0.3599037950935026, 0.638299966004065, 0.1827124610689093, 0.8156806297719164, 0.9981898543028258, 0.3375006424969238, 0.659953485646851, 0.992823428881204, 0.99779556957196, 0.9967618799266065, 0.968251575212337, 0.9987953468988546, 0.9978812055486542, 0.9832736662433111, 0.9915679931620025, 0.9984348954454483, 0.9963738244253806, 0.9816548715445462, 0.9911660640343853, 0.9991779643735902, 0.9989327085945992, 0.9990005638043935, 0.9954212748574798, 0.9971845346718763, 0.9995007772451632, 0.9955666758446642, 0.9990445281881956, 0.9971555671885065, 0.9968956284559644, 0.9991661170604661, 0.9979361882184318, 0.993932502538674, 0.2791492543999901, 0.1637317742153788, 0.5556143813538265, 0.996035727980758, 0.9953592744058565, 0.994642918303961, 0.999163883912126, 0.9956219314306917, 0.9969214417454536, 0.9994515679567855, 0.9982496516676266, 0.9990682939772061, 0.9949171313259989, 0.9382865973007173, 0.994903525184563, 0.9912814206018898, 0.9957102108852506, 0.9913356025419268, 0.8521967255905867, 0.1448177442180082, 0.9915762951499606, 0.9898562143025322, 0.2394274376166796, 0.7600007300105208, 0.9940441281353024, 0.608845034585635, 0.08782891748565493, 0.09736073798797407, 0.2057851962018543, 0.9902633632720351, 0.9987563308252809, 0.9747290563925232, 0.9981637426730143, 0.9900891386646482, 0.9940637008470787, 0.9995122508361153, 0.991191796521658, 0.10746324578078204, 0.20084298926550717, 0.21186486062763868, 0.4797575673461124, 0.997754842368276, 0.9797970857010692, 0.9943521629914605, 0.9891074775345681, 0.9972532469195124, 0.9978123039960086, 0.9973892731115674, 0.9961898959140622, 0.9892619427995769, 0.998764705523802, 0.9987685476870265, 0.8307030823340287, 0.997597242513881, 0.9950580647349189, 0.9957484793306168, 0.9998141433800197, 0.9972356747618737, 0.9970661624854584, 0.9968751842194201, 0.9952124703006539, 0.9638747257804322, 0.9972709309049854, 0.13209266935075634, 0.11510932614851623, 0.14058434095187639, 0.20191308029329896, 0.34249742124517535, 0.06698985374216929, 0.23752103706354766, 0.7435441160250188, 0.90324342432895, 0.9991795399608124, 0.9975280709440526, 0.9959998660555958, 0.9943744342687392, 0.9970891291716686, 0.9937228305448517, 0.9986933835271401, 0.3252972029961619, 0.07978987998019064, 0.594478446445816, 0.9989229923540506, 0.9970094911430312, 0.9985711800656102, 0.11182564173982286, 0.46335674324867193, 0.17991749289822984, 0.1444875866044246, 0.0996466114513273, 0.9960945865576057, 0.9948146765931046, 0.9989444863040043, 0.9914653469741402, 0.9988182865327461, 0.6768069152052181, 0.3184973718612791, 0.9979101309783547, 0.9923600608267378, 0.9994736739625845, 0.9913042463834304, 0.8366409538248417, 0.16240677338952808, 0.9958051746791861, 0.999744343295993, 0.9961200942287528, 0.8547199966767776, 0.14183126582409408], \"Term\": [\"ability\", \"ability\", \"ability\", \"able\", \"able\", \"able\", \"able\", \"able\", \"able\", \"able\", \"able\", \"access\", \"access\", \"account\", \"account\", \"activity\", \"ad\", \"ad\", \"ad\", \"addition\", \"additional\", \"additional\", \"adult\", \"affordable\", \"age\", \"alarm\", \"alexa\", \"alot\", \"alternative\", \"amazing\", \"amazon\", \"amazon\", \"amazon\", \"amazon\", \"amount\", \"amount\", \"android\", \"annoying\", \"answer\", \"app\", \"apple\", \"application\", \"area\", \"aspect\", \"assistant\", \"audio\", \"autistic\", \"automation\", \"available\", \"average\", \"awesome\", \"awful\", \"back\", \"backlight\", \"bad\", \"bad\", \"base\", \"basic\", \"basis\", \"battery\", \"beat\", \"bed\", \"bedroom\", \"beginner\", \"bestbuy\", \"big\", \"big\", \"bill\", \"birthday\", \"bit\", \"black\", \"black\", \"black\", \"bluetooth\", \"book\", \"book\", \"bottom\", \"box\", \"brainer\", \"brand\", \"brand\", \"bright\", \"brightness\", \"browser\", \"budget\", \"buffering\", \"bunch\", \"busy\", \"button\", \"button\", \"buy\", \"buying\", \"cable\", \"call\", \"camera\", \"camera\", \"capability\", \"car\", \"card\", \"care\", \"case\", \"case\", \"case\", \"cell\", \"certain\", \"chance\", \"change\", \"channel\", \"charge\", \"charger\", \"cheap\", \"cheap\", \"cheap\", \"check\", \"child\", \"child\", \"choice\", \"choice\", \"chrome\", \"clear\", \"college\", \"color\", \"comfortable\", \"command\", \"company\", \"compatible\", \"computer\", \"computer\", \"computer\", \"connection\", \"contact\", \"content\", \"content\", \"control\", \"convenient\", \"cool\", \"cord\", \"cost\", \"couple\", \"course\", \"cover\", \"credit\", \"current\", \"curve\", \"customer\", \"dad\", \"daily\", \"damage\", \"dark\", \"date\", \"daughter\", \"day\", \"day\", \"dead\", \"deal\", \"decent\", \"decent\", \"defective\", \"design\", \"device\", \"device\", \"device\", \"device\", \"device\", \"device\", \"difference\", \"different\", \"different\", \"difficult\", \"dim\", \"direction\", \"disappointed\", \"disappointing\", \"display\", \"dollar\", \"dollar\", \"dot\", \"download\", \"downside\", \"due\", \"durable\", \"duracell\", \"ease\", \"easy\", \"ebook\", \"echo\", \"echos\", \"electronic\", \"email\", \"email\", \"end\", \"energizer\", \"enough\", \"enough\", \"enough\", \"entertainment\", \"entertainment\", \"entire\", \"ereader\", \"ethernet\", \"everyday\", \"exact\", \"excellent\", \"excellent\", \"excellent\", \"excellent\", \"excited\", \"expectation\", \"expensive\", \"experience\", \"experience\", \"experience\", \"external\", \"extra\", \"extra\", \"eye\", \"eye\", \"face\", \"facebook\", \"fact\", \"fact\", \"fact\", \"fact\", \"fact\", \"familiar\", \"family\", \"family\", \"fan\", \"fast\", \"father\", \"favorite\", \"favorite\", \"feature\", \"feature\", \"feature\", \"feature\", \"feature\", \"feature\", \"feature\", \"fee\", \"fine\", \"fire\", \"firetv\", \"first\", \"first\", \"fit\", \"flash\", \"follow\", \"font\", \"foot\", \"free\", \"free\", \"friend\", \"friendly\", \"full\", \"full\", \"fun\", \"fun\", \"function\", \"future\", \"future\", \"gadget\", \"game\", \"game\", \"game\", \"generation\", \"gift\", \"gifted\", \"glad\", \"glare\", \"good\", \"good\", \"good\", \"good\", \"good\", \"google\", \"grand\", \"grandchild\", \"granddaughter\", \"grandkid\", \"grandson\", \"great\", \"great\", \"great\", \"great\", \"great\", \"great\", \"great\", \"great\", \"half\", \"hand\", \"hand\", \"hand\", \"handle\", \"handy\", \"happy\", \"happy\", \"happy\", \"hard\", \"hard\", \"hdmi\", \"headphone\", \"heavy\", \"help\", \"help\", \"helpful\", \"high\", \"high\", \"hold\", \"home\", \"home\", \"homework\", \"hope\", \"hour\", \"house\", \"hue\", \"huge\", \"hulu\", \"husband\", \"idea\", \"impossible\", \"improvement\", \"inability\", \"inch\", \"info\", \"information\", \"install\", \"interface\", \"internet\", \"internet\", \"internet\", \"internet\", \"intuitive\", \"investment\", \"ipad\", \"ipad\", \"ipad\", \"issue\", \"issue\", \"item\", \"jealous\", \"job\", \"joke\", \"joke\", \"junk\", \"keep\", \"keyboard\", \"kid\", \"kind\", \"kindle\", \"kitchen\", \"lag\", \"lag\", \"laptop\", \"large\", \"last\", \"law\", \"less\", \"less\", \"less\", \"library\", \"library\", \"life\", \"light\", \"light\", \"lightweight\", \"limit\", \"limited\", \"limited\", \"limited\", \"line\", \"link\", \"list\", \"listen\", \"listening\", \"little\", \"little\", \"little\", \"little\", \"live\", \"living\", \"loading\", \"local\", \"location\", \"lock\", \"long\", \"lot\", \"lot\", \"lot\", \"lot\", \"lot\", \"loud\", \"love\", \"love\", \"love\", \"low\", \"low\", \"mail\", \"main\", \"maneuver\", \"many\", \"market\", \"medium\", \"member\", \"membership\", \"memory\", \"mine\", \"mini\", \"minimal\", \"minute\", \"mobile\", \"model\", \"mom\", \"money\", \"month\", \"month\", \"monthly\", \"morning\", \"most\", \"mother\", \"mother\", \"movie\", \"much\", \"much\", \"much\", \"much\", \"much\", \"much\", \"much\", \"music\", \"music\", \"music\", \"music\", \"name\", \"navigate\", \"need\", \"negative\", \"nephew\", \"netflix\", \"network\", \"new\", \"new\", \"new\", \"news\", \"next\", \"nexus\", \"nice\", \"nice\", \"niece\", \"night\", \"non\", \"none\", \"normal\", \"note\", \"number\", \"numerous\", \"offer\", \"old\", \"one\", \"online\", \"online\", \"operating\", \"operation\", \"opinion\", \"option\", \"option\", \"option\", \"order\", \"original\", \"other\", \"other\", \"other\", \"overall\", \"overall\", \"overall\", \"overall\", \"pack\", \"package\", \"packaging\", \"pad\", \"page\", \"pair\", \"paper\", \"paperwhite\", \"parent\", \"parental\", \"part\", \"pay\", \"pay\", \"pay\", \"people\", \"perfect\", \"perfect\", \"performance\", \"period\", \"person\", \"person\", \"personal\", \"phone\", \"phone\", \"phone\", \"pick\", \"picture\", \"picture\", \"piece\", \"pin\", \"place\", \"place\", \"play\", \"play\", \"player\", \"player\", \"playing\", \"playstation\", \"pleased\", \"pleased\", \"plenty\", \"point\", \"point\", \"port\", \"portability\", \"portable\", \"possibility\", \"possible\", \"power\", \"power\", \"present\", \"previous\", \"price\", \"prime\", \"prime\", \"problem\", \"problem\", \"problem\", \"problem\", \"processor\", \"product\", \"program\", \"protection\", \"purchase\", \"purchase\", \"purpose\", \"quality\", \"quality\", \"question\", \"quick\", \"radio\", \"rate\", \"read\", \"readable\", \"reader\", \"reading\", \"ready\", \"real\", \"reason\", \"recognition\", \"recommend\", \"reflection\", \"regular\", \"regular\", \"reliable\", \"remote\", \"replace\", \"replacement\", \"replacement\", \"request\", \"reset\", \"resolution\", \"response\", \"rest\", \"result\", \"retina\", \"return\", \"review\", \"review\", \"right\", \"roku\", \"room\", \"run\", \"sale\", \"satisfied\", \"savvy\", \"savy\", \"school\", \"screen\", \"screen\", \"search\", \"second\", \"second\", \"see\", \"selection\", \"service\", \"service\", \"set\", \"set\", \"setup\", \"several\", \"several\", \"sharp\", \"shopping\", \"short\", \"shoulder\", \"show\", \"simple\", \"single\", \"sister\", \"size\", \"skill\", \"sleek\", \"slot\", \"slow\", \"small\", \"smart\", \"smooth\", \"software\", \"son\", \"song\", \"sound\", \"source\", \"space\", \"speaker\", \"speed\", \"sport\", \"star\", \"star\", \"star\", \"start\", \"starter\", \"step\", \"stick\", \"stock\", \"storage\", \"store\", \"stream\", \"streaming\", \"stuff\", \"sturdy\", \"subscription\", \"sunlight\", \"super\", \"support\", \"sure\", \"sure\", \"surf\", \"surprised\", \"system\", \"system\", \"table\", \"tablet\", \"tablet\", \"tablet\", \"tablet\", \"talk\", \"tap\", \"teen\", \"terrible\", \"text\", \"thank\", \"thing\", \"thought\", \"time\", \"time\", \"time\", \"time\", \"timer\", \"tired\", \"ton\", \"tool\", \"top\", \"touch\", \"toy\", \"travel\", \"trip\", \"turn\", \"unit\", \"unusable\", \"update\", \"upgrade\", \"usage\", \"use\", \"useful\", \"user\", \"value\", \"various\", \"versatile\", \"version\", \"video\", \"video\", \"video\", \"video\", \"video\", \"video\", \"view\", \"view\", \"visit\", \"voice\", \"volume\", \"voyage\", \"vue\", \"warranty\", \"waste\", \"watch\", \"way\", \"way\", \"way\", \"weather\", \"web\", \"week\", \"well\", \"well\", \"well\", \"well\", \"well\", \"white\", \"whole\", \"wife\", \"wifi\", \"wireless\", \"wish\", \"wish\", \"wonderful\", \"word\", \"work\", \"world\", \"worth\", \"worth\", \"wrong\", \"year\", \"young\", \"youtube\", \"youtube\"]}, \"R\": 30, \"lambda.step\": 0.01, \"plot.opts\": {\"xlab\": \"PC1\", \"ylab\": \"PC2\"}, \"topic.order\": [9, 10, 13, 3, 11, 2, 15, 6, 1, 7, 8, 5, 12, 4, 14]};\n",
       "\n",
       "function LDAvis_load_lib(url, callback){\n",
       "  var s = document.createElement('script');\n",
       "  s.src = url;\n",
       "  s.async = true;\n",
       "  s.onreadystatechange = s.onload = callback;\n",
       "  s.onerror = function(){console.warn(\"failed to load library \" + url);};\n",
       "  document.getElementsByTagName(\"head\")[0].appendChild(s);\n",
       "}\n",
       "\n",
       "if(typeof(LDAvis) !== \"undefined\"){\n",
       "   // already loaded: just create the visualization\n",
       "   !function(LDAvis){\n",
       "       new LDAvis(\"#\" + \"ldavis_el1346830853149766724631162282\", ldavis_el1346830853149766724631162282_data);\n",
       "   }(LDAvis);\n",
       "}else if(typeof define === \"function\" && define.amd){\n",
       "   // require.js is available: use it to load d3/LDAvis\n",
       "   require.config({paths: {d3: \"https://d3js.org/d3.v5\"}});\n",
       "   require([\"d3\"], function(d3){\n",
       "      window.d3 = d3;\n",
       "      LDAvis_load_lib(\"https://cdn.jsdelivr.net/gh/bmabey/pyLDAvis@3.3.1/pyLDAvis/js/ldavis.v3.0.0.js\", function(){\n",
       "        new LDAvis(\"#\" + \"ldavis_el1346830853149766724631162282\", ldavis_el1346830853149766724631162282_data);\n",
       "      });\n",
       "    });\n",
       "}else{\n",
       "    // require.js not available: dynamically load d3 & LDAvis\n",
       "    LDAvis_load_lib(\"https://d3js.org/d3.v5.js\", function(){\n",
       "         LDAvis_load_lib(\"https://cdn.jsdelivr.net/gh/bmabey/pyLDAvis@3.3.1/pyLDAvis/js/ldavis.v3.0.0.js\", function(){\n",
       "                 new LDAvis(\"#\" + \"ldavis_el1346830853149766724631162282\", ldavis_el1346830853149766724631162282_data);\n",
       "            })\n",
       "         });\n",
       "}\n",
       "</script>"
      ],
      "text/plain": [
       "PreparedData(topic_coordinates=              x         y  topics  cluster       Freq\n",
       "topic                                                \n",
       "8     -0.193852  0.031457       1        1  10.204612\n",
       "9      0.193184  0.154360       2        1  10.088334\n",
       "12    -0.141788  0.119859       3        1   7.603742\n",
       "2      0.061933  0.270477       4        1   7.427491\n",
       "10    -0.044699  0.216941       5        1   7.357566\n",
       "1      0.206166 -0.074788       6        1   7.316783\n",
       "14    -0.091365 -0.009220       7        1   6.360666\n",
       "5     -0.240588 -0.019632       8        1   6.267119\n",
       "0     -0.008247 -0.200252       9        1   6.237055\n",
       "6      0.188955 -0.094134      10        1   5.661500\n",
       "7      0.055373 -0.170711      11        1   5.636890\n",
       "4     -0.161031 -0.175850      12        1   5.394055\n",
       "11     0.148118 -0.045562      13        1   5.341748\n",
       "3      0.176847 -0.001068      14        1   4.968661\n",
       "13    -0.149006 -0.001878      15        1   4.133778, topic_info=          Term         Freq         Total Category  logprob  loglift\n",
       "7          use  6051.000000   6051.000000  Default  30.0000  30.0000\n",
       "223    battery  5431.000000   5431.000000  Default  29.0000  29.0000\n",
       "88        easy  5375.000000   5375.000000  Default  28.0000  28.0000\n",
       "6      product  5127.000000   5127.000000  Default  27.0000  27.0000\n",
       "98      kindle  4253.000000   4253.000000  Default  26.0000  26.0000\n",
       "..         ...          ...           ...      ...      ...      ...\n",
       "109  excellent   267.768725    826.880317  Topic15  -3.9731   2.0584\n",
       "59        good   634.025930   8960.802165  Topic15  -3.1112   0.5375\n",
       "27       great   677.543595  10743.158590  Topic15  -3.0448   0.4224\n",
       "93        book   232.318458   2326.329843  Topic15  -4.1152   0.8820\n",
       "96      device   253.258383   4056.523461  Topic15  -4.0289   0.4123\n",
       "\n",
       "[659 rows x 6 columns], token_table=      Topic      Freq     Term\n",
       "term                          \n",
       "0         2  0.304522  ability\n",
       "0         5  0.547628  ability\n",
       "0         6  0.145864  ability\n",
       "16        2  0.081598     able\n",
       "16        3  0.058086     able\n",
       "...     ...       ...      ...\n",
       "636      14  0.995805    wrong\n",
       "81        7  0.999744     year\n",
       "362       5  0.996120    young\n",
       "293       4  0.854720  youtube\n",
       "293       5  0.141831  youtube\n",
       "\n",
       "[731 rows x 3 columns], R=30, lambda_step=0.01, plot_opts={'xlab': 'PC1', 'ylab': 'PC2'}, topic_order=[9, 10, 13, 3, 11, 2, 15, 6, 1, 7, 8, 5, 12, 4, 14])"
      ]
     },
     "execution_count": 59,
     "metadata": {},
     "output_type": "execute_result"
    }
   ],
   "source": [
    "# Visualize the topics\n",
    "pyLDAvis.enable_notebook()\n",
    "vis = pyLDAvis.gensim_models.prepare(lda_model, doc_term_matrix, dictionary)\n",
    "vis"
   ]
  },
  {
   "cell_type": "code",
   "execution_count": null,
   "metadata": {},
   "outputs": [],
   "source": []
  }
 ],
 "metadata": {
  "kernelspec": {
   "display_name": "Python 3",
   "language": "python",
   "name": "python3"
  },
  "language_info": {
   "codemirror_mode": {
    "name": "ipython",
    "version": 3
   },
   "file_extension": ".py",
   "mimetype": "text/x-python",
   "name": "python",
   "nbconvert_exporter": "python",
   "pygments_lexer": "ipython3",
   "version": "3.8.8"
  }
 },
 "nbformat": 4,
 "nbformat_minor": 2
}
