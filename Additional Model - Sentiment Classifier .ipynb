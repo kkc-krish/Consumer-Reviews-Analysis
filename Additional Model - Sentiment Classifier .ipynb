{
 "cells": [
  {
   "cell_type": "markdown",
   "metadata": {},
   "source": [
    "Data-set source link: https://www.kaggle.com/datafiniti/consumer-reviews-of-amazon-products\n",
    "Problem Statement: Understanding insights from Customer Reviews - identify key product terms in the sentiments (Topic Modelling) - do sentiment analysis (classify sentiments) - understand product wise sentiments \n",
    "\n",
    "Given that we are dealing with Reviews, (Textual Data - Applications of NLP Techniques), following sub analysis - \n",
    "1. Entity Recognition (Named Entity Recognition), 2. Identifying Emerging Trends 3.Sentiment Analysis  4. Text Summarization 5. Topic Modelling \n",
    "and solutions deduced can be applied as universal attempt for exploring the data. \n",
    "\n",
    "We will restrict ourselves to Sentiment Analysis & Topic Modelling and explore advanced enhancements at later when we deploy real time sentiment monitors - probably by streaming data analysis using Databricks/ Apache Spark \n",
    "\n",
    "Further availability of labelled training data sets - especially pretrained word embeddings will helps us to employ Aspect Based Sentiment Analysis and Aspect Sentiment Triplet Extraction "
   ]
  },
  {
   "cell_type": "code",
   "execution_count": 1,
   "metadata": {},
   "outputs": [],
   "source": [
    "#Modelling 1 [Exploratory Analysis 1 and Topic Modelling using LDA]\n",
    "#Importing required packages \n",
    "import os\n",
    "import pandas as pd\n",
    "import sklearn\n",
    "from pandas import DataFrame,Series\n",
    "from sklearn.linear_model import LinearRegression\n",
    "from sklearn import datasets, linear_model\n",
    "import statsmodels.api as sm\n",
    "from sklearn import linear_model\n",
    "from sklearn import preprocessing\n",
    "import numpy as np\n",
    "import matplotlib.pyplot as plt\n",
    "import seaborn as sbn\n",
    "import pylab as pl\n",
    "from collections import Counter\n",
    "from sklearn.metrics import confusion_matrix\n",
    "from nltk.corpus import stopwords\n",
    "from nltk.stem import WordNetLemmatizer\n",
    "from nltk.tokenize import word_tokenize\n",
    "%matplotlib inline"
   ]
  },
  {
   "cell_type": "code",
   "execution_count": 2,
   "metadata": {},
   "outputs": [
    {
     "name": "stderr",
     "output_type": "stream",
     "text": [
      "C:\\Anaconda3\\lib\\site-packages\\IPython\\core\\interactiveshell.py:3165: DtypeWarning: Columns (1,10) have mixed types.Specify dtype option on import or set low_memory=False.\n",
      "  has_raised = await self.run_ast_nodes(code_ast.body, cell_name,\n"
     ]
    }
   ],
   "source": [
    "# Reading the initial data file as data frame  \n",
    "df = pd.read_csv(\"1429_1.csv\")\n",
    " "
   ]
  },
  {
   "cell_type": "code",
   "execution_count": 3,
   "metadata": {},
   "outputs": [
    {
     "data": {
      "text/html": [
       "<div>\n",
       "<style scoped>\n",
       "    .dataframe tbody tr th:only-of-type {\n",
       "        vertical-align: middle;\n",
       "    }\n",
       "\n",
       "    .dataframe tbody tr th {\n",
       "        vertical-align: top;\n",
       "    }\n",
       "\n",
       "    .dataframe thead th {\n",
       "        text-align: right;\n",
       "    }\n",
       "</style>\n",
       "<table border=\"1\" class=\"dataframe\">\n",
       "  <thead>\n",
       "    <tr style=\"text-align: right;\">\n",
       "      <th></th>\n",
       "      <th>id</th>\n",
       "      <th>name</th>\n",
       "      <th>asins</th>\n",
       "      <th>brand</th>\n",
       "      <th>categories</th>\n",
       "      <th>keys</th>\n",
       "      <th>manufacturer</th>\n",
       "      <th>reviews.date</th>\n",
       "      <th>reviews.dateAdded</th>\n",
       "      <th>reviews.dateSeen</th>\n",
       "      <th>...</th>\n",
       "      <th>reviews.doRecommend</th>\n",
       "      <th>reviews.id</th>\n",
       "      <th>reviews.numHelpful</th>\n",
       "      <th>reviews.rating</th>\n",
       "      <th>reviews.sourceURLs</th>\n",
       "      <th>reviews.text</th>\n",
       "      <th>reviews.title</th>\n",
       "      <th>reviews.userCity</th>\n",
       "      <th>reviews.userProvince</th>\n",
       "      <th>reviews.username</th>\n",
       "    </tr>\n",
       "  </thead>\n",
       "  <tbody>\n",
       "    <tr>\n",
       "      <th>0</th>\n",
       "      <td>AVqkIhwDv8e3D1O-lebb</td>\n",
       "      <td>All-New Fire HD 8 Tablet, 8 HD Display, Wi-Fi,...</td>\n",
       "      <td>B01AHB9CN2</td>\n",
       "      <td>Amazon</td>\n",
       "      <td>Electronics,iPad &amp; Tablets,All Tablets,Fire Ta...</td>\n",
       "      <td>841667104676,amazon/53004484,amazon/b01ahb9cn2...</td>\n",
       "      <td>Amazon</td>\n",
       "      <td>2017-01-13T00:00:00.000Z</td>\n",
       "      <td>2017-07-03T23:33:15Z</td>\n",
       "      <td>2017-06-07T09:04:00.000Z,2017-04-30T00:45:00.000Z</td>\n",
       "      <td>...</td>\n",
       "      <td>True</td>\n",
       "      <td>NaN</td>\n",
       "      <td>0.0</td>\n",
       "      <td>5.0</td>\n",
       "      <td>http://reviews.bestbuy.com/3545/5620406/review...</td>\n",
       "      <td>This product so far has not disappointed. My c...</td>\n",
       "      <td>Kindle</td>\n",
       "      <td>NaN</td>\n",
       "      <td>NaN</td>\n",
       "      <td>Adapter</td>\n",
       "    </tr>\n",
       "    <tr>\n",
       "      <th>1</th>\n",
       "      <td>AVqkIhwDv8e3D1O-lebb</td>\n",
       "      <td>All-New Fire HD 8 Tablet, 8 HD Display, Wi-Fi,...</td>\n",
       "      <td>B01AHB9CN2</td>\n",
       "      <td>Amazon</td>\n",
       "      <td>Electronics,iPad &amp; Tablets,All Tablets,Fire Ta...</td>\n",
       "      <td>841667104676,amazon/53004484,amazon/b01ahb9cn2...</td>\n",
       "      <td>Amazon</td>\n",
       "      <td>2017-01-13T00:00:00.000Z</td>\n",
       "      <td>2017-07-03T23:33:15Z</td>\n",
       "      <td>2017-06-07T09:04:00.000Z,2017-04-30T00:45:00.000Z</td>\n",
       "      <td>...</td>\n",
       "      <td>True</td>\n",
       "      <td>NaN</td>\n",
       "      <td>0.0</td>\n",
       "      <td>5.0</td>\n",
       "      <td>http://reviews.bestbuy.com/3545/5620406/review...</td>\n",
       "      <td>great for beginner or experienced person. Boug...</td>\n",
       "      <td>very fast</td>\n",
       "      <td>NaN</td>\n",
       "      <td>NaN</td>\n",
       "      <td>truman</td>\n",
       "    </tr>\n",
       "    <tr>\n",
       "      <th>2</th>\n",
       "      <td>AVqkIhwDv8e3D1O-lebb</td>\n",
       "      <td>All-New Fire HD 8 Tablet, 8 HD Display, Wi-Fi,...</td>\n",
       "      <td>B01AHB9CN2</td>\n",
       "      <td>Amazon</td>\n",
       "      <td>Electronics,iPad &amp; Tablets,All Tablets,Fire Ta...</td>\n",
       "      <td>841667104676,amazon/53004484,amazon/b01ahb9cn2...</td>\n",
       "      <td>Amazon</td>\n",
       "      <td>2017-01-13T00:00:00.000Z</td>\n",
       "      <td>2017-07-03T23:33:15Z</td>\n",
       "      <td>2017-06-07T09:04:00.000Z,2017-04-30T00:45:00.000Z</td>\n",
       "      <td>...</td>\n",
       "      <td>True</td>\n",
       "      <td>NaN</td>\n",
       "      <td>0.0</td>\n",
       "      <td>5.0</td>\n",
       "      <td>http://reviews.bestbuy.com/3545/5620406/review...</td>\n",
       "      <td>Inexpensive tablet for him to use and learn on...</td>\n",
       "      <td>Beginner tablet for our 9 year old son.</td>\n",
       "      <td>NaN</td>\n",
       "      <td>NaN</td>\n",
       "      <td>DaveZ</td>\n",
       "    </tr>\n",
       "    <tr>\n",
       "      <th>3</th>\n",
       "      <td>AVqkIhwDv8e3D1O-lebb</td>\n",
       "      <td>All-New Fire HD 8 Tablet, 8 HD Display, Wi-Fi,...</td>\n",
       "      <td>B01AHB9CN2</td>\n",
       "      <td>Amazon</td>\n",
       "      <td>Electronics,iPad &amp; Tablets,All Tablets,Fire Ta...</td>\n",
       "      <td>841667104676,amazon/53004484,amazon/b01ahb9cn2...</td>\n",
       "      <td>Amazon</td>\n",
       "      <td>2017-01-13T00:00:00.000Z</td>\n",
       "      <td>2017-07-03T23:33:15Z</td>\n",
       "      <td>2017-06-07T09:04:00.000Z,2017-04-30T00:45:00.000Z</td>\n",
       "      <td>...</td>\n",
       "      <td>True</td>\n",
       "      <td>NaN</td>\n",
       "      <td>0.0</td>\n",
       "      <td>4.0</td>\n",
       "      <td>http://reviews.bestbuy.com/3545/5620406/review...</td>\n",
       "      <td>I've had my Fire HD 8 two weeks now and I love...</td>\n",
       "      <td>Good!!!</td>\n",
       "      <td>NaN</td>\n",
       "      <td>NaN</td>\n",
       "      <td>Shacks</td>\n",
       "    </tr>\n",
       "    <tr>\n",
       "      <th>4</th>\n",
       "      <td>AVqkIhwDv8e3D1O-lebb</td>\n",
       "      <td>All-New Fire HD 8 Tablet, 8 HD Display, Wi-Fi,...</td>\n",
       "      <td>B01AHB9CN2</td>\n",
       "      <td>Amazon</td>\n",
       "      <td>Electronics,iPad &amp; Tablets,All Tablets,Fire Ta...</td>\n",
       "      <td>841667104676,amazon/53004484,amazon/b01ahb9cn2...</td>\n",
       "      <td>Amazon</td>\n",
       "      <td>2017-01-12T00:00:00.000Z</td>\n",
       "      <td>2017-07-03T23:33:15Z</td>\n",
       "      <td>2017-06-07T09:04:00.000Z,2017-04-30T00:45:00.000Z</td>\n",
       "      <td>...</td>\n",
       "      <td>True</td>\n",
       "      <td>NaN</td>\n",
       "      <td>0.0</td>\n",
       "      <td>5.0</td>\n",
       "      <td>http://reviews.bestbuy.com/3545/5620406/review...</td>\n",
       "      <td>I bought this for my grand daughter when she c...</td>\n",
       "      <td>Fantastic Tablet for kids</td>\n",
       "      <td>NaN</td>\n",
       "      <td>NaN</td>\n",
       "      <td>explore42</td>\n",
       "    </tr>\n",
       "  </tbody>\n",
       "</table>\n",
       "<p>5 rows × 21 columns</p>\n",
       "</div>"
      ],
      "text/plain": [
       "                     id                                               name  \\\n",
       "0  AVqkIhwDv8e3D1O-lebb  All-New Fire HD 8 Tablet, 8 HD Display, Wi-Fi,...   \n",
       "1  AVqkIhwDv8e3D1O-lebb  All-New Fire HD 8 Tablet, 8 HD Display, Wi-Fi,...   \n",
       "2  AVqkIhwDv8e3D1O-lebb  All-New Fire HD 8 Tablet, 8 HD Display, Wi-Fi,...   \n",
       "3  AVqkIhwDv8e3D1O-lebb  All-New Fire HD 8 Tablet, 8 HD Display, Wi-Fi,...   \n",
       "4  AVqkIhwDv8e3D1O-lebb  All-New Fire HD 8 Tablet, 8 HD Display, Wi-Fi,...   \n",
       "\n",
       "        asins   brand                                         categories  \\\n",
       "0  B01AHB9CN2  Amazon  Electronics,iPad & Tablets,All Tablets,Fire Ta...   \n",
       "1  B01AHB9CN2  Amazon  Electronics,iPad & Tablets,All Tablets,Fire Ta...   \n",
       "2  B01AHB9CN2  Amazon  Electronics,iPad & Tablets,All Tablets,Fire Ta...   \n",
       "3  B01AHB9CN2  Amazon  Electronics,iPad & Tablets,All Tablets,Fire Ta...   \n",
       "4  B01AHB9CN2  Amazon  Electronics,iPad & Tablets,All Tablets,Fire Ta...   \n",
       "\n",
       "                                                keys manufacturer  \\\n",
       "0  841667104676,amazon/53004484,amazon/b01ahb9cn2...       Amazon   \n",
       "1  841667104676,amazon/53004484,amazon/b01ahb9cn2...       Amazon   \n",
       "2  841667104676,amazon/53004484,amazon/b01ahb9cn2...       Amazon   \n",
       "3  841667104676,amazon/53004484,amazon/b01ahb9cn2...       Amazon   \n",
       "4  841667104676,amazon/53004484,amazon/b01ahb9cn2...       Amazon   \n",
       "\n",
       "               reviews.date     reviews.dateAdded  \\\n",
       "0  2017-01-13T00:00:00.000Z  2017-07-03T23:33:15Z   \n",
       "1  2017-01-13T00:00:00.000Z  2017-07-03T23:33:15Z   \n",
       "2  2017-01-13T00:00:00.000Z  2017-07-03T23:33:15Z   \n",
       "3  2017-01-13T00:00:00.000Z  2017-07-03T23:33:15Z   \n",
       "4  2017-01-12T00:00:00.000Z  2017-07-03T23:33:15Z   \n",
       "\n",
       "                                    reviews.dateSeen  ... reviews.doRecommend  \\\n",
       "0  2017-06-07T09:04:00.000Z,2017-04-30T00:45:00.000Z  ...                True   \n",
       "1  2017-06-07T09:04:00.000Z,2017-04-30T00:45:00.000Z  ...                True   \n",
       "2  2017-06-07T09:04:00.000Z,2017-04-30T00:45:00.000Z  ...                True   \n",
       "3  2017-06-07T09:04:00.000Z,2017-04-30T00:45:00.000Z  ...                True   \n",
       "4  2017-06-07T09:04:00.000Z,2017-04-30T00:45:00.000Z  ...                True   \n",
       "\n",
       "  reviews.id  reviews.numHelpful  reviews.rating  \\\n",
       "0        NaN                 0.0             5.0   \n",
       "1        NaN                 0.0             5.0   \n",
       "2        NaN                 0.0             5.0   \n",
       "3        NaN                 0.0             4.0   \n",
       "4        NaN                 0.0             5.0   \n",
       "\n",
       "                                  reviews.sourceURLs  \\\n",
       "0  http://reviews.bestbuy.com/3545/5620406/review...   \n",
       "1  http://reviews.bestbuy.com/3545/5620406/review...   \n",
       "2  http://reviews.bestbuy.com/3545/5620406/review...   \n",
       "3  http://reviews.bestbuy.com/3545/5620406/review...   \n",
       "4  http://reviews.bestbuy.com/3545/5620406/review...   \n",
       "\n",
       "                                        reviews.text  \\\n",
       "0  This product so far has not disappointed. My c...   \n",
       "1  great for beginner or experienced person. Boug...   \n",
       "2  Inexpensive tablet for him to use and learn on...   \n",
       "3  I've had my Fire HD 8 two weeks now and I love...   \n",
       "4  I bought this for my grand daughter when she c...   \n",
       "\n",
       "                             reviews.title reviews.userCity  \\\n",
       "0                                   Kindle              NaN   \n",
       "1                                very fast              NaN   \n",
       "2  Beginner tablet for our 9 year old son.              NaN   \n",
       "3                                  Good!!!              NaN   \n",
       "4                Fantastic Tablet for kids              NaN   \n",
       "\n",
       "   reviews.userProvince  reviews.username  \n",
       "0                   NaN           Adapter  \n",
       "1                   NaN            truman  \n",
       "2                   NaN             DaveZ  \n",
       "3                   NaN            Shacks  \n",
       "4                   NaN         explore42  \n",
       "\n",
       "[5 rows x 21 columns]"
      ]
     },
     "execution_count": 3,
     "metadata": {},
     "output_type": "execute_result"
    }
   ],
   "source": [
    "#First-look at the data \n",
    "df.head()"
   ]
  },
  {
   "cell_type": "code",
   "execution_count": 4,
   "metadata": {},
   "outputs": [
    {
     "name": "stdout",
     "output_type": "stream",
     "text": [
      "<class 'pandas.core.frame.DataFrame'>\n",
      "RangeIndex: 34660 entries, 0 to 34659\n",
      "Data columns (total 21 columns):\n",
      " #   Column                Non-Null Count  Dtype  \n",
      "---  ------                --------------  -----  \n",
      " 0   id                    34660 non-null  object \n",
      " 1   name                  27900 non-null  object \n",
      " 2   asins                 34658 non-null  object \n",
      " 3   brand                 34660 non-null  object \n",
      " 4   categories            34660 non-null  object \n",
      " 5   keys                  34660 non-null  object \n",
      " 6   manufacturer          34660 non-null  object \n",
      " 7   reviews.date          34621 non-null  object \n",
      " 8   reviews.dateAdded     24039 non-null  object \n",
      " 9   reviews.dateSeen      34660 non-null  object \n",
      " 10  reviews.didPurchase   1 non-null      object \n",
      " 11  reviews.doRecommend   34066 non-null  object \n",
      " 12  reviews.id            1 non-null      float64\n",
      " 13  reviews.numHelpful    34131 non-null  float64\n",
      " 14  reviews.rating        34627 non-null  float64\n",
      " 15  reviews.sourceURLs    34660 non-null  object \n",
      " 16  reviews.text          34659 non-null  object \n",
      " 17  reviews.title         34655 non-null  object \n",
      " 18  reviews.userCity      0 non-null      float64\n",
      " 19  reviews.userProvince  0 non-null      float64\n",
      " 20  reviews.username      34658 non-null  object \n",
      "dtypes: float64(5), object(16)\n",
      "memory usage: 5.6+ MB\n"
     ]
    }
   ],
   "source": [
    "#Exploring each column \n",
    "df.info() "
   ]
  },
  {
   "cell_type": "markdown",
   "metadata": {},
   "source": [
    "From the columns presented what we are really interested in working with to complete the sentiment analysis would be the reviews.text and reviews.rating. "
   ]
  },
  {
   "cell_type": "code",
   "execution_count": 5,
   "metadata": {},
   "outputs": [],
   "source": [
    "# the id has been chosen because under name there are more missing values. \n",
    "# from the description the ID represents a device sold by Amazon\n",
    "data = df[[\"id\",\"reviews.text\",\"reviews.rating\"]]\n"
   ]
  },
  {
   "cell_type": "code",
   "execution_count": 6,
   "metadata": {},
   "outputs": [
    {
     "data": {
      "text/html": [
       "<div>\n",
       "<style scoped>\n",
       "    .dataframe tbody tr th:only-of-type {\n",
       "        vertical-align: middle;\n",
       "    }\n",
       "\n",
       "    .dataframe tbody tr th {\n",
       "        vertical-align: top;\n",
       "    }\n",
       "\n",
       "    .dataframe thead th {\n",
       "        text-align: right;\n",
       "    }\n",
       "</style>\n",
       "<table border=\"1\" class=\"dataframe\">\n",
       "  <thead>\n",
       "    <tr style=\"text-align: right;\">\n",
       "      <th></th>\n",
       "      <th>id</th>\n",
       "      <th>reviews.text</th>\n",
       "      <th>reviews.rating</th>\n",
       "    </tr>\n",
       "  </thead>\n",
       "  <tbody>\n",
       "    <tr>\n",
       "      <th>0</th>\n",
       "      <td>AVqkIhwDv8e3D1O-lebb</td>\n",
       "      <td>This product so far has not disappointed. My c...</td>\n",
       "      <td>5.0</td>\n",
       "    </tr>\n",
       "    <tr>\n",
       "      <th>1</th>\n",
       "      <td>AVqkIhwDv8e3D1O-lebb</td>\n",
       "      <td>great for beginner or experienced person. Boug...</td>\n",
       "      <td>5.0</td>\n",
       "    </tr>\n",
       "    <tr>\n",
       "      <th>2</th>\n",
       "      <td>AVqkIhwDv8e3D1O-lebb</td>\n",
       "      <td>Inexpensive tablet for him to use and learn on...</td>\n",
       "      <td>5.0</td>\n",
       "    </tr>\n",
       "    <tr>\n",
       "      <th>3</th>\n",
       "      <td>AVqkIhwDv8e3D1O-lebb</td>\n",
       "      <td>I've had my Fire HD 8 two weeks now and I love...</td>\n",
       "      <td>4.0</td>\n",
       "    </tr>\n",
       "    <tr>\n",
       "      <th>4</th>\n",
       "      <td>AVqkIhwDv8e3D1O-lebb</td>\n",
       "      <td>I bought this for my grand daughter when she c...</td>\n",
       "      <td>5.0</td>\n",
       "    </tr>\n",
       "  </tbody>\n",
       "</table>\n",
       "</div>"
      ],
      "text/plain": [
       "                     id                                       reviews.text  \\\n",
       "0  AVqkIhwDv8e3D1O-lebb  This product so far has not disappointed. My c...   \n",
       "1  AVqkIhwDv8e3D1O-lebb  great for beginner or experienced person. Boug...   \n",
       "2  AVqkIhwDv8e3D1O-lebb  Inexpensive tablet for him to use and learn on...   \n",
       "3  AVqkIhwDv8e3D1O-lebb  I've had my Fire HD 8 two weeks now and I love...   \n",
       "4  AVqkIhwDv8e3D1O-lebb  I bought this for my grand daughter when she c...   \n",
       "\n",
       "   reviews.rating  \n",
       "0             5.0  \n",
       "1             5.0  \n",
       "2             5.0  \n",
       "3             4.0  \n",
       "4             5.0  "
      ]
     },
     "execution_count": 6,
     "metadata": {},
     "output_type": "execute_result"
    }
   ],
   "source": [
    "#Refined data glance \n",
    "data.head() "
   ]
  },
  {
   "cell_type": "code",
   "execution_count": 7,
   "metadata": {},
   "outputs": [
    {
     "data": {
      "text/html": [
       "<div>\n",
       "<style scoped>\n",
       "    .dataframe tbody tr th:only-of-type {\n",
       "        vertical-align: middle;\n",
       "    }\n",
       "\n",
       "    .dataframe tbody tr th {\n",
       "        vertical-align: top;\n",
       "    }\n",
       "\n",
       "    .dataframe thead th {\n",
       "        text-align: right;\n",
       "    }\n",
       "</style>\n",
       "<table border=\"1\" class=\"dataframe\">\n",
       "  <thead>\n",
       "    <tr style=\"text-align: right;\">\n",
       "      <th></th>\n",
       "      <th>id</th>\n",
       "      <th>reviews.text</th>\n",
       "    </tr>\n",
       "  </thead>\n",
       "  <tbody>\n",
       "    <tr>\n",
       "      <th>count</th>\n",
       "      <td>34660</td>\n",
       "      <td>34659</td>\n",
       "    </tr>\n",
       "    <tr>\n",
       "      <th>unique</th>\n",
       "      <td>42</td>\n",
       "      <td>34659</td>\n",
       "    </tr>\n",
       "    <tr>\n",
       "      <th>top</th>\n",
       "      <td>AVphgVaX1cnluZ0-DR74</td>\n",
       "      <td>Bought this as a gift for someone and they lov...</td>\n",
       "    </tr>\n",
       "    <tr>\n",
       "      <th>freq</th>\n",
       "      <td>10966</td>\n",
       "      <td>1</td>\n",
       "    </tr>\n",
       "  </tbody>\n",
       "</table>\n",
       "</div>"
      ],
      "text/plain": [
       "                          id  \\\n",
       "count                  34660   \n",
       "unique                    42   \n",
       "top     AVphgVaX1cnluZ0-DR74   \n",
       "freq                   10966   \n",
       "\n",
       "                                             reviews.text  \n",
       "count                                               34659  \n",
       "unique                                              34659  \n",
       "top     Bought this as a gift for someone and they lov...  \n",
       "freq                                                    1  "
      ]
     },
     "execution_count": 7,
     "metadata": {},
     "output_type": "execute_result"
    }
   ],
   "source": [
    "#Exploratives in our Data\n",
    "data.describe(include=[\"O\"])"
   ]
  },
  {
   "cell_type": "markdown",
   "metadata": {},
   "source": [
    "We can see how there are a total of 42 products (from the ID) and for these 42 products, we will have a mix of reviews (positive, neutral or negative)."
   ]
  },
  {
   "cell_type": "code",
   "execution_count": 8,
   "metadata": {},
   "outputs": [
    {
     "name": "stdout",
     "output_type": "stream",
     "text": [
      "<class 'pandas.core.frame.DataFrame'>\n",
      "RangeIndex: 34660 entries, 0 to 34659\n",
      "Data columns (total 3 columns):\n",
      " #   Column          Non-Null Count  Dtype  \n",
      "---  ------          --------------  -----  \n",
      " 0   id              34660 non-null  object \n",
      " 1   reviews.text    34659 non-null  object \n",
      " 2   reviews.rating  34627 non-null  float64\n",
      "dtypes: float64(1), object(2)\n",
      "memory usage: 812.5+ KB\n"
     ]
    }
   ],
   "source": [
    "#Checking for null values via concise reports\n",
    "data.info()"
   ]
  },
  {
   "cell_type": "markdown",
   "metadata": {},
   "source": [
    "We can see how one review.text is missing, hence no analysis can be done on this sample. We can then remove it. Furthermore, there are 33 missing values for the ratings. Due to the low number of missing values in the rating column it is possible to substitute the NaN with the mean of the others or we could simply remove those samples. Since we would have many samples anyway they can be simply removed."
   ]
  },
  {
   "cell_type": "code",
   "execution_count": 9,
   "metadata": {},
   "outputs": [],
   "source": [
    "data = data.dropna()"
   ]
  },
  {
   "cell_type": "markdown",
   "metadata": {},
   "source": [
    "Exploratory Data Analysis: \n",
    "  "
   ]
  },
  {
   "cell_type": "code",
   "execution_count": 10,
   "metadata": {},
   "outputs": [],
   "source": [
    "#creating reviews text file for processing purposes \n",
    "rt = data['reviews.text']\n"
   ]
  },
  {
   "cell_type": "markdown",
   "metadata": {},
   "source": [
    "To understand the average rating of the product , lets count ratings via ids- unique indexes, as products are not clearly defined with unique name identifier \n",
    " "
   ]
  },
  {
   "cell_type": "code",
   "execution_count": 11,
   "metadata": {},
   "outputs": [
    {
     "name": "stderr",
     "output_type": "stream",
     "text": [
      "C:\\Anaconda3\\lib\\site-packages\\seaborn\\_decorators.py:36: FutureWarning: Pass the following variable as a keyword arg: x. From version 0.12, the only valid positional argument will be `data`, and passing other arguments without an explicit keyword will result in an error or misinterpretation.\n",
      "  warnings.warn(\n"
     ]
    },
    {
     "data": {
      "image/png": "[encoded data removed]",
      "text/plain": [
       "<Figure size 720x360 with 1 Axes>"
      ]
     },
     "metadata": {
      "needs_background": "light"
     },
     "output_type": "display_data"
    }
   ],
   "source": [
    "plt.figure(figsize=(10,5))\n",
    "sbn.countplot(data['reviews.rating'])\n",
    "plt.title('Count ratings')\n",
    "plt.show()"
   ]
  },
  {
   "cell_type": "code",
   "execution_count": 12,
   "metadata": {},
   "outputs": [],
   "source": [
    "data1 = data.groupby(\"id\").mean().reset_index()"
   ]
  },
  {
   "cell_type": "code",
   "execution_count": 13,
   "metadata": {},
   "outputs": [],
   "source": [
    "data1 = data1.sort_values(['reviews.rating']).reset_index()"
   ]
  },
  {
   "cell_type": "code",
   "execution_count": 14,
   "metadata": {},
   "outputs": [
    {
     "data": {
      "image/png": "[encoded data removed]",
      "text/plain": [
       "<Figure size 720x576 with 1 Axes>"
      ]
     },
     "metadata": {
      "needs_background": "light"
     },
     "output_type": "display_data"
    }
   ],
   "source": [
    "plt.figure(figsize=(10,8))\n",
    "sbn.barplot(x=data1[\"reviews.rating\"], y=data1[\"id\"])\n",
    "plt.title('Count ratings')\n",
    "plt.show()"
   ]
  },
  {
   "cell_type": "markdown",
   "metadata": {},
   "source": [
    "Frequencies for ratings are skewed for positive values at 4, 5 - evident from distribution plot - From these the data set is class imbalance in nature . \n",
    "Given the nature of the problem, we need to employ solution measures for class imbalance - sampling equal distribution of ratings by populating data or under/over sampling data with equal frequencies of ratings \n",
    "\n",
    " "
   ]
  },
  {
   "cell_type": "code",
   "execution_count": 15,
   "metadata": {},
   "outputs": [],
   "source": [
    "#Using the other two parts of the data set for analysis \n",
    "df2 = pd.read_csv(\"Datafiniti_Amazon_Consumer_Reviews_of_Amazon_Products_May19.csv\")\n",
    "df3 = pd.read_csv(\"Datafiniti_Amazon_Consumer_Reviews_of_Amazon_Products.csv\")"
   ]
  },
  {
   "cell_type": "code",
   "execution_count": 16,
   "metadata": {},
   "outputs": [],
   "source": [
    "#Defining the datasets as data frames and keying in only required column vectors \n",
    "data2 = df2[[\"id\",\"reviews.text\",\"reviews.rating\"]]\n",
    "data3 = df3[[\"id\",\"reviews.text\",\"reviews.rating\"]]"
   ]
  },
  {
   "cell_type": "code",
   "execution_count": 17,
   "metadata": {},
   "outputs": [],
   "source": [
    "#Step to address the class imbalance provlem \n",
    "data2 = data2[data2[\"reviews.rating\"]<=3]\n",
    "data3 = data3[data3[\"reviews.rating\"]<=3]"
   ]
  },
  {
   "cell_type": "code",
   "execution_count": 18,
   "metadata": {},
   "outputs": [],
   "source": [
    "#Merging all the data \n",
    "frames = [data, data2, data3]\n",
    "final = pd.concat(frames)"
   ]
  },
  {
   "cell_type": "code",
   "execution_count": 19,
   "metadata": {},
   "outputs": [
    {
     "name": "stderr",
     "output_type": "stream",
     "text": [
      "C:\\Anaconda3\\lib\\site-packages\\seaborn\\_decorators.py:36: FutureWarning: Pass the following variable as a keyword arg: x. From version 0.12, the only valid positional argument will be `data`, and passing other arguments without an explicit keyword will result in an error or misinterpretation.\n",
      "  warnings.warn(\n"
     ]
    },
    {
     "data": {
      "image/png": "[encoded data removed]",
      "text/plain": [
       "<Figure size 720x360 with 1 Axes>"
      ]
     },
     "metadata": {
      "needs_background": "light"
     },
     "output_type": "display_data"
    }
   ],
   "source": [
    "#Plot to check for frequency of rating for all the data \n",
    "plt.figure(figsize=(10,5))\n",
    "sbn.countplot(final['reviews.rating'])\n",
    "plt.title('Count ratings')\n",
    "plt.show()"
   ]
  },
  {
   "cell_type": "markdown",
   "metadata": {},
   "source": [
    "Even after merging the data, class-imbalance problem still exists. "
   ]
  },
  {
   "cell_type": "code",
   "execution_count": 20,
   "metadata": {},
   "outputs": [
    {
     "data": {
      "text/html": [
       "<div>\n",
       "<style scoped>\n",
       "    .dataframe tbody tr th:only-of-type {\n",
       "        vertical-align: middle;\n",
       "    }\n",
       "\n",
       "    .dataframe tbody tr th {\n",
       "        vertical-align: top;\n",
       "    }\n",
       "\n",
       "    .dataframe thead th {\n",
       "        text-align: right;\n",
       "    }\n",
       "</style>\n",
       "<table border=\"1\" class=\"dataframe\">\n",
       "  <thead>\n",
       "    <tr style=\"text-align: right;\">\n",
       "      <th></th>\n",
       "      <th>id</th>\n",
       "      <th>reviews.text</th>\n",
       "      <th>reviews.rating</th>\n",
       "    </tr>\n",
       "  </thead>\n",
       "  <tbody>\n",
       "    <tr>\n",
       "      <th>0</th>\n",
       "      <td>AVqkIhwDv8e3D1O-lebb</td>\n",
       "      <td>This product so far has not disappointed. My c...</td>\n",
       "      <td>5.0</td>\n",
       "    </tr>\n",
       "    <tr>\n",
       "      <th>1</th>\n",
       "      <td>AVqkIhwDv8e3D1O-lebb</td>\n",
       "      <td>great for beginner or experienced person. Boug...</td>\n",
       "      <td>5.0</td>\n",
       "    </tr>\n",
       "    <tr>\n",
       "      <th>2</th>\n",
       "      <td>AVqkIhwDv8e3D1O-lebb</td>\n",
       "      <td>Inexpensive tablet for him to use and learn on...</td>\n",
       "      <td>5.0</td>\n",
       "    </tr>\n",
       "    <tr>\n",
       "      <th>3</th>\n",
       "      <td>AVqkIhwDv8e3D1O-lebb</td>\n",
       "      <td>I've had my Fire HD 8 two weeks now and I love...</td>\n",
       "      <td>4.0</td>\n",
       "    </tr>\n",
       "    <tr>\n",
       "      <th>4</th>\n",
       "      <td>AVqkIhwDv8e3D1O-lebb</td>\n",
       "      <td>I bought this for my grand daughter when she c...</td>\n",
       "      <td>5.0</td>\n",
       "    </tr>\n",
       "  </tbody>\n",
       "</table>\n",
       "</div>"
      ],
      "text/plain": [
       "                     id                                       reviews.text  \\\n",
       "0  AVqkIhwDv8e3D1O-lebb  This product so far has not disappointed. My c...   \n",
       "1  AVqkIhwDv8e3D1O-lebb  great for beginner or experienced person. Boug...   \n",
       "2  AVqkIhwDv8e3D1O-lebb  Inexpensive tablet for him to use and learn on...   \n",
       "3  AVqkIhwDv8e3D1O-lebb  I've had my Fire HD 8 two weeks now and I love...   \n",
       "4  AVqkIhwDv8e3D1O-lebb  I bought this for my grand daughter when she c...   \n",
       "\n",
       "   reviews.rating  \n",
       "0             5.0  \n",
       "1             5.0  \n",
       "2             5.0  \n",
       "3             4.0  \n",
       "4             5.0  "
      ]
     },
     "execution_count": 20,
     "metadata": {},
     "output_type": "execute_result"
    }
   ],
   "source": [
    "final.head()"
   ]
  },
  {
   "cell_type": "markdown",
   "metadata": {},
   "source": [
    "Problem statement Scope and Topic Modelling:  By the nature of unstructured Textual data, we want to derive insights about sentiments of consumers in terms of product features - authenticity of the product, quality of the product and from consumer standpoint, our support engine should be able to redflag fake reviews. Topic Modelling is a process to automatically identify topics present in a text object and to derive hidden patterns exhibited by a text corpus, thus assisting in better decision making. \n"
   ]
  },
  {
   "cell_type": "code",
   "execution_count": 21,
   "metadata": {},
   "outputs": [
    {
     "name": "stderr",
     "output_type": "stream",
     "text": [
      "[nltk_data] Downloading package stopwords to\n",
      "[nltk_data]     C:\\Users\\admin\\AppData\\Roaming\\nltk_data...\n",
      "[nltk_data]   Package stopwords is already up-to-date!\n"
     ]
    }
   ],
   "source": [
    "#Importing required packages for Topic Modelling\n",
    "import os\n",
    "import nltk\n",
    "from nltk import FreqDist\n",
    "nltk.download('stopwords')\n",
    "import pandas as pd\n",
    "pd.set_option(\"display.max_colwidth\", 200)\n",
    "import numpy as np\n",
    "import json\n",
    "import re\n",
    "import spacy\n",
    "\n",
    "import gensim\n",
    "from gensim import corpora\n",
    "\n",
    "import pyLDAvis\n",
    "import pyLDAvis.gensim_models\n",
    "import matplotlib.pyplot as plt\n",
    "import seaborn as sbn\n",
    "%matplotlib inline"
   ]
  },
  {
   "cell_type": "markdown",
   "metadata": {},
   "source": [
    "#Generating Text Corpus for all the products \n"
   ]
  },
  {
   "cell_type": "code",
   "execution_count": 22,
   "metadata": {},
   "outputs": [
    {
     "name": "stderr",
     "output_type": "stream",
     "text": [
      "C:\\Anaconda3\\lib\\site-packages\\ipykernel\\ipkernel.py:287: DeprecationWarning: `should_run_async` will not call `transform_cell` automatically in the future. Please pass the result to `transformed_cell` argument and any exception that happen during thetransform in `preprocessing_exc_tuple` in IPython 7.17 and above.\n",
      "  and should_run_async(code)\n"
     ]
    },
    {
     "data": {
      "text/html": [
       "<div>\n",
       "<style scoped>\n",
       "    .dataframe tbody tr th:only-of-type {\n",
       "        vertical-align: middle;\n",
       "    }\n",
       "\n",
       "    .dataframe tbody tr th {\n",
       "        vertical-align: top;\n",
       "    }\n",
       "\n",
       "    .dataframe thead th {\n",
       "        text-align: right;\n",
       "    }\n",
       "</style>\n",
       "<table border=\"1\" class=\"dataframe\">\n",
       "  <thead>\n",
       "    <tr style=\"text-align: right;\">\n",
       "      <th></th>\n",
       "      <th>id</th>\n",
       "      <th>reviews.text</th>\n",
       "      <th>reviews.rating</th>\n",
       "    </tr>\n",
       "  </thead>\n",
       "  <tbody>\n",
       "    <tr>\n",
       "      <th>0</th>\n",
       "      <td>AVqkIhwDv8e3D1O-lebb</td>\n",
       "      <td>This product so far has not disappointed. My children love to use it and I like the ability to monitor control what content they see with ease.</td>\n",
       "      <td>5.0</td>\n",
       "    </tr>\n",
       "    <tr>\n",
       "      <th>1</th>\n",
       "      <td>AVqkIhwDv8e3D1O-lebb</td>\n",
       "      <td>great for beginner or experienced person. Bought as a gift and she loves it</td>\n",
       "      <td>5.0</td>\n",
       "    </tr>\n",
       "    <tr>\n",
       "      <th>2</th>\n",
       "      <td>AVqkIhwDv8e3D1O-lebb</td>\n",
       "      <td>Inexpensive tablet for him to use and learn on, step up from the NABI. He was thrilled with it, learn how to Skype on it already...</td>\n",
       "      <td>5.0</td>\n",
       "    </tr>\n",
       "    <tr>\n",
       "      <th>3</th>\n",
       "      <td>AVqkIhwDv8e3D1O-lebb</td>\n",
       "      <td>I've had my Fire HD 8 two weeks now and I love it. This tablet is a great value.We are Prime Members and that is where this tablet SHINES. I love being able to easily access all of the Prime conte...</td>\n",
       "      <td>4.0</td>\n",
       "    </tr>\n",
       "    <tr>\n",
       "      <th>4</th>\n",
       "      <td>AVqkIhwDv8e3D1O-lebb</td>\n",
       "      <td>I bought this for my grand daughter when she comes over to visit. I set it up with her as the user, entered her age and name and now Amazon makes sure that she only accesses sites and content that...</td>\n",
       "      <td>5.0</td>\n",
       "    </tr>\n",
       "  </tbody>\n",
       "</table>\n",
       "</div>"
      ],
      "text/plain": [
       "                     id  \\\n",
       "0  AVqkIhwDv8e3D1O-lebb   \n",
       "1  AVqkIhwDv8e3D1O-lebb   \n",
       "2  AVqkIhwDv8e3D1O-lebb   \n",
       "3  AVqkIhwDv8e3D1O-lebb   \n",
       "4  AVqkIhwDv8e3D1O-lebb   \n",
       "\n",
       "                                                                                                                                                                                              reviews.text  \\\n",
       "0                                                          This product so far has not disappointed. My children love to use it and I like the ability to monitor control what content they see with ease.   \n",
       "1                                                                                                                              great for beginner or experienced person. Bought as a gift and she loves it   \n",
       "2                                                                      Inexpensive tablet for him to use and learn on, step up from the NABI. He was thrilled with it, learn how to Skype on it already...   \n",
       "3  I've had my Fire HD 8 two weeks now and I love it. This tablet is a great value.We are Prime Members and that is where this tablet SHINES. I love being able to easily access all of the Prime conte...   \n",
       "4  I bought this for my grand daughter when she comes over to visit. I set it up with her as the user, entered her age and name and now Amazon makes sure that she only accesses sites and content that...   \n",
       "\n",
       "   reviews.rating  \n",
       "0             5.0  \n",
       "1             5.0  \n",
       "2             5.0  \n",
       "3             4.0  \n",
       "4             5.0  "
      ]
     },
     "execution_count": 22,
     "metadata": {},
     "output_type": "execute_result"
    }
   ],
   "source": [
    "final.head()"
   ]
  },
  {
   "cell_type": "code",
   "execution_count": 23,
   "metadata": {},
   "outputs": [
    {
     "name": "stderr",
     "output_type": "stream",
     "text": [
      "C:\\Anaconda3\\lib\\site-packages\\ipykernel\\ipkernel.py:287: DeprecationWarning: `should_run_async` will not call `transform_cell` automatically in the future. Please pass the result to `transformed_cell` argument and any exception that happen during thetransform in `preprocessing_exc_tuple` in IPython 7.17 and above.\n",
      "  and should_run_async(code)\n"
     ]
    }
   ],
   "source": [
    "# defining a function for frequent words \n",
    "def freq_words(x, terms = 30):\n",
    "  all_words = ' '.join([text for text in x])\n",
    "  all_words = all_words.split()\n",
    "  \n",
    "  fdist = FreqDist(all_words)\n",
    "  words_df = pd.DataFrame({'word':list(fdist.keys()), 'count':list(fdist.values())})\n",
    "  \n",
    "  # selecting top 20 most frequent words\n",
    "  d = words_df.nlargest(columns=\"count\", n = terms) \n",
    "  plt.figure(figsize=(20,5))\n",
    "  ax = sbn.barplot(data=d, x= \"word\", y = \"count\")\n",
    "  ax.set(ylabel = 'Count')\n",
    "  plt.show()\n"
   ]
  },
  {
   "cell_type": "code",
   "execution_count": 24,
   "metadata": {},
   "outputs": [
    {
     "name": "stderr",
     "output_type": "stream",
     "text": [
      "C:\\Anaconda3\\lib\\site-packages\\ipykernel\\ipkernel.py:287: DeprecationWarning: `should_run_async` will not call `transform_cell` automatically in the future. Please pass the result to `transformed_cell` argument and any exception that happen during thetransform in `preprocessing_exc_tuple` in IPython 7.17 and above.\n",
      "  and should_run_async(code)\n"
     ]
    },
    {
     "data": {
      "image/png": "[encoded data removed]",
      "text/plain": [
       "<Figure size 1440x360 with 1 Axes>"
      ]
     },
     "metadata": {
      "needs_background": "light"
     },
     "output_type": "display_data"
    }
   ],
   "source": [
    "freq_words(final['reviews.text'])"
   ]
  },
  {
   "cell_type": "code",
   "execution_count": 25,
   "metadata": {},
   "outputs": [
    {
     "name": "stderr",
     "output_type": "stream",
     "text": [
      "C:\\Anaconda3\\lib\\site-packages\\ipykernel\\ipkernel.py:287: DeprecationWarning: `should_run_async` will not call `transform_cell` automatically in the future. Please pass the result to `transformed_cell` argument and any exception that happen during thetransform in `preprocessing_exc_tuple` in IPython 7.17 and above.\n",
      "  and should_run_async(code)\n",
      "<ipython-input-25-41b081635bea>:5: FutureWarning: The default value of regex will change from True to False in a future version.\n",
      "  final['reviews.text'] = final['reviews.text'].str.replace(\"[^a-zA-Z#]\", \" \")\n"
     ]
    }
   ],
   "source": [
    "# replace \"n't\" with \" not\"\n",
    "final['reviews.text'] = final['reviews.text'].str.replace(\"n\\'t\", \" not\")\n",
    "\n",
    "# remove unwanted characters, numbers and symbols\n",
    "final['reviews.text'] = final['reviews.text'].str.replace(\"[^a-zA-Z#]\", \" \")"
   ]
  },
  {
   "cell_type": "code",
   "execution_count": 26,
   "metadata": {},
   "outputs": [
    {
     "name": "stderr",
     "output_type": "stream",
     "text": [
      "C:\\Anaconda3\\lib\\site-packages\\ipykernel\\ipkernel.py:287: DeprecationWarning: `should_run_async` will not call `transform_cell` automatically in the future. Please pass the result to `transformed_cell` argument and any exception that happen during thetransform in `preprocessing_exc_tuple` in IPython 7.17 and above.\n",
      "  and should_run_async(code)\n"
     ]
    },
    {
     "data": {
      "image/png": "[encoded data removed]",
      "text/plain": [
       "<Figure size 1440x360 with 1 Axes>"
      ]
     },
     "metadata": {
      "needs_background": "light"
     },
     "output_type": "display_data"
    }
   ],
   "source": [
    "freq_words(final['reviews.text'])"
   ]
  },
  {
   "cell_type": "code",
   "execution_count": 27,
   "metadata": {},
   "outputs": [
    {
     "name": "stderr",
     "output_type": "stream",
     "text": [
      "C:\\Anaconda3\\lib\\site-packages\\ipykernel\\ipkernel.py:287: DeprecationWarning: `should_run_async` will not call `transform_cell` automatically in the future. Please pass the result to `transformed_cell` argument and any exception that happen during thetransform in `preprocessing_exc_tuple` in IPython 7.17 and above.\n",
      "  and should_run_async(code)\n"
     ]
    }
   ],
   "source": [
    "from nltk.corpus import stopwords\n",
    "stop_words = stopwords.words('english')"
   ]
  },
  {
   "cell_type": "code",
   "execution_count": 28,
   "metadata": {},
   "outputs": [
    {
     "name": "stderr",
     "output_type": "stream",
     "text": [
      "C:\\Anaconda3\\lib\\site-packages\\ipykernel\\ipkernel.py:287: DeprecationWarning: `should_run_async` will not call `transform_cell` automatically in the future. Please pass the result to `transformed_cell` argument and any exception that happen during thetransform in `preprocessing_exc_tuple` in IPython 7.17 and above.\n",
      "  and should_run_async(code)\n"
     ]
    }
   ],
   "source": [
    "# function to remove stopwords\n",
    "def remove_stopwords(rev):\n",
    "  rev_new = \" \".join([i for i in rev if i not in stop_words])\n",
    "  return rev_new"
   ]
  },
  {
   "cell_type": "code",
   "execution_count": 29,
   "metadata": {},
   "outputs": [
    {
     "name": "stderr",
     "output_type": "stream",
     "text": [
      "C:\\Anaconda3\\lib\\site-packages\\ipykernel\\ipkernel.py:287: DeprecationWarning: `should_run_async` will not call `transform_cell` automatically in the future. Please pass the result to `transformed_cell` argument and any exception that happen during thetransform in `preprocessing_exc_tuple` in IPython 7.17 and above.\n",
      "  and should_run_async(code)\n"
     ]
    }
   ],
   "source": [
    "# remove short words (length < 3)\n",
    "final['reviews.text'] = final['reviews.text'].apply(lambda x: ' '.join([w for w in x.split() if len(w)>2]))\n",
    "\n",
    "# remove stopwords from the text\n",
    "reviews = [remove_stopwords(r.split()) for r in final['reviews.text']]\n",
    "\n",
    "# make entire text lowercase\n",
    "reviews = [r.lower() for r in reviews]"
   ]
  },
  {
   "cell_type": "code",
   "execution_count": 30,
   "metadata": {},
   "outputs": [
    {
     "name": "stderr",
     "output_type": "stream",
     "text": [
      "C:\\Anaconda3\\lib\\site-packages\\ipykernel\\ipkernel.py:287: DeprecationWarning: `should_run_async` will not call `transform_cell` automatically in the future. Please pass the result to `transformed_cell` argument and any exception that happen during thetransform in `preprocessing_exc_tuple` in IPython 7.17 and above.\n",
      "  and should_run_async(code)\n"
     ]
    },
    {
     "data": {
      "image/png": "[encoded data removed]",
      "text/plain": [
       "<Figure size 1440x360 with 1 Axes>"
      ]
     },
     "metadata": {
      "needs_background": "light"
     },
     "output_type": "display_data"
    }
   ],
   "source": [
    "freq_words(reviews, 35)"
   ]
  },
  {
   "cell_type": "markdown",
   "metadata": {},
   "source": [
    "Sentiment Analysis - \n",
    "Steo-1 : Assigning classes for sentiments \n",
    "Step-2 : Pre-processing Text "
   ]
  },
  {
   "cell_type": "code",
   "execution_count": 31,
   "metadata": {},
   "outputs": [
    {
     "name": "stderr",
     "output_type": "stream",
     "text": [
      "C:\\Anaconda3\\lib\\site-packages\\ipykernel\\ipkernel.py:287: DeprecationWarning: `should_run_async` will not call `transform_cell` automatically in the future. Please pass the result to `transformed_cell` argument and any exception that happen during thetransform in `preprocessing_exc_tuple` in IPython 7.17 and above.\n",
      "  and should_run_async(code)\n"
     ]
    }
   ],
   "source": [
    "#lower case all text\n",
    "final[\"reviews.text\"]=final[\"reviews.text\"].str.lower() \n",
    "\n",
    "#tokenization of words\n",
    "final['reviews.text'] = final.apply(lambda row: word_tokenize(row['reviews.text']), axis=1) \n",
    "\n",
    "#only alphanumerical values\n",
    "final[\"reviews.text\"] = final['reviews.text'].apply(lambda x: [item for item in x if item.isalpha()]) \n",
    "\n",
    "#lemmatazing words\n",
    "final['reviews.text'] = final['reviews.text'].apply(lambda x : [WordNetLemmatizer().lemmatize(y) for y in x])\n",
    "\n",
    "#removing useless words\n",
    "stop = stopwords.words('english')\n",
    "final['reviews.text'] = final['reviews.text'].apply(lambda x: [item for item in x if item not in stop])"
   ]
  },
  {
   "cell_type": "code",
   "execution_count": 32,
   "metadata": {},
   "outputs": [
    {
     "name": "stderr",
     "output_type": "stream",
     "text": [
      "C:\\Anaconda3\\lib\\site-packages\\ipykernel\\ipkernel.py:287: DeprecationWarning: `should_run_async` will not call `transform_cell` automatically in the future. Please pass the result to `transformed_cell` argument and any exception that happen during thetransform in `preprocessing_exc_tuple` in IPython 7.17 and above.\n",
      "  and should_run_async(code)\n"
     ]
    }
   ],
   "source": [
    "#joining all tokens\n",
    "final[\"reviews.text\"] = final[\"reviews.text\"].apply(lambda x: str(' '.join(x))) "
   ]
  },
  {
   "cell_type": "code",
   "execution_count": 33,
   "metadata": {},
   "outputs": [
    {
     "name": "stderr",
     "output_type": "stream",
     "text": [
      "C:\\Anaconda3\\lib\\site-packages\\ipykernel\\ipkernel.py:287: DeprecationWarning: `should_run_async` will not call `transform_cell` automatically in the future. Please pass the result to `transformed_cell` argument and any exception that happen during thetransform in `preprocessing_exc_tuple` in IPython 7.17 and above.\n",
      "  and should_run_async(code)\n"
     ]
    },
    {
     "data": {
      "text/html": [
       "<div>\n",
       "<style scoped>\n",
       "    .dataframe tbody tr th:only-of-type {\n",
       "        vertical-align: middle;\n",
       "    }\n",
       "\n",
       "    .dataframe tbody tr th {\n",
       "        vertical-align: top;\n",
       "    }\n",
       "\n",
       "    .dataframe thead th {\n",
       "        text-align: right;\n",
       "    }\n",
       "</style>\n",
       "<table border=\"1\" class=\"dataframe\">\n",
       "  <thead>\n",
       "    <tr style=\"text-align: right;\">\n",
       "      <th></th>\n",
       "      <th>id</th>\n",
       "      <th>reviews.text</th>\n",
       "      <th>reviews.rating</th>\n",
       "    </tr>\n",
       "  </thead>\n",
       "  <tbody>\n",
       "    <tr>\n",
       "      <th>0</th>\n",
       "      <td>AVqkIhwDv8e3D1O-lebb</td>\n",
       "      <td>product far ha disappointed child love use like ability monitor control content see ease</td>\n",
       "      <td>5.0</td>\n",
       "    </tr>\n",
       "    <tr>\n",
       "      <th>1</th>\n",
       "      <td>AVqkIhwDv8e3D1O-lebb</td>\n",
       "      <td>great beginner experienced person bought gift love</td>\n",
       "      <td>5.0</td>\n",
       "    </tr>\n",
       "    <tr>\n",
       "      <th>2</th>\n",
       "      <td>AVqkIhwDv8e3D1O-lebb</td>\n",
       "      <td>inexpensive tablet use learn step nabi wa thrilled learn skype already</td>\n",
       "      <td>5.0</td>\n",
       "    </tr>\n",
       "    <tr>\n",
       "      <th>3</th>\n",
       "      <td>AVqkIhwDv8e3D1O-lebb</td>\n",
       "      <td>fire two week love tablet great value prime member tablet shine love able easily access prime content well movie download watch laterthis ha screen ha really nice look nice crisp bright infact bri...</td>\n",
       "      <td>4.0</td>\n",
       "    </tr>\n",
       "    <tr>\n",
       "      <th>4</th>\n",
       "      <td>AVqkIhwDv8e3D1O-lebb</td>\n",
       "      <td>bought grand daughter come visit set user entered age name amazon make sure access site content appropriate age simple love capability also bought installed gig card give little tablet plenty stor...</td>\n",
       "      <td>5.0</td>\n",
       "    </tr>\n",
       "  </tbody>\n",
       "</table>\n",
       "</div>"
      ],
      "text/plain": [
       "                     id  \\\n",
       "0  AVqkIhwDv8e3D1O-lebb   \n",
       "1  AVqkIhwDv8e3D1O-lebb   \n",
       "2  AVqkIhwDv8e3D1O-lebb   \n",
       "3  AVqkIhwDv8e3D1O-lebb   \n",
       "4  AVqkIhwDv8e3D1O-lebb   \n",
       "\n",
       "                                                                                                                                                                                              reviews.text  \\\n",
       "0                                                                                                                 product far ha disappointed child love use like ability monitor control content see ease   \n",
       "1                                                                                                                                                       great beginner experienced person bought gift love   \n",
       "2                                                                                                                                   inexpensive tablet use learn step nabi wa thrilled learn skype already   \n",
       "3  fire two week love tablet great value prime member tablet shine love able easily access prime content well movie download watch laterthis ha screen ha really nice look nice crisp bright infact bri...   \n",
       "4  bought grand daughter come visit set user entered age name amazon make sure access site content appropriate age simple love capability also bought installed gig card give little tablet plenty stor...   \n",
       "\n",
       "   reviews.rating  \n",
       "0             5.0  \n",
       "1             5.0  \n",
       "2             5.0  \n",
       "3             4.0  \n",
       "4             5.0  "
      ]
     },
     "execution_count": 33,
     "metadata": {},
     "output_type": "execute_result"
    }
   ],
   "source": [
    "#Preview after previous function \n",
    "final.head()"
   ]
  },
  {
   "cell_type": "code",
   "execution_count": 34,
   "metadata": {},
   "outputs": [
    {
     "name": "stderr",
     "output_type": "stream",
     "text": [
      "C:\\Anaconda3\\lib\\site-packages\\ipykernel\\ipkernel.py:287: DeprecationWarning: `should_run_async` will not call `transform_cell` automatically in the future. Please pass the result to `transformed_cell` argument and any exception that happen during thetransform in `preprocessing_exc_tuple` in IPython 7.17 and above.\n",
      "  and should_run_async(code)\n"
     ]
    }
   ],
   "source": [
    "#Defining sentiments and assigning classes \n",
    "sentiment = {1: 0,\n",
    "            2: 0,\n",
    "            3: 0,\n",
    "            4: 1,\n",
    "            5: 1}\n",
    "\n",
    "final[\"sentiment\"] = final[\"reviews.rating\"].map(sentiment)"
   ]
  },
  {
   "cell_type": "code",
   "execution_count": 35,
   "metadata": {},
   "outputs": [
    {
     "name": "stderr",
     "output_type": "stream",
     "text": [
      "C:\\Anaconda3\\lib\\site-packages\\ipykernel\\ipkernel.py:287: DeprecationWarning: `should_run_async` will not call `transform_cell` automatically in the future. Please pass the result to `transformed_cell` argument and any exception that happen during thetransform in `preprocessing_exc_tuple` in IPython 7.17 and above.\n",
      "  and should_run_async(code)\n"
     ]
    },
    {
     "data": {
      "text/html": [
       "<div>\n",
       "<style scoped>\n",
       "    .dataframe tbody tr th:only-of-type {\n",
       "        vertical-align: middle;\n",
       "    }\n",
       "\n",
       "    .dataframe tbody tr th {\n",
       "        vertical-align: top;\n",
       "    }\n",
       "\n",
       "    .dataframe thead th {\n",
       "        text-align: right;\n",
       "    }\n",
       "</style>\n",
       "<table border=\"1\" class=\"dataframe\">\n",
       "  <thead>\n",
       "    <tr style=\"text-align: right;\">\n",
       "      <th></th>\n",
       "      <th>id</th>\n",
       "      <th>reviews.text</th>\n",
       "      <th>reviews.rating</th>\n",
       "      <th>sentiment</th>\n",
       "    </tr>\n",
       "  </thead>\n",
       "  <tbody>\n",
       "    <tr>\n",
       "      <th>0</th>\n",
       "      <td>AVqkIhwDv8e3D1O-lebb</td>\n",
       "      <td>product far ha disappointed child love use like ability monitor control content see ease</td>\n",
       "      <td>5.0</td>\n",
       "      <td>1</td>\n",
       "    </tr>\n",
       "    <tr>\n",
       "      <th>1</th>\n",
       "      <td>AVqkIhwDv8e3D1O-lebb</td>\n",
       "      <td>great beginner experienced person bought gift love</td>\n",
       "      <td>5.0</td>\n",
       "      <td>1</td>\n",
       "    </tr>\n",
       "    <tr>\n",
       "      <th>2</th>\n",
       "      <td>AVqkIhwDv8e3D1O-lebb</td>\n",
       "      <td>inexpensive tablet use learn step nabi wa thrilled learn skype already</td>\n",
       "      <td>5.0</td>\n",
       "      <td>1</td>\n",
       "    </tr>\n",
       "    <tr>\n",
       "      <th>3</th>\n",
       "      <td>AVqkIhwDv8e3D1O-lebb</td>\n",
       "      <td>fire two week love tablet great value prime member tablet shine love able easily access prime content well movie download watch laterthis ha screen ha really nice look nice crisp bright infact bri...</td>\n",
       "      <td>4.0</td>\n",
       "      <td>1</td>\n",
       "    </tr>\n",
       "    <tr>\n",
       "      <th>4</th>\n",
       "      <td>AVqkIhwDv8e3D1O-lebb</td>\n",
       "      <td>bought grand daughter come visit set user entered age name amazon make sure access site content appropriate age simple love capability also bought installed gig card give little tablet plenty stor...</td>\n",
       "      <td>5.0</td>\n",
       "      <td>1</td>\n",
       "    </tr>\n",
       "  </tbody>\n",
       "</table>\n",
       "</div>"
      ],
      "text/plain": [
       "                     id  \\\n",
       "0  AVqkIhwDv8e3D1O-lebb   \n",
       "1  AVqkIhwDv8e3D1O-lebb   \n",
       "2  AVqkIhwDv8e3D1O-lebb   \n",
       "3  AVqkIhwDv8e3D1O-lebb   \n",
       "4  AVqkIhwDv8e3D1O-lebb   \n",
       "\n",
       "                                                                                                                                                                                              reviews.text  \\\n",
       "0                                                                                                                 product far ha disappointed child love use like ability monitor control content see ease   \n",
       "1                                                                                                                                                       great beginner experienced person bought gift love   \n",
       "2                                                                                                                                   inexpensive tablet use learn step nabi wa thrilled learn skype already   \n",
       "3  fire two week love tablet great value prime member tablet shine love able easily access prime content well movie download watch laterthis ha screen ha really nice look nice crisp bright infact bri...   \n",
       "4  bought grand daughter come visit set user entered age name amazon make sure access site content appropriate age simple love capability also bought installed gig card give little tablet plenty stor...   \n",
       "\n",
       "   reviews.rating  sentiment  \n",
       "0             5.0          1  \n",
       "1             5.0          1  \n",
       "2             5.0          1  \n",
       "3             4.0          1  \n",
       "4             5.0          1  "
      ]
     },
     "execution_count": 35,
     "metadata": {},
     "output_type": "execute_result"
    }
   ],
   "source": [
    "#Checking sentiment assignments \n",
    "final.head()"
   ]
  },
  {
   "cell_type": "code",
   "execution_count": 36,
   "metadata": {},
   "outputs": [
    {
     "name": "stderr",
     "output_type": "stream",
     "text": [
      "C:\\Anaconda3\\lib\\site-packages\\ipykernel\\ipkernel.py:287: DeprecationWarning: `should_run_async` will not call `transform_cell` automatically in the future. Please pass the result to `transformed_cell` argument and any exception that happen during thetransform in `preprocessing_exc_tuple` in IPython 7.17 and above.\n",
      "  and should_run_async(code)\n"
     ]
    },
    {
     "data": {
      "text/plain": [
       "(5412, 32315)"
      ]
     },
     "execution_count": 36,
     "metadata": {},
     "output_type": "execute_result"
    }
   ],
   "source": [
    "#Checking for sentiment frequency - Negative Vs Positive \n",
    "len(final[final[\"sentiment\"]==0]),len(final[final[\"sentiment\"]==1])"
   ]
  },
  {
   "cell_type": "code",
   "execution_count": 37,
   "metadata": {},
   "outputs": [
    {
     "name": "stderr",
     "output_type": "stream",
     "text": [
      "C:\\Anaconda3\\lib\\site-packages\\ipykernel\\ipkernel.py:287: DeprecationWarning: `should_run_async` will not call `transform_cell` automatically in the future. Please pass the result to `transformed_cell` argument and any exception that happen during thetransform in `preprocessing_exc_tuple` in IPython 7.17 and above.\n",
      "  and should_run_async(code)\n"
     ]
    }
   ],
   "source": [
    "#Pre-processing\n",
    "# building tfidf matrix to train models \n",
    "from sklearn.feature_extraction.text import TfidfVectorizer\n",
    "\n",
    "vectorizer =TfidfVectorizer(max_df=0.9)\n",
    "text = vectorizer.fit_transform(final[\"reviews.text\"])"
   ]
  },
  {
   "cell_type": "code",
   "execution_count": 38,
   "metadata": {},
   "outputs": [
    {
     "name": "stderr",
     "output_type": "stream",
     "text": [
      "C:\\Anaconda3\\lib\\site-packages\\ipykernel\\ipkernel.py:287: DeprecationWarning: `should_run_async` will not call `transform_cell` automatically in the future. Please pass the result to `transformed_cell` argument and any exception that happen during thetransform in `preprocessing_exc_tuple` in IPython 7.17 and above.\n",
      "  and should_run_async(code)\n"
     ]
    }
   ],
   "source": [
    "#Model Building\n",
    "\n",
    "from sklearn.model_selection import train_test_split\n",
    "\n",
    "x_train, x_test, y_train, y_test = train_test_split(text, final[\"sentiment\"], test_size=0.3, random_state=1)"
   ]
  },
  {
   "cell_type": "code",
   "execution_count": 39,
   "metadata": {},
   "outputs": [
    {
     "name": "stderr",
     "output_type": "stream",
     "text": [
      "C:\\Anaconda3\\lib\\site-packages\\ipykernel\\ipkernel.py:287: DeprecationWarning: `should_run_async` will not call `transform_cell` automatically in the future. Please pass the result to `transformed_cell` argument and any exception that happen during thetransform in `preprocessing_exc_tuple` in IPython 7.17 and above.\n",
      "  and should_run_async(code)\n",
      "C:\\Users\\admin\\AppData\\Roaming\\Python\\Python38\\site-packages\\scipy\\optimize\\lbfgsb.py:339: DeprecationWarning: tostring() is deprecated. Use tobytes() instead.\n",
      "  task_str = task.tostring()\n",
      "C:\\Users\\admin\\AppData\\Roaming\\Python\\Python38\\site-packages\\scipy\\optimize\\lbfgsb.py:339: DeprecationWarning: tostring() is deprecated. Use tobytes() instead.\n",
      "  task_str = task.tostring()\n",
      "C:\\Users\\admin\\AppData\\Roaming\\Python\\Python38\\site-packages\\scipy\\optimize\\lbfgsb.py:339: DeprecationWarning: tostring() is deprecated. Use tobytes() instead.\n",
      "  task_str = task.tostring()\n",
      "C:\\Users\\admin\\AppData\\Roaming\\Python\\Python38\\site-packages\\scipy\\optimize\\lbfgsb.py:339: DeprecationWarning: tostring() is deprecated. Use tobytes() instead.\n",
      "  task_str = task.tostring()\n",
      "C:\\Users\\admin\\AppData\\Roaming\\Python\\Python38\\site-packages\\scipy\\optimize\\lbfgsb.py:339: DeprecationWarning: tostring() is deprecated. Use tobytes() instead.\n",
      "  task_str = task.tostring()\n",
      "C:\\Users\\admin\\AppData\\Roaming\\Python\\Python38\\site-packages\\scipy\\optimize\\lbfgsb.py:339: DeprecationWarning: tostring() is deprecated. Use tobytes() instead.\n",
      "  task_str = task.tostring()\n",
      "C:\\Users\\admin\\AppData\\Roaming\\Python\\Python38\\site-packages\\scipy\\optimize\\lbfgsb.py:339: DeprecationWarning: tostring() is deprecated. Use tobytes() instead.\n",
      "  task_str = task.tostring()\n",
      "C:\\Users\\admin\\AppData\\Roaming\\Python\\Python38\\site-packages\\scipy\\optimize\\lbfgsb.py:339: DeprecationWarning: tostring() is deprecated. Use tobytes() instead.\n",
      "  task_str = task.tostring()\n",
      "C:\\Users\\admin\\AppData\\Roaming\\Python\\Python38\\site-packages\\scipy\\optimize\\lbfgsb.py:339: DeprecationWarning: tostring() is deprecated. Use tobytes() instead.\n",
      "  task_str = task.tostring()\n",
      "C:\\Users\\admin\\AppData\\Roaming\\Python\\Python38\\site-packages\\scipy\\optimize\\lbfgsb.py:339: DeprecationWarning: tostring() is deprecated. Use tobytes() instead.\n",
      "  task_str = task.tostring()\n",
      "C:\\Users\\admin\\AppData\\Roaming\\Python\\Python38\\site-packages\\scipy\\optimize\\lbfgsb.py:339: DeprecationWarning: tostring() is deprecated. Use tobytes() instead.\n",
      "  task_str = task.tostring()\n",
      "C:\\Users\\admin\\AppData\\Roaming\\Python\\Python38\\site-packages\\scipy\\optimize\\lbfgsb.py:339: DeprecationWarning: tostring() is deprecated. Use tobytes() instead.\n",
      "  task_str = task.tostring()\n",
      "C:\\Users\\admin\\AppData\\Roaming\\Python\\Python38\\site-packages\\scipy\\optimize\\lbfgsb.py:339: DeprecationWarning: tostring() is deprecated. Use tobytes() instead.\n",
      "  task_str = task.tostring()\n",
      "C:\\Users\\admin\\AppData\\Roaming\\Python\\Python38\\site-packages\\scipy\\optimize\\lbfgsb.py:339: DeprecationWarning: tostring() is deprecated. Use tobytes() instead.\n",
      "  task_str = task.tostring()\n",
      "C:\\Users\\admin\\AppData\\Roaming\\Python\\Python38\\site-packages\\scipy\\optimize\\lbfgsb.py:339: DeprecationWarning: tostring() is deprecated. Use tobytes() instead.\n",
      "  task_str = task.tostring()\n",
      "C:\\Users\\admin\\AppData\\Roaming\\Python\\Python38\\site-packages\\scipy\\optimize\\lbfgsb.py:339: DeprecationWarning: tostring() is deprecated. Use tobytes() instead.\n",
      "  task_str = task.tostring()\n",
      "C:\\Users\\admin\\AppData\\Roaming\\Python\\Python38\\site-packages\\scipy\\optimize\\lbfgsb.py:339: DeprecationWarning: tostring() is deprecated. Use tobytes() instead.\n",
      "  task_str = task.tostring()\n",
      "C:\\Users\\admin\\AppData\\Roaming\\Python\\Python38\\site-packages\\scipy\\optimize\\lbfgsb.py:339: DeprecationWarning: tostring() is deprecated. Use tobytes() instead.\n",
      "  task_str = task.tostring()\n",
      "C:\\Users\\admin\\AppData\\Roaming\\Python\\Python38\\site-packages\\scipy\\optimize\\lbfgsb.py:339: DeprecationWarning: tostring() is deprecated. Use tobytes() instead.\n",
      "  task_str = task.tostring()\n",
      "C:\\Users\\admin\\AppData\\Roaming\\Python\\Python38\\site-packages\\scipy\\optimize\\lbfgsb.py:339: DeprecationWarning: tostring() is deprecated. Use tobytes() instead.\n",
      "  task_str = task.tostring()\n",
      "C:\\Users\\admin\\AppData\\Roaming\\Python\\Python38\\site-packages\\scipy\\optimize\\lbfgsb.py:339: DeprecationWarning: tostring() is deprecated. Use tobytes() instead.\n",
      "  task_str = task.tostring()\n",
      "C:\\Users\\admin\\AppData\\Roaming\\Python\\Python38\\site-packages\\scipy\\optimize\\lbfgsb.py:339: DeprecationWarning: tostring() is deprecated. Use tobytes() instead.\n",
      "  task_str = task.tostring()\n",
      "C:\\Users\\admin\\AppData\\Roaming\\Python\\Python38\\site-packages\\scipy\\optimize\\lbfgsb.py:339: DeprecationWarning: tostring() is deprecated. Use tobytes() instead.\n",
      "  task_str = task.tostring()\n",
      "C:\\Users\\admin\\AppData\\Roaming\\Python\\Python38\\site-packages\\scipy\\optimize\\lbfgsb.py:339: DeprecationWarning: tostring() is deprecated. Use tobytes() instead.\n",
      "  task_str = task.tostring()\n",
      "C:\\Users\\admin\\AppData\\Roaming\\Python\\Python38\\site-packages\\scipy\\optimize\\lbfgsb.py:339: DeprecationWarning: tostring() is deprecated. Use tobytes() instead.\n",
      "  task_str = task.tostring()\n",
      "C:\\Users\\admin\\AppData\\Roaming\\Python\\Python38\\site-packages\\scipy\\optimize\\lbfgsb.py:339: DeprecationWarning: tostring() is deprecated. Use tobytes() instead.\n",
      "  task_str = task.tostring()\n",
      "C:\\Users\\admin\\AppData\\Roaming\\Python\\Python38\\site-packages\\scipy\\optimize\\lbfgsb.py:339: DeprecationWarning: tostring() is deprecated. Use tobytes() instead.\n",
      "  task_str = task.tostring()\n",
      "C:\\Users\\admin\\AppData\\Roaming\\Python\\Python38\\site-packages\\scipy\\optimize\\lbfgsb.py:339: DeprecationWarning: tostring() is deprecated. Use tobytes() instead.\n",
      "  task_str = task.tostring()\n",
      "C:\\Users\\admin\\AppData\\Roaming\\Python\\Python38\\site-packages\\scipy\\optimize\\lbfgsb.py:339: DeprecationWarning: tostring() is deprecated. Use tobytes() instead.\n",
      "  task_str = task.tostring()\n",
      "C:\\Users\\admin\\AppData\\Roaming\\Python\\Python38\\site-packages\\scipy\\optimize\\lbfgsb.py:339: DeprecationWarning: tostring() is deprecated. Use tobytes() instead.\n",
      "  task_str = task.tostring()\n",
      "C:\\Users\\admin\\AppData\\Roaming\\Python\\Python38\\site-packages\\scipy\\optimize\\lbfgsb.py:339: DeprecationWarning: tostring() is deprecated. Use tobytes() instead.\n",
      "  task_str = task.tostring()\n",
      "C:\\Users\\admin\\AppData\\Roaming\\Python\\Python38\\site-packages\\scipy\\optimize\\lbfgsb.py:339: DeprecationWarning: tostring() is deprecated. Use tobytes() instead.\n",
      "  task_str = task.tostring()\n",
      "C:\\Users\\admin\\AppData\\Roaming\\Python\\Python38\\site-packages\\scipy\\optimize\\lbfgsb.py:339: DeprecationWarning: tostring() is deprecated. Use tobytes() instead.\n",
      "  task_str = task.tostring()\n",
      "C:\\Users\\admin\\AppData\\Roaming\\Python\\Python38\\site-packages\\scipy\\optimize\\lbfgsb.py:339: DeprecationWarning: tostring() is deprecated. Use tobytes() instead.\n",
      "  task_str = task.tostring()\n",
      "C:\\Users\\admin\\AppData\\Roaming\\Python\\Python38\\site-packages\\scipy\\optimize\\lbfgsb.py:339: DeprecationWarning: tostring() is deprecated. Use tobytes() instead.\n",
      "  task_str = task.tostring()\n",
      "C:\\Users\\admin\\AppData\\Roaming\\Python\\Python38\\site-packages\\scipy\\optimize\\lbfgsb.py:339: DeprecationWarning: tostring() is deprecated. Use tobytes() instead.\n",
      "  task_str = task.tostring()\n",
      "C:\\Users\\admin\\AppData\\Roaming\\Python\\Python38\\site-packages\\scipy\\optimize\\lbfgsb.py:339: DeprecationWarning: tostring() is deprecated. Use tobytes() instead.\n",
      "  task_str = task.tostring()\n",
      "C:\\Users\\admin\\AppData\\Roaming\\Python\\Python38\\site-packages\\scipy\\optimize\\lbfgsb.py:339: DeprecationWarning: tostring() is deprecated. Use tobytes() instead.\n",
      "  task_str = task.tostring()\n",
      "C:\\Users\\admin\\AppData\\Roaming\\Python\\Python38\\site-packages\\scipy\\optimize\\lbfgsb.py:339: DeprecationWarning: tostring() is deprecated. Use tobytes() instead.\n",
      "  task_str = task.tostring()\n",
      "C:\\Users\\admin\\AppData\\Roaming\\Python\\Python38\\site-packages\\scipy\\optimize\\lbfgsb.py:339: DeprecationWarning: tostring() is deprecated. Use tobytes() instead.\n",
      "  task_str = task.tostring()\n",
      "C:\\Users\\admin\\AppData\\Roaming\\Python\\Python38\\site-packages\\scipy\\optimize\\lbfgsb.py:339: DeprecationWarning: tostring() is deprecated. Use tobytes() instead.\n",
      "  task_str = task.tostring()\n",
      "C:\\Users\\admin\\AppData\\Roaming\\Python\\Python38\\site-packages\\scipy\\optimize\\lbfgsb.py:339: DeprecationWarning: tostring() is deprecated. Use tobytes() instead.\n",
      "  task_str = task.tostring()\n",
      "C:\\Users\\admin\\AppData\\Roaming\\Python\\Python38\\site-packages\\scipy\\optimize\\lbfgsb.py:339: DeprecationWarning: tostring() is deprecated. Use tobytes() instead.\n",
      "  task_str = task.tostring()\n",
      "C:\\Users\\admin\\AppData\\Roaming\\Python\\Python38\\site-packages\\scipy\\optimize\\lbfgsb.py:339: DeprecationWarning: tostring() is deprecated. Use tobytes() instead.\n",
      "  task_str = task.tostring()\n",
      "C:\\Users\\admin\\AppData\\Roaming\\Python\\Python38\\site-packages\\scipy\\optimize\\lbfgsb.py:339: DeprecationWarning: tostring() is deprecated. Use tobytes() instead.\n",
      "  task_str = task.tostring()\n",
      "C:\\Users\\admin\\AppData\\Roaming\\Python\\Python38\\site-packages\\scipy\\optimize\\lbfgsb.py:339: DeprecationWarning: tostring() is deprecated. Use tobytes() instead.\n",
      "  task_str = task.tostring()\n",
      "C:\\Users\\admin\\AppData\\Roaming\\Python\\Python38\\site-packages\\scipy\\optimize\\lbfgsb.py:339: DeprecationWarning: tostring() is deprecated. Use tobytes() instead.\n",
      "  task_str = task.tostring()\n",
      "C:\\Users\\admin\\AppData\\Roaming\\Python\\Python38\\site-packages\\scipy\\optimize\\lbfgsb.py:339: DeprecationWarning: tostring() is deprecated. Use tobytes() instead.\n",
      "  task_str = task.tostring()\n",
      "C:\\Users\\admin\\AppData\\Roaming\\Python\\Python38\\site-packages\\scipy\\optimize\\lbfgsb.py:339: DeprecationWarning: tostring() is deprecated. Use tobytes() instead.\n",
      "  task_str = task.tostring()\n",
      "C:\\Users\\admin\\AppData\\Roaming\\Python\\Python38\\site-packages\\scipy\\optimize\\lbfgsb.py:339: DeprecationWarning: tostring() is deprecated. Use tobytes() instead.\n",
      "  task_str = task.tostring()\n",
      "C:\\Users\\admin\\AppData\\Roaming\\Python\\Python38\\site-packages\\scipy\\optimize\\lbfgsb.py:339: DeprecationWarning: tostring() is deprecated. Use tobytes() instead.\n",
      "  task_str = task.tostring()\n",
      "C:\\Users\\admin\\AppData\\Roaming\\Python\\Python38\\site-packages\\scipy\\optimize\\lbfgsb.py:339: DeprecationWarning: tostring() is deprecated. Use tobytes() instead.\n",
      "  task_str = task.tostring()\n",
      "C:\\Users\\admin\\AppData\\Roaming\\Python\\Python38\\site-packages\\scipy\\optimize\\lbfgsb.py:339: DeprecationWarning: tostring() is deprecated. Use tobytes() instead.\n",
      "  task_str = task.tostring()\n",
      "C:\\Users\\admin\\AppData\\Roaming\\Python\\Python38\\site-packages\\scipy\\optimize\\lbfgsb.py:339: DeprecationWarning: tostring() is deprecated. Use tobytes() instead.\n",
      "  task_str = task.tostring()\n",
      "C:\\Users\\admin\\AppData\\Roaming\\Python\\Python38\\site-packages\\scipy\\optimize\\lbfgsb.py:339: DeprecationWarning: tostring() is deprecated. Use tobytes() instead.\n",
      "  task_str = task.tostring()\n",
      "C:\\Users\\admin\\AppData\\Roaming\\Python\\Python38\\site-packages\\scipy\\optimize\\lbfgsb.py:339: DeprecationWarning: tostring() is deprecated. Use tobytes() instead.\n",
      "  task_str = task.tostring()\n",
      "C:\\Users\\admin\\AppData\\Roaming\\Python\\Python38\\site-packages\\scipy\\optimize\\lbfgsb.py:339: DeprecationWarning: tostring() is deprecated. Use tobytes() instead.\n",
      "  task_str = task.tostring()\n",
      "C:\\Users\\admin\\AppData\\Roaming\\Python\\Python38\\site-packages\\scipy\\optimize\\lbfgsb.py:339: DeprecationWarning: tostring() is deprecated. Use tobytes() instead.\n",
      "  task_str = task.tostring()\n",
      "C:\\Users\\admin\\AppData\\Roaming\\Python\\Python38\\site-packages\\scipy\\optimize\\lbfgsb.py:339: DeprecationWarning: tostring() is deprecated. Use tobytes() instead.\n",
      "  task_str = task.tostring()\n",
      "C:\\Users\\admin\\AppData\\Roaming\\Python\\Python38\\site-packages\\scipy\\optimize\\lbfgsb.py:339: DeprecationWarning: tostring() is deprecated. Use tobytes() instead.\n",
      "  task_str = task.tostring()\n",
      "C:\\Users\\admin\\AppData\\Roaming\\Python\\Python38\\site-packages\\scipy\\optimize\\lbfgsb.py:339: DeprecationWarning: tostring() is deprecated. Use tobytes() instead.\n",
      "  task_str = task.tostring()\n",
      "C:\\Users\\admin\\AppData\\Roaming\\Python\\Python38\\site-packages\\scipy\\optimize\\lbfgsb.py:339: DeprecationWarning: tostring() is deprecated. Use tobytes() instead.\n",
      "  task_str = task.tostring()\n",
      "C:\\Users\\admin\\AppData\\Roaming\\Python\\Python38\\site-packages\\scipy\\optimize\\lbfgsb.py:339: DeprecationWarning: tostring() is deprecated. Use tobytes() instead.\n",
      "  task_str = task.tostring()\n",
      "C:\\Users\\admin\\AppData\\Roaming\\Python\\Python38\\site-packages\\scipy\\optimize\\lbfgsb.py:339: DeprecationWarning: tostring() is deprecated. Use tobytes() instead.\n",
      "  task_str = task.tostring()\n",
      "C:\\Users\\admin\\AppData\\Roaming\\Python\\Python38\\site-packages\\scipy\\optimize\\lbfgsb.py:339: DeprecationWarning: tostring() is deprecated. Use tobytes() instead.\n",
      "  task_str = task.tostring()\n",
      "C:\\Users\\admin\\AppData\\Roaming\\Python\\Python38\\site-packages\\scipy\\optimize\\lbfgsb.py:339: DeprecationWarning: tostring() is deprecated. Use tobytes() instead.\n",
      "  task_str = task.tostring()\n",
      "C:\\Users\\admin\\AppData\\Roaming\\Python\\Python38\\site-packages\\scipy\\optimize\\lbfgsb.py:339: DeprecationWarning: tostring() is deprecated. Use tobytes() instead.\n",
      "  task_str = task.tostring()\n",
      "C:\\Users\\admin\\AppData\\Roaming\\Python\\Python38\\site-packages\\scipy\\optimize\\lbfgsb.py:339: DeprecationWarning: tostring() is deprecated. Use tobytes() instead.\n",
      "  task_str = task.tostring()\n",
      "C:\\Users\\admin\\AppData\\Roaming\\Python\\Python38\\site-packages\\scipy\\optimize\\lbfgsb.py:339: DeprecationWarning: tostring() is deprecated. Use tobytes() instead.\n",
      "  task_str = task.tostring()\n",
      "C:\\Users\\admin\\AppData\\Roaming\\Python\\Python38\\site-packages\\scipy\\optimize\\lbfgsb.py:339: DeprecationWarning: tostring() is deprecated. Use tobytes() instead.\n",
      "  task_str = task.tostring()\n",
      "C:\\Users\\admin\\AppData\\Roaming\\Python\\Python38\\site-packages\\scipy\\optimize\\lbfgsb.py:339: DeprecationWarning: tostring() is deprecated. Use tobytes() instead.\n",
      "  task_str = task.tostring()\n",
      "C:\\Users\\admin\\AppData\\Roaming\\Python\\Python38\\site-packages\\scipy\\optimize\\lbfgsb.py:339: DeprecationWarning: tostring() is deprecated. Use tobytes() instead.\n",
      "  task_str = task.tostring()\n",
      "C:\\Users\\admin\\AppData\\Roaming\\Python\\Python38\\site-packages\\scipy\\optimize\\lbfgsb.py:339: DeprecationWarning: tostring() is deprecated. Use tobytes() instead.\n",
      "  task_str = task.tostring()\n",
      "C:\\Users\\admin\\AppData\\Roaming\\Python\\Python38\\site-packages\\scipy\\optimize\\lbfgsb.py:339: DeprecationWarning: tostring() is deprecated. Use tobytes() instead.\n",
      "  task_str = task.tostring()\n",
      "C:\\Users\\admin\\AppData\\Roaming\\Python\\Python38\\site-packages\\scipy\\optimize\\lbfgsb.py:339: DeprecationWarning: tostring() is deprecated. Use tobytes() instead.\n",
      "  task_str = task.tostring()\n",
      "C:\\Users\\admin\\AppData\\Roaming\\Python\\Python38\\site-packages\\scipy\\optimize\\lbfgsb.py:339: DeprecationWarning: tostring() is deprecated. Use tobytes() instead.\n",
      "  task_str = task.tostring()\n",
      "C:\\Users\\admin\\AppData\\Roaming\\Python\\Python38\\site-packages\\scipy\\optimize\\lbfgsb.py:339: DeprecationWarning: tostring() is deprecated. Use tobytes() instead.\n",
      "  task_str = task.tostring()\n",
      "C:\\Users\\admin\\AppData\\Roaming\\Python\\Python38\\site-packages\\scipy\\optimize\\lbfgsb.py:339: DeprecationWarning: tostring() is deprecated. Use tobytes() instead.\n",
      "  task_str = task.tostring()\n",
      "C:\\Users\\admin\\AppData\\Roaming\\Python\\Python38\\site-packages\\scipy\\optimize\\lbfgsb.py:339: DeprecationWarning: tostring() is deprecated. Use tobytes() instead.\n",
      "  task_str = task.tostring()\n",
      "C:\\Users\\admin\\AppData\\Roaming\\Python\\Python38\\site-packages\\scipy\\optimize\\lbfgsb.py:339: DeprecationWarning: tostring() is deprecated. Use tobytes() instead.\n",
      "  task_str = task.tostring()\n",
      "C:\\Users\\admin\\AppData\\Roaming\\Python\\Python38\\site-packages\\scipy\\optimize\\lbfgsb.py:339: DeprecationWarning: tostring() is deprecated. Use tobytes() instead.\n",
      "  task_str = task.tostring()\n",
      "C:\\Users\\admin\\AppData\\Roaming\\Python\\Python38\\site-packages\\scipy\\optimize\\lbfgsb.py:339: DeprecationWarning: tostring() is deprecated. Use tobytes() instead.\n",
      "  task_str = task.tostring()\n",
      "C:\\Users\\admin\\AppData\\Roaming\\Python\\Python38\\site-packages\\scipy\\optimize\\lbfgsb.py:339: DeprecationWarning: tostring() is deprecated. Use tobytes() instead.\n",
      "  task_str = task.tostring()\n",
      "C:\\Users\\admin\\AppData\\Roaming\\Python\\Python38\\site-packages\\scipy\\optimize\\lbfgsb.py:339: DeprecationWarning: tostring() is deprecated. Use tobytes() instead.\n",
      "  task_str = task.tostring()\n",
      "C:\\Users\\admin\\AppData\\Roaming\\Python\\Python38\\site-packages\\scipy\\optimize\\lbfgsb.py:339: DeprecationWarning: tostring() is deprecated. Use tobytes() instead.\n",
      "  task_str = task.tostring()\n",
      "C:\\Users\\admin\\AppData\\Roaming\\Python\\Python38\\site-packages\\scipy\\optimize\\lbfgsb.py:339: DeprecationWarning: tostring() is deprecated. Use tobytes() instead.\n",
      "  task_str = task.tostring()\n",
      "C:\\Users\\admin\\AppData\\Roaming\\Python\\Python38\\site-packages\\scipy\\optimize\\lbfgsb.py:339: DeprecationWarning: tostring() is deprecated. Use tobytes() instead.\n",
      "  task_str = task.tostring()\n",
      "C:\\Users\\admin\\AppData\\Roaming\\Python\\Python38\\site-packages\\scipy\\optimize\\lbfgsb.py:339: DeprecationWarning: tostring() is deprecated. Use tobytes() instead.\n",
      "  task_str = task.tostring()\n",
      "C:\\Users\\admin\\AppData\\Roaming\\Python\\Python38\\site-packages\\scipy\\optimize\\lbfgsb.py:339: DeprecationWarning: tostring() is deprecated. Use tobytes() instead.\n",
      "  task_str = task.tostring()\n",
      "C:\\Users\\admin\\AppData\\Roaming\\Python\\Python38\\site-packages\\scipy\\optimize\\lbfgsb.py:339: DeprecationWarning: tostring() is deprecated. Use tobytes() instead.\n",
      "  task_str = task.tostring()\n",
      "C:\\Users\\admin\\AppData\\Roaming\\Python\\Python38\\site-packages\\scipy\\optimize\\lbfgsb.py:339: DeprecationWarning: tostring() is deprecated. Use tobytes() instead.\n",
      "  task_str = task.tostring()\n",
      "C:\\Users\\admin\\AppData\\Roaming\\Python\\Python38\\site-packages\\scipy\\optimize\\lbfgsb.py:339: DeprecationWarning: tostring() is deprecated. Use tobytes() instead.\n",
      "  task_str = task.tostring()\n",
      "C:\\Users\\admin\\AppData\\Roaming\\Python\\Python38\\site-packages\\scipy\\optimize\\lbfgsb.py:339: DeprecationWarning: tostring() is deprecated. Use tobytes() instead.\n",
      "  task_str = task.tostring()\n",
      "C:\\Users\\admin\\AppData\\Roaming\\Python\\Python38\\site-packages\\scipy\\optimize\\lbfgsb.py:339: DeprecationWarning: tostring() is deprecated. Use tobytes() instead.\n",
      "  task_str = task.tostring()\n",
      "C:\\Users\\admin\\AppData\\Roaming\\Python\\Python38\\site-packages\\scipy\\optimize\\lbfgsb.py:339: DeprecationWarning: tostring() is deprecated. Use tobytes() instead.\n",
      "  task_str = task.tostring()\n",
      "C:\\Users\\admin\\AppData\\Roaming\\Python\\Python38\\site-packages\\scipy\\optimize\\lbfgsb.py:339: DeprecationWarning: tostring() is deprecated. Use tobytes() instead.\n",
      "  task_str = task.tostring()\n",
      "C:\\Users\\admin\\AppData\\Roaming\\Python\\Python38\\site-packages\\scipy\\optimize\\lbfgsb.py:339: DeprecationWarning: tostring() is deprecated. Use tobytes() instead.\n",
      "  task_str = task.tostring()\n",
      "C:\\Users\\admin\\AppData\\Roaming\\Python\\Python38\\site-packages\\scipy\\optimize\\lbfgsb.py:339: DeprecationWarning: tostring() is deprecated. Use tobytes() instead.\n",
      "  task_str = task.tostring()\n",
      "C:\\Users\\admin\\AppData\\Roaming\\Python\\Python38\\site-packages\\scipy\\optimize\\lbfgsb.py:339: DeprecationWarning: tostring() is deprecated. Use tobytes() instead.\n",
      "  task_str = task.tostring()\n",
      "C:\\Users\\admin\\AppData\\Roaming\\Python\\Python38\\site-packages\\scipy\\optimize\\lbfgsb.py:339: DeprecationWarning: tostring() is deprecated. Use tobytes() instead.\n",
      "  task_str = task.tostring()\n",
      "C:\\Users\\admin\\AppData\\Roaming\\Python\\Python38\\site-packages\\scipy\\optimize\\lbfgsb.py:339: DeprecationWarning: tostring() is deprecated. Use tobytes() instead.\n",
      "  task_str = task.tostring()\n",
      "C:\\Users\\admin\\AppData\\Roaming\\Python\\Python38\\site-packages\\scipy\\optimize\\lbfgsb.py:339: DeprecationWarning: tostring() is deprecated. Use tobytes() instead.\n",
      "  task_str = task.tostring()\n",
      "C:\\Users\\admin\\AppData\\Roaming\\Python\\Python38\\site-packages\\scipy\\optimize\\lbfgsb.py:339: DeprecationWarning: tostring() is deprecated. Use tobytes() instead.\n",
      "  task_str = task.tostring()\n",
      "C:\\Users\\admin\\AppData\\Roaming\\Python\\Python38\\site-packages\\scipy\\optimize\\lbfgsb.py:339: DeprecationWarning: tostring() is deprecated. Use tobytes() instead.\n",
      "  task_str = task.tostring()\n",
      "C:\\Users\\admin\\AppData\\Roaming\\Python\\Python38\\site-packages\\scipy\\optimize\\lbfgsb.py:339: DeprecationWarning: tostring() is deprecated. Use tobytes() instead.\n",
      "  task_str = task.tostring()\n",
      "C:\\Users\\admin\\AppData\\Roaming\\Python\\Python38\\site-packages\\scipy\\optimize\\lbfgsb.py:339: DeprecationWarning: tostring() is deprecated. Use tobytes() instead.\n",
      "  task_str = task.tostring()\n",
      "C:\\Users\\admin\\AppData\\Roaming\\Python\\Python38\\site-packages\\scipy\\optimize\\lbfgsb.py:339: DeprecationWarning: tostring() is deprecated. Use tobytes() instead.\n",
      "  task_str = task.tostring()\n",
      "C:\\Users\\admin\\AppData\\Roaming\\Python\\Python38\\site-packages\\scipy\\optimize\\lbfgsb.py:339: DeprecationWarning: tostring() is deprecated. Use tobytes() instead.\n",
      "  task_str = task.tostring()\n",
      "C:\\Users\\admin\\AppData\\Roaming\\Python\\Python38\\site-packages\\scipy\\optimize\\lbfgsb.py:339: DeprecationWarning: tostring() is deprecated. Use tobytes() instead.\n",
      "  task_str = task.tostring()\n",
      "C:\\Users\\admin\\AppData\\Roaming\\Python\\Python38\\site-packages\\scipy\\optimize\\lbfgsb.py:339: DeprecationWarning: tostring() is deprecated. Use tobytes() instead.\n",
      "  task_str = task.tostring()\n",
      "C:\\Users\\admin\\AppData\\Roaming\\Python\\Python38\\site-packages\\scipy\\optimize\\lbfgsb.py:339: DeprecationWarning: tostring() is deprecated. Use tobytes() instead.\n",
      "  task_str = task.tostring()\n",
      "C:\\Users\\admin\\AppData\\Roaming\\Python\\Python38\\site-packages\\scipy\\optimize\\lbfgsb.py:339: DeprecationWarning: tostring() is deprecated. Use tobytes() instead.\n",
      "  task_str = task.tostring()\n",
      "C:\\Users\\admin\\AppData\\Roaming\\Python\\Python38\\site-packages\\scipy\\optimize\\lbfgsb.py:339: DeprecationWarning: tostring() is deprecated. Use tobytes() instead.\n",
      "  task_str = task.tostring()\n",
      "C:\\Users\\admin\\AppData\\Roaming\\Python\\Python38\\site-packages\\scipy\\optimize\\lbfgsb.py:339: DeprecationWarning: tostring() is deprecated. Use tobytes() instead.\n",
      "  task_str = task.tostring()\n",
      "C:\\Users\\admin\\AppData\\Roaming\\Python\\Python38\\site-packages\\scipy\\optimize\\lbfgsb.py:339: DeprecationWarning: tostring() is deprecated. Use tobytes() instead.\n",
      "  task_str = task.tostring()\n",
      "C:\\Users\\admin\\AppData\\Roaming\\Python\\Python38\\site-packages\\scipy\\optimize\\lbfgsb.py:339: DeprecationWarning: tostring() is deprecated. Use tobytes() instead.\n",
      "  task_str = task.tostring()\n",
      "C:\\Users\\admin\\AppData\\Roaming\\Python\\Python38\\site-packages\\scipy\\optimize\\lbfgsb.py:339: DeprecationWarning: tostring() is deprecated. Use tobytes() instead.\n",
      "  task_str = task.tostring()\n",
      "C:\\Users\\admin\\AppData\\Roaming\\Python\\Python38\\site-packages\\scipy\\optimize\\lbfgsb.py:339: DeprecationWarning: tostring() is deprecated. Use tobytes() instead.\n",
      "  task_str = task.tostring()\n",
      "C:\\Users\\admin\\AppData\\Roaming\\Python\\Python38\\site-packages\\scipy\\optimize\\lbfgsb.py:339: DeprecationWarning: tostring() is deprecated. Use tobytes() instead.\n",
      "  task_str = task.tostring()\n",
      "C:\\Users\\admin\\AppData\\Roaming\\Python\\Python38\\site-packages\\scipy\\optimize\\lbfgsb.py:339: DeprecationWarning: tostring() is deprecated. Use tobytes() instead.\n",
      "  task_str = task.tostring()\n",
      "C:\\Users\\admin\\AppData\\Roaming\\Python\\Python38\\site-packages\\scipy\\optimize\\lbfgsb.py:339: DeprecationWarning: tostring() is deprecated. Use tobytes() instead.\n",
      "  task_str = task.tostring()\n",
      "C:\\Users\\admin\\AppData\\Roaming\\Python\\Python38\\site-packages\\scipy\\optimize\\lbfgsb.py:339: DeprecationWarning: tostring() is deprecated. Use tobytes() instead.\n",
      "  task_str = task.tostring()\n",
      "C:\\Users\\admin\\AppData\\Roaming\\Python\\Python38\\site-packages\\scipy\\optimize\\lbfgsb.py:339: DeprecationWarning: tostring() is deprecated. Use tobytes() instead.\n",
      "  task_str = task.tostring()\n",
      "C:\\Users\\admin\\AppData\\Roaming\\Python\\Python38\\site-packages\\scipy\\optimize\\lbfgsb.py:339: DeprecationWarning: tostring() is deprecated. Use tobytes() instead.\n",
      "  task_str = task.tostring()\n",
      "C:\\Users\\admin\\AppData\\Roaming\\Python\\Python38\\site-packages\\scipy\\optimize\\lbfgsb.py:339: DeprecationWarning: tostring() is deprecated. Use tobytes() instead.\n",
      "  task_str = task.tostring()\n",
      "C:\\Users\\admin\\AppData\\Roaming\\Python\\Python38\\site-packages\\scipy\\optimize\\lbfgsb.py:339: DeprecationWarning: tostring() is deprecated. Use tobytes() instead.\n",
      "  task_str = task.tostring()\n",
      "C:\\Users\\admin\\AppData\\Roaming\\Python\\Python38\\site-packages\\scipy\\optimize\\lbfgsb.py:339: DeprecationWarning: tostring() is deprecated. Use tobytes() instead.\n",
      "  task_str = task.tostring()\n",
      "C:\\Users\\admin\\AppData\\Roaming\\Python\\Python38\\site-packages\\scipy\\optimize\\lbfgsb.py:339: DeprecationWarning: tostring() is deprecated. Use tobytes() instead.\n",
      "  task_str = task.tostring()\n",
      "C:\\Users\\admin\\AppData\\Roaming\\Python\\Python38\\site-packages\\scipy\\optimize\\lbfgsb.py:339: DeprecationWarning: tostring() is deprecated. Use tobytes() instead.\n",
      "  task_str = task.tostring()\n",
      "C:\\Users\\admin\\AppData\\Roaming\\Python\\Python38\\site-packages\\scipy\\optimize\\lbfgsb.py:339: DeprecationWarning: tostring() is deprecated. Use tobytes() instead.\n",
      "  task_str = task.tostring()\n",
      "C:\\Users\\admin\\AppData\\Roaming\\Python\\Python38\\site-packages\\scipy\\optimize\\lbfgsb.py:339: DeprecationWarning: tostring() is deprecated. Use tobytes() instead.\n",
      "  task_str = task.tostring()\n",
      "C:\\Users\\admin\\AppData\\Roaming\\Python\\Python38\\site-packages\\scipy\\optimize\\lbfgsb.py:339: DeprecationWarning: tostring() is deprecated. Use tobytes() instead.\n",
      "  task_str = task.tostring()\n",
      "C:\\Users\\admin\\AppData\\Roaming\\Python\\Python38\\site-packages\\scipy\\optimize\\lbfgsb.py:339: DeprecationWarning: tostring() is deprecated. Use tobytes() instead.\n",
      "  task_str = task.tostring()\n",
      "C:\\Users\\admin\\AppData\\Roaming\\Python\\Python38\\site-packages\\scipy\\optimize\\lbfgsb.py:339: DeprecationWarning: tostring() is deprecated. Use tobytes() instead.\n",
      "  task_str = task.tostring()\n",
      "C:\\Users\\admin\\AppData\\Roaming\\Python\\Python38\\site-packages\\scipy\\optimize\\lbfgsb.py:339: DeprecationWarning: tostring() is deprecated. Use tobytes() instead.\n",
      "  task_str = task.tostring()\n",
      "C:\\Users\\admin\\AppData\\Roaming\\Python\\Python38\\site-packages\\scipy\\optimize\\lbfgsb.py:339: DeprecationWarning: tostring() is deprecated. Use tobytes() instead.\n",
      "  task_str = task.tostring()\n",
      "C:\\Users\\admin\\AppData\\Roaming\\Python\\Python38\\site-packages\\scipy\\optimize\\lbfgsb.py:339: DeprecationWarning: tostring() is deprecated. Use tobytes() instead.\n",
      "  task_str = task.tostring()\n",
      "C:\\Users\\admin\\AppData\\Roaming\\Python\\Python38\\site-packages\\scipy\\optimize\\lbfgsb.py:339: DeprecationWarning: tostring() is deprecated. Use tobytes() instead.\n",
      "  task_str = task.tostring()\n",
      "C:\\Users\\admin\\AppData\\Roaming\\Python\\Python38\\site-packages\\scipy\\optimize\\lbfgsb.py:339: DeprecationWarning: tostring() is deprecated. Use tobytes() instead.\n",
      "  task_str = task.tostring()\n",
      "C:\\Users\\admin\\AppData\\Roaming\\Python\\Python38\\site-packages\\scipy\\optimize\\lbfgsb.py:339: DeprecationWarning: tostring() is deprecated. Use tobytes() instead.\n",
      "  task_str = task.tostring()\n",
      "C:\\Users\\admin\\AppData\\Roaming\\Python\\Python38\\site-packages\\scipy\\optimize\\lbfgsb.py:339: DeprecationWarning: tostring() is deprecated. Use tobytes() instead.\n",
      "  task_str = task.tostring()\n",
      "C:\\Users\\admin\\AppData\\Roaming\\Python\\Python38\\site-packages\\scipy\\optimize\\lbfgsb.py:339: DeprecationWarning: tostring() is deprecated. Use tobytes() instead.\n",
      "  task_str = task.tostring()\n",
      "C:\\Users\\admin\\AppData\\Roaming\\Python\\Python38\\site-packages\\scipy\\optimize\\lbfgsb.py:339: DeprecationWarning: tostring() is deprecated. Use tobytes() instead.\n",
      "  task_str = task.tostring()\n",
      "C:\\Users\\admin\\AppData\\Roaming\\Python\\Python38\\site-packages\\scipy\\optimize\\lbfgsb.py:339: DeprecationWarning: tostring() is deprecated. Use tobytes() instead.\n",
      "  task_str = task.tostring()\n",
      "C:\\Users\\admin\\AppData\\Roaming\\Python\\Python38\\site-packages\\scipy\\optimize\\lbfgsb.py:339: DeprecationWarning: tostring() is deprecated. Use tobytes() instead.\n",
      "  task_str = task.tostring()\n",
      "C:\\Users\\admin\\AppData\\Roaming\\Python\\Python38\\site-packages\\scipy\\optimize\\lbfgsb.py:339: DeprecationWarning: tostring() is deprecated. Use tobytes() instead.\n",
      "  task_str = task.tostring()\n",
      "C:\\Users\\admin\\AppData\\Roaming\\Python\\Python38\\site-packages\\scipy\\optimize\\lbfgsb.py:339: DeprecationWarning: tostring() is deprecated. Use tobytes() instead.\n",
      "  task_str = task.tostring()\n",
      "C:\\Users\\admin\\AppData\\Roaming\\Python\\Python38\\site-packages\\scipy\\optimize\\lbfgsb.py:339: DeprecationWarning: tostring() is deprecated. Use tobytes() instead.\n",
      "  task_str = task.tostring()\n",
      "C:\\Users\\admin\\AppData\\Roaming\\Python\\Python38\\site-packages\\scipy\\optimize\\lbfgsb.py:339: DeprecationWarning: tostring() is deprecated. Use tobytes() instead.\n",
      "  task_str = task.tostring()\n",
      "C:\\Users\\admin\\AppData\\Roaming\\Python\\Python38\\site-packages\\scipy\\optimize\\lbfgsb.py:339: DeprecationWarning: tostring() is deprecated. Use tobytes() instead.\n",
      "  task_str = task.tostring()\n",
      "C:\\Users\\admin\\AppData\\Roaming\\Python\\Python38\\site-packages\\scipy\\optimize\\lbfgsb.py:339: DeprecationWarning: tostring() is deprecated. Use tobytes() instead.\n",
      "  task_str = task.tostring()\n",
      "C:\\Users\\admin\\AppData\\Roaming\\Python\\Python38\\site-packages\\scipy\\optimize\\lbfgsb.py:360: DeprecationWarning: tostring() is deprecated. Use tobytes() instead.\n",
      "  task_str = task.tostring().strip(b'\\x00').strip()\n"
     ]
    }
   ],
   "source": [
    "#Building logistic Regression as Step-1\n",
    "from sklearn.linear_model import LogisticRegression\n",
    "classifier = LogisticRegression(random_state=1)\n",
    "classifier.fit(x_train, y_train)\n",
    "y_pred = classifier.predict(x_test)\n",
    "y_pred_tr = classifier.predict(x_train)"
   ]
  },
  {
   "cell_type": "code",
   "execution_count": 40,
   "metadata": {},
   "outputs": [
    {
     "name": "stdout",
     "output_type": "stream",
     "text": [
      "Test accuracy 0.9120063609859528\n",
      "Train accuracy 0.929074522871857\n"
     ]
    },
    {
     "name": "stderr",
     "output_type": "stream",
     "text": [
      "C:\\Anaconda3\\lib\\site-packages\\ipykernel\\ipkernel.py:287: DeprecationWarning: `should_run_async` will not call `transform_cell` automatically in the future. Please pass the result to `transformed_cell` argument and any exception that happen during thetransform in `preprocessing_exc_tuple` in IPython 7.17 and above.\n",
      "  and should_run_async(code)\n"
     ]
    }
   ],
   "source": [
    "#Performance Metrics \n",
    "print('Test accuracy', sum(y_test == y_pred)/len(y_test))\n",
    "print('Train accuracy', sum(y_train == y_pred_tr)/len(y_train))"
   ]
  },
  {
   "cell_type": "code",
   "execution_count": 41,
   "metadata": {},
   "outputs": [
    {
     "name": "stderr",
     "output_type": "stream",
     "text": [
      "C:\\Anaconda3\\lib\\site-packages\\ipykernel\\ipkernel.py:287: DeprecationWarning: `should_run_async` will not call `transform_cell` automatically in the future. Please pass the result to `transformed_cell` argument and any exception that happen during thetransform in `preprocessing_exc_tuple` in IPython 7.17 and above.\n",
      "  and should_run_async(code)\n"
     ]
    }
   ],
   "source": [
    "# Random Forests\n",
    "from sklearn.ensemble import RandomForestClassifier\n",
    "classifier = RandomForestClassifier()\n",
    "classifier.fit(x_train, y_train)\n",
    "y_pred = classifier.predict(x_test)\n",
    "y_pred_tr = classifier.predict(x_train)"
   ]
  },
  {
   "cell_type": "code",
   "execution_count": 42,
   "metadata": {},
   "outputs": [
    {
     "name": "stdout",
     "output_type": "stream",
     "text": [
      "Test accuracy 0.9356833642547928\n",
      "Train accuracy 0.9995834595577098\n"
     ]
    },
    {
     "name": "stderr",
     "output_type": "stream",
     "text": [
      "C:\\Anaconda3\\lib\\site-packages\\ipykernel\\ipkernel.py:287: DeprecationWarning: `should_run_async` will not call `transform_cell` automatically in the future. Please pass the result to `transformed_cell` argument and any exception that happen during thetransform in `preprocessing_exc_tuple` in IPython 7.17 and above.\n",
      "  and should_run_async(code)\n"
     ]
    }
   ],
   "source": [
    "print('Test accuracy', sum(y_test == y_pred)/len(y_test))\n",
    "print('Train accuracy', sum(y_train == y_pred_tr)/len(y_train))"
   ]
  },
  {
   "cell_type": "code",
   "execution_count": null,
   "metadata": {},
   "outputs": [],
   "source": []
  }
 ],
 "metadata": {
  "kernelspec": {
   "display_name": "Python 3",
   "language": "python",
   "name": "python3"
  },
  "language_info": {
   "codemirror_mode": {
    "name": "ipython",
    "version": 3
   },
   "file_extension": ".py",
   "mimetype": "text/x-python",
   "name": "python",
   "nbconvert_exporter": "python",
   "pygments_lexer": "ipython3",
   "version": "3.8.8"
  }
 },
 "nbformat": 4,
 "nbformat_minor": 2
}
